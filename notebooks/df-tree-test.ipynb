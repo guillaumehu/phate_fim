{
 "cells": [
  {
   "cell_type": "code",
   "execution_count": 35,
   "metadata": {},
   "outputs": [],
   "source": [
    "import torch\n",
    "import phate\n",
    "import scprep\n",
    "import numpy as np\n",
    "import matplotlib.pyplot as plt\n",
    "from random import shuffle"
   ]
  },
  {
   "cell_type": "code",
   "execution_count": 36,
   "metadata": {},
   "outputs": [],
   "source": [
    "tree_data, tree_clusters = phate.tree.gen_dla(n_dim=10, n_branch=5, branch_length=30)"
   ]
  },
  {
   "cell_type": "code",
   "execution_count": 37,
   "metadata": {},
   "outputs": [
    {
     "name": "stdout",
     "output_type": "stream",
     "text": [
      "Calculating PHATE...\n",
      "  Running PHATE on 150 observations and 10 variables.\n",
      "  Calculating graph and diffusion operator...\n",
      "    Calculating KNN search...\n",
      "    Calculating affinities...\n",
      "  Calculating optimal t...\n",
      "    Automatically selected t = 25\n",
      "  Calculated optimal t in 0.01 seconds.\n",
      "  Calculating diffusion potential...\n",
      "  Calculating metric MDS...\n",
      "  Calculated metric MDS in 0.01 seconds.\n",
      "Calculated PHATE in 0.04 seconds.\n"
     ]
    }
   ],
   "source": [
    "phate_operator = phate.PHATE(random_state=42)\n",
    "tree_phate = phate_operator.fit_transform(tree_data)"
   ]
  },
  {
   "cell_type": "code",
   "execution_count": 38,
   "metadata": {},
   "outputs": [
    {
     "name": "stdout",
     "output_type": "stream",
     "text": [
      "(150, 10)\n",
      "(150, 2)\n",
      "(150,)\n"
     ]
    },
    {
     "data": {
      "image/png": "[encoded data removed]",
      "text/plain": [
       "<Figure size 432x288 with 1 Axes>"
      ]
     },
     "metadata": {
      "needs_background": "light"
     },
     "output_type": "display_data"
    }
   ],
   "source": [
    "cax = scprep.plot.scatter2d(tree_phate, c=tree_clusters)\n",
    "print(tree_data.shape)\n",
    "print(tree_phate.shape)\n",
    "print(tree_clusters.shape)"
   ]
  },
  {
   "cell_type": "code",
   "execution_count": 39,
   "metadata": {},
   "outputs": [],
   "source": [
    "X = torch.tensor(tree_data, requires_grad=True)\n",
    "n = 150\n",
    "random_indices = np.random.randint(tree_data.shape[0], size=n)"
   ]
  },
  {
   "cell_type": "code",
   "execution_count": 40,
   "metadata": {},
   "outputs": [
    {
     "name": "stdout",
     "output_type": "stream",
     "text": [
      "Calculating PHATE...\n",
      "  Running PHATE on 150 observations and 1500 variables.\n",
      "  Calculating graph and diffusion operator...\n",
      "    Calculating PCA...\n",
      "    Calculated PCA in 0.02 seconds.\n",
      "    Calculating KNN search...\n",
      "    Calculating affinities...\n",
      "  Calculated graph and diffusion operator in 0.04 seconds.\n",
      "  Calculating diffusion potential...\n",
      "  Calculating metric MDS...\n",
      "    Using SMACOF because SGD returned NaN\n",
      "  Calculated metric MDS in 0.02 seconds.\n",
      "Calculated PHATE in 0.06 seconds.\n",
      "CPU times: user 4min 18s, sys: 805 ms, total: 4min 19s\n",
      "Wall time: 32.7 s\n"
     ]
    }
   ],
   "source": [
    "%%time\n",
    "\n",
    "\n",
    "def torch_phate(X, kernel=\"gaussian\", bandwidth=1000, t=10):\n",
    "    dists = torch.norm(X[:, None] - X, dim=2, p=\"fro\")\n",
    "\n",
    "    def gaussian_kernel(x):\n",
    "        return torch.exp(-(dists**2) / bandwidth)\n",
    "\n",
    "    kernel = gaussian_kernel(dists)\n",
    "    p = kernel / kernel.sum(axis=0)[:, None]\n",
    "    pt = torch.matrix_power(p, t)\n",
    "    log_p = torch.log(pt)\n",
    "    return pt\n",
    "\n",
    "\n",
    "P = torch_phate(X[random_indices])\n",
    "\n",
    "# assert torch.abs(torch.exp(P[0]).sum() - 1) < 1e-3\n",
    "\n",
    "J = torch.autograd.functional.jacobian(torch_phate, X[random_indices])\n",
    "# shape: N_output [N x N], input [N x D]\n",
    "\n",
    "Jt = J.transpose(1, 2)\n",
    "\n",
    "fischer_information = torch.sum(J * Jt * P[:, :, None, None], dim=1)\n",
    "fischer_information_flat = fischer_information.reshape(n, -1)\n",
    "\n",
    "\n",
    "phate_operator_inf = phate.PHATE(knn=5, decay=20, t=150, random_state=42)\n",
    "tree_phate_inf = phate_operator_inf.fit_transform(\n",
    "    fischer_information_flat.detach().numpy()\n",
    ")"
   ]
  },
  {
   "cell_type": "code",
   "execution_count": null,
   "metadata": {},
   "outputs": [],
   "source": [
    "torch.autograd.functional.jacobian(torch_phate, X).shape"
   ]
  },
  {
   "cell_type": "code",
   "execution_count": null,
   "metadata": {},
   "outputs": [],
   "source": [
    "fischer_information.shape"
   ]
  },
  {
   "cell_type": "markdown",
   "metadata": {},
   "source": [
    "With the Autoencoder"
   ]
  },
  {
   "cell_type": "code",
   "execution_count": 21,
   "metadata": {},
   "outputs": [],
   "source": [
    "import torch.nn as nn\n",
    "\n",
    "\n",
    "class Autoencoder(nn.Module):\n",
    "    def __init__(\n",
    "        self,\n",
    "        encoder_layer=[10, 10, 10],\n",
    "        decoder_layer=[10, 10, 10],\n",
    "        activation=\"ReLU\",\n",
    "        use_cuda=False,\n",
    "    ) -> None:\n",
    "        super().__init__()\n",
    "        device = \"cuda\" if use_cuda else \"cpu\"\n",
    "        encoder = []\n",
    "        for i0, i1 in zip(encoder_layer, encoder_layer[1:]):\n",
    "            encoder.append(nn.Linear(i0, i1))\n",
    "            if i1 == 10:\n",
    "                encoder.append(getattr(nn, \"ReLU\")())\n",
    "            else:\n",
    "                encoder.append(getattr(nn, \"ReLU\")())\n",
    "        print(encoder)\n",
    "        self.encoder = nn.Sequential(*encoder).to(device)\n",
    "        # decoder=[]\n",
    "        # for i0,i1 in zip(decoder_layer,decoder_layer[1:]):\n",
    "        #   decoder.append(nn.Linear(i0, i1))\n",
    "        #   decoder.append(getattr(nn, activation)())\n",
    "        # self.decoder = nn.Sequential(*decoder).to(device)\n",
    "\n",
    "    # def encode(self,x):\n",
    "    #   return self.encoder(x)\n",
    "\n",
    "    # def decoder(self,x):\n",
    "    #   return self.decoder(x)\n",
    "\n",
    "    def forward(self, x):\n",
    "        x = self.encoder(x)\n",
    "        return x  # self.decoder(x)"
   ]
  },
  {
   "cell_type": "code",
   "execution_count": 45,
   "metadata": {},
   "outputs": [
    {
     "name": "stdout",
     "output_type": "stream",
     "text": [
      "[Linear(in_features=10, out_features=10, bias=True), ReLU(), Linear(in_features=10, out_features=2, bias=True), ReLU()]\n",
      "Loss distance : tensor(14.8837, device='cuda:0', grad_fn=<MseLossBackward0>)\n",
      "Loss distance : tensor(1.2423, device='cuda:0', grad_fn=<MseLossBackward0>)\n",
      "Loss distance : tensor(0.2796, device='cuda:0', grad_fn=<MseLossBackward0>)\n",
      "Loss distance : tensor(0.0995, device='cuda:0', grad_fn=<MseLossBackward0>)\n",
      "Loss distance : tensor(0.0439, device='cuda:0', grad_fn=<MseLossBackward0>)\n",
      "Loss distance : tensor(0.0229, device='cuda:0', grad_fn=<MseLossBackward0>)\n",
      "Loss distance : tensor(0.0118, device='cuda:0', grad_fn=<MseLossBackward0>)\n",
      "Loss distance : tensor(0.0061, device='cuda:0', grad_fn=<MseLossBackward0>)\n",
      "Loss distance : tensor(0.0034, device='cuda:0', grad_fn=<MseLossBackward0>)\n",
      "Loss distance : tensor(0.0020, device='cuda:0', grad_fn=<MseLossBackward0>)\n"
     ]
    }
   ],
   "source": [
    "use_cuda = torch.cuda.is_available()\n",
    "phate_ae = Autoencoder(\n",
    "    encoder_layer=[10, 10, 2], decoder_layer=[10, 10, 10], use_cuda=use_cuda\n",
    ")\n",
    "optimizer = torch.optim.AdamW(phate_ae.parameters(), lr=0.0001)\n",
    "\n",
    "n_epochs = 5000\n",
    "n = 100\n",
    "\n",
    "fullind = np.arange(tree_data.shape[0])\n",
    "random_indices = np.random.choice(\n",
    "    fullind, size=n, replace=False\n",
    ")  # Get 100 random indices\n",
    "\n",
    "\n",
    "for epoch in range(n_epochs):\n",
    "    np.random.shuffle(random_indices)\n",
    "    optimizer.zero_grad()\n",
    "\n",
    "    X_sample = X[random_indices].float()  # Get 100 samples\n",
    "    P = torch_phate(X_sample).cuda()  # Get log proability\n",
    "\n",
    "    noise = (\n",
    "        (0.05 * torch.randn(X_sample.size())).cuda()\n",
    "        if use_cuda\n",
    "        else 0.05 * torch.randn(X_sample.size())\n",
    "    )  # define noise from Gaussina distribution\n",
    "    encode_sample = phate_ae.forward(\n",
    "        X_sample.cuda() + noise.cuda()\n",
    "    )  # encode phate into 2 dimensions\n",
    "\n",
    "    loss = nn.MSELoss()(\n",
    "        torch.cdist(encode_sample, encode_sample) ** 2, torch.cdist(P, P) ** 2\n",
    "    )  # Loss between encoded space and diffusion distance\n",
    "\n",
    "    loss.backward()\n",
    "    optimizer.step()\n",
    "\n",
    "    if epoch % 500 == 0:\n",
    "        print(\"Loss distance :\", loss)"
   ]
  },
  {
   "cell_type": "code",
   "execution_count": 15,
   "metadata": {},
   "outputs": [
    {
     "name": "stdout",
     "output_type": "stream",
     "text": [
      "Linear(in_features=10, out_features=10, bias=True)\n"
     ]
    }
   ],
   "source": [
    "print(phate_ae.encoder[0])"
   ]
  },
  {
   "cell_type": "code",
   "execution_count": 44,
   "metadata": {},
   "outputs": [
    {
     "name": "stdout",
     "output_type": "stream",
     "text": [
      "[array([[-0.06545092,  0.01784505,  0.077741  ,  0.09808814,  0.04512549,\n",
      "        -0.03124253,  0.01435452, -0.0102352 ,  0.10941847, -0.12080658],\n",
      "       [ 0.00657894,  0.10389663, -0.03017157, -0.06703389, -0.10243928,\n",
      "         0.03304972, -0.03010248, -0.09961281, -0.01694007,  0.07030053]],\n",
      "      dtype=float32), array([[0., 0., 0., 0., 0., 0., 0., 0., 0., 0.],\n",
      "       [0., 0., 0., 0., 0., 0., 0., 0., 0., 0.]], dtype=float32), array([[-0.06371399,  0.1942225 ,  0.0232567 , -0.01577149, -0.15679063,\n",
      "        -0.00026444,  0.05681403, -0.04294632,  0.01409182, -0.13910386],\n",
      "       [ 0.        ,  0.        ,  0.        ,  0.        ,  0.        ,\n",
      "         0.        ,  0.        ,  0.        ,  0.        ,  0.        ]],\n",
      "      dtype=float32), array([[-0.13903782,  0.14285395,  0.11235856,  0.0331398 ,  0.0490386 ,\n",
      "        -0.07284128, -0.00730211, -0.09104583,  0.08492512, -0.15581381],\n",
      "       [ 0.        ,  0.        ,  0.        ,  0.        ,  0.        ,\n",
      "         0.        ,  0.        ,  0.        ,  0.        ,  0.        ]],\n",
      "      dtype=float32), array([[0., 0., 0., 0., 0., 0., 0., 0., 0., 0.],\n",
      "       [0., 0., 0., 0., 0., 0., 0., 0., 0., 0.]], dtype=float32), array([[-0.05448645,  0.21308976,  0.16849409,  0.01286409, -0.06058661,\n",
      "        -0.05014221,  0.17927146,  0.03498287,  0.06481989, -0.15920484],\n",
      "       [ 0.        ,  0.        ,  0.        ,  0.        ,  0.        ,\n",
      "         0.        ,  0.        ,  0.        ,  0.        ,  0.        ]],\n",
      "      dtype=float32), array([[-0.03959619,  0.06508435,  0.1034581 ,  0.06063335, -0.04260228,\n",
      "        -0.06589393,  0.00807368, -0.03545878,  0.016863  , -0.14935029],\n",
      "       [ 0.        ,  0.        ,  0.        ,  0.        ,  0.        ,\n",
      "         0.        ,  0.        ,  0.        ,  0.        ,  0.        ]],\n",
      "      dtype=float32), array([[-0.07186286,  0.1782502 ,  0.0905763 , -0.01028331, -0.08769937,\n",
      "        -0.02636037,  0.10723906,  0.01810873,  0.0853435 , -0.06991786],\n",
      "       [ 0.        ,  0.        ,  0.        ,  0.        ,  0.        ,\n",
      "         0.        ,  0.        ,  0.        ,  0.        ,  0.        ]],\n",
      "      dtype=float32), array([[-0.11542511,  0.0853311 ,  0.00267207, -0.05619295, -0.00987189,\n",
      "        -0.02713952, -0.04257172, -0.09265378, -0.02790063, -0.06409524],\n",
      "       [ 0.        ,  0.        ,  0.        ,  0.        ,  0.        ,\n",
      "         0.        ,  0.        ,  0.        ,  0.        ,  0.        ]],\n",
      "      dtype=float32), array([[0., 0., 0., 0., 0., 0., 0., 0., 0., 0.],\n",
      "       [0., 0., 0., 0., 0., 0., 0., 0., 0., 0.]], dtype=float32), array([[0., 0., 0., 0., 0., 0., 0., 0., 0., 0.],\n",
      "       [0., 0., 0., 0., 0., 0., 0., 0., 0., 0.]], dtype=float32), array([[-0.04474343,  0.01381935, -0.00298548,  0.08385929,  0.019981  ,\n",
      "         0.02231671,  0.06437287,  0.11587761,  0.10065013, -0.16434038],\n",
      "       [ 0.        ,  0.        ,  0.        ,  0.        ,  0.        ,\n",
      "         0.        ,  0.        ,  0.        ,  0.        ,  0.        ]],\n",
      "      dtype=float32), array([[0., 0., 0., 0., 0., 0., 0., 0., 0., 0.],\n",
      "       [0., 0., 0., 0., 0., 0., 0., 0., 0., 0.]], dtype=float32), array([[-0.14805065,  0.07344954,  0.09984423,  0.04256996, -0.0678305 ,\n",
      "        -0.07623377,  0.03302327,  0.07304657,  0.08638877, -0.19824943],\n",
      "       [ 0.        ,  0.        ,  0.        ,  0.        ,  0.        ,\n",
      "         0.        ,  0.        ,  0.        ,  0.        ,  0.        ]],\n",
      "      dtype=float32), array([[-0.08609298,  0.13235769,  0.09241027,  0.05275496, -0.1059167 ,\n",
      "        -0.04506488,  0.07624483,  0.03073041,  0.05344693, -0.22062013],\n",
      "       [ 0.        ,  0.        ,  0.        ,  0.        ,  0.        ,\n",
      "         0.        ,  0.        ,  0.        ,  0.        ,  0.        ]],\n",
      "      dtype=float32), array([[-0.06398786,  0.23081516,  0.08360556, -0.03007755, -0.14043543,\n",
      "         0.00624993,  0.12449053, -0.03537131,  0.03538003, -0.1254741 ],\n",
      "       [ 0.        ,  0.        ,  0.        ,  0.        ,  0.        ,\n",
      "         0.        ,  0.        ,  0.        ,  0.        ,  0.        ]],\n",
      "      dtype=float32), array([[-0.06545092,  0.01784505,  0.077741  ,  0.09808814,  0.04512549,\n",
      "        -0.03124253,  0.01435452, -0.0102352 ,  0.10941847, -0.12080658],\n",
      "       [ 0.00657894,  0.10389663, -0.03017157, -0.06703389, -0.10243928,\n",
      "         0.03304972, -0.03010248, -0.09961281, -0.01694007,  0.07030053]],\n",
      "      dtype=float32), array([[-0.11833033,  0.13882825,  0.03163208,  0.01891095,  0.0238941 ,\n",
      "        -0.01928204,  0.04271623,  0.03506698,  0.07615678, -0.19934762],\n",
      "       [ 0.        ,  0.        ,  0.        ,  0.        ,  0.        ,\n",
      "         0.        ,  0.        ,  0.        ,  0.        ,  0.        ]],\n",
      "      dtype=float32), array([[0., 0., 0., 0., 0., 0., 0., 0., 0., 0.],\n",
      "       [0., 0., 0., 0., 0., 0., 0., 0., 0., 0.]], dtype=float32), array([[-0.11644412,  0.15418163,  0.17592806,  0.00267909, -0.0225004 ,\n",
      "        -0.08131111,  0.1360499 ,  0.07729904,  0.09776172, -0.13683414],\n",
      "       [ 0.        ,  0.        ,  0.        ,  0.        ,  0.        ,\n",
      "         0.        ,  0.        ,  0.        ,  0.        ,  0.        ]],\n",
      "      dtype=float32), array([[-0.18553463,  0.2101273 ,  0.10131072,  0.02526141, -0.01427583,\n",
      "        -0.05201223,  0.06086905, -0.02485664,  0.12150906, -0.22708365],\n",
      "       [ 0.        ,  0.        ,  0.        ,  0.        ,  0.        ,\n",
      "         0.        ,  0.        ,  0.        ,  0.        ,  0.        ]],\n",
      "      dtype=float32), array([[-3.4932457e-03,  7.6753177e-02,  7.0307031e-02,  1.0827315e-01,\n",
      "         7.0392862e-03, -7.3626637e-05,  5.7576083e-02, -5.2551363e-02,\n",
      "         7.6476634e-02, -1.4317729e-01],\n",
      "       [ 0.0000000e+00,  0.0000000e+00,  0.0000000e+00,  0.0000000e+00,\n",
      "         0.0000000e+00,  0.0000000e+00,  0.0000000e+00,  0.0000000e+00,\n",
      "         0.0000000e+00,  0.0000000e+00]], dtype=float32), array([[-0.07183354,  0.07155491,  0.04267992,  0.02678934,  0.08720852,\n",
      "        -0.04011109, -0.02545492, -0.03112221,  0.03957284, -0.12807778],\n",
      "       [ 0.        ,  0.        ,  0.        ,  0.        ,  0.        ,\n",
      "         0.        ,  0.        ,  0.        ,  0.        ,  0.        ]],\n",
      "      dtype=float32), array([[-0.09073667,  0.23037982,  0.12942766, -0.02525074, -0.01506851,\n",
      "        -0.02501934,  0.19127841,  0.00914843,  0.02646954, -0.17783676],\n",
      "       [ 0.05205932,  0.11191799,  0.03901847, -0.09210686, -0.15303922,\n",
      "         0.01501808, -0.10623275, -0.18808061, -0.07657726,  0.06897057]],\n",
      "      dtype=float32), array([[-0.132301  ,  0.15410936,  0.0371333 , -0.0021893 , -0.04520871,\n",
      "        -0.01707448,  0.10268683, -0.01026972,  0.00177405, -0.22055456],\n",
      "       [ 0.        ,  0.        ,  0.        ,  0.        ,  0.        ,\n",
      "         0.        ,  0.        ,  0.        ,  0.        ,  0.        ]],\n",
      "      dtype=float32), array([[-0.08408019,  0.14007732,  0.10413986,  0.06035412, -0.07350675,\n",
      "        -0.02266514,  0.16341136,  0.02246044,  0.07502696, -0.18419534],\n",
      "       [ 0.        ,  0.        ,  0.        ,  0.        ,  0.        ,\n",
      "         0.        ,  0.        ,  0.        ,  0.        ,  0.        ]],\n",
      "      dtype=float32), array([[-0.10667389,  0.12874964,  0.04057038,  0.09081483, -0.00196775,\n",
      "        -0.01419532,  0.02005936, -0.14588444,  0.06219036, -0.20317501],\n",
      "       [ 0.        ,  0.        ,  0.        ,  0.        ,  0.        ,\n",
      "         0.        ,  0.        ,  0.        ,  0.        ,  0.        ]],\n",
      "      dtype=float32), array([[-0.01016462,  0.17598468,  0.07947508,  0.08404022, -0.07490008,\n",
      "        -0.01610354,  0.0594958 ,  0.03375095,  0.09488783, -0.22178388],\n",
      "       [ 0.        ,  0.        ,  0.        ,  0.        ,  0.        ,\n",
      "         0.        ,  0.        ,  0.        ,  0.        ,  0.        ]],\n",
      "      dtype=float32), array([[-0.02962384,  0.1981717 , -0.02162398,  0.02426915, -0.13955902,\n",
      "         0.04315612,  0.01914991, -0.05176893,  0.05212544, -0.16935563],\n",
      "       [ 0.        ,  0.        ,  0.        ,  0.        ,  0.        ,\n",
      "         0.        ,  0.        ,  0.        ,  0.        ,  0.        ]],\n",
      "      dtype=float32), array([[-0.02962384,  0.1981717 , -0.02162398,  0.02426915, -0.13955902,\n",
      "         0.04315612,  0.01914991, -0.05176893,  0.05212544, -0.16935563],\n",
      "       [ 0.        ,  0.        ,  0.        ,  0.        ,  0.        ,\n",
      "         0.        ,  0.        ,  0.        ,  0.        ,  0.        ]],\n",
      "      dtype=float32), array([[-0.132301  ,  0.15410936,  0.0371333 , -0.0021893 , -0.04520871,\n",
      "        -0.01707448,  0.10268683, -0.01026972,  0.00177405, -0.22055456],\n",
      "       [ 0.        ,  0.        ,  0.        ,  0.        ,  0.        ,\n",
      "         0.        ,  0.        ,  0.        ,  0.        ,  0.        ]],\n",
      "      dtype=float32), array([[-0.09996422,  0.21151257, -0.01580974, -0.05388633, -0.11127253,\n",
      "         0.02485843,  0.06882099, -0.06878075, -0.02425852, -0.15773578],\n",
      "       [ 0.        ,  0.        ,  0.        ,  0.        ,  0.        ,\n",
      "         0.        ,  0.        ,  0.        ,  0.        ,  0.        ]],\n",
      "      dtype=float32), array([[-0.18279156,  0.19451806, -0.01598653,  0.0210544 , -0.0932598 ,\n",
      "         0.01739774,  0.01114312, -0.0958901 ,  0.10568356, -0.18925537],\n",
      "       [ 0.        ,  0.        ,  0.        ,  0.        ,  0.        ,\n",
      "         0.        ,  0.        ,  0.        ,  0.        ,  0.        ]],\n",
      "      dtype=float32), array([[0., 0., 0., 0., 0., 0., 0., 0., 0., 0.],\n",
      "       [0., 0., 0., 0., 0., 0., 0., 0., 0., 0.]], dtype=float32), array([[-0.07932217,  0.09699994, -0.030479  , -0.00855316,  0.03976967,\n",
      "         0.03868078,  0.00693068, -0.10974637,  0.03171301, -0.05792224],\n",
      "       [ 0.        ,  0.        ,  0.        ,  0.        ,  0.        ,\n",
      "         0.        ,  0.        ,  0.        ,  0.        ,  0.        ]],\n",
      "      dtype=float32), array([[-0.07374907,  0.16289681, -0.05371967,  0.00594855, -0.04130486,\n",
      "         0.0356687 ,  0.0139054 , -0.02412333,  0.06373857, -0.13243131],\n",
      "       [ 0.        ,  0.        ,  0.        ,  0.        ,  0.        ,\n",
      "         0.        ,  0.        ,  0.        ,  0.        ,  0.        ]],\n",
      "      dtype=float32), array([[-0.02202307,  0.26285923, -0.01701531, -0.01500192, -0.04784597,\n",
      "         0.07621949,  0.13923849, -0.07403018,  0.0387624 , -0.12247476],\n",
      "       [ 0.        ,  0.        ,  0.        ,  0.        ,  0.        ,\n",
      "         0.        ,  0.        ,  0.        ,  0.        ,  0.        ]],\n",
      "      dtype=float32), array([[-0.08771975,  0.17817794, -0.04821846, -0.01515169, -0.11040767,\n",
      "         0.03787626,  0.07387599, -0.06946003, -0.01064417, -0.15363826],\n",
      "       [ 0.        ,  0.        ,  0.        ,  0.        ,  0.        ,\n",
      "         0.        ,  0.        ,  0.        ,  0.        ,  0.        ]],\n",
      "      dtype=float32), array([[-0.02202307,  0.26285923, -0.01701531, -0.01500192, -0.04784597,\n",
      "         0.07621949,  0.13923849, -0.07403018,  0.0387624 , -0.12247476],\n",
      "       [ 0.        ,  0.        ,  0.        ,  0.        ,  0.        ,\n",
      "         0.        ,  0.        ,  0.        ,  0.        ,  0.        ]],\n",
      "      dtype=float32), array([[ 0.09155142,  0.13192056,  0.05692025, -0.03730502, -0.02516607,\n",
      "         0.00369184,  0.05908165, -0.02979373, -0.04314891,  0.0026198 ],\n",
      "       [-0.03395123,  0.0814667 ,  0.0260693 , -0.07458177, -0.06032476,\n",
      "         0.01952962, -0.00231536, -0.05760729, -0.07173763, -0.07638162]],\n",
      "      dtype=float32), array([[ 0.0313471 ,  0.01955844,  0.07241657,  0.04424765,  0.09621557,\n",
      "        -0.0259894 ,  0.0120618 ,  0.06221085,  0.05385911, -0.06808005],\n",
      "       [ 0.        ,  0.        ,  0.        ,  0.        ,  0.        ,\n",
      "         0.        ,  0.        ,  0.        ,  0.        ,  0.        ]],\n",
      "      dtype=float32), array([[-0.08235396,  0.15813082,  0.13104738,  0.04271973, -0.00526879,\n",
      "        -0.03789054,  0.09838577,  0.06847642,  0.13579533, -0.16708592],\n",
      "       [ 0.        ,  0.        ,  0.        ,  0.        ,  0.        ,\n",
      "         0.        ,  0.        ,  0.        ,  0.        ,  0.        ]],\n",
      "      dtype=float32), array([[-0.00742156,  0.16037546, -0.03782217,  0.07983321, -0.15388405,\n",
      "         0.05330643,  0.00976987, -0.03728252,  0.07906233, -0.18395561],\n",
      "       [ 0.06447896,  0.01701014,  0.02128367,  0.03234999, -0.02407405,\n",
      "        -0.01521529, -0.04565968, -0.1245895 , -0.04700195,  0.00884172]],\n",
      "      dtype=float32), array([[-0.05435986,  0.20545602,  0.03592772,  0.03669511,  0.01821785,\n",
      "         0.03428658,  0.17310433, -0.01551915,  0.06479497, -0.18529353],\n",
      "       [ 0.        ,  0.        ,  0.        ,  0.        ,  0.        ,\n",
      "         0.        ,  0.        ,  0.        ,  0.        ,  0.        ]],\n",
      "      dtype=float32), array([[-0.02039629,  0.21703896,  0.12361342,  0.05290474, -0.043355  ,\n",
      "        -0.00672164,  0.14160733,  0.02616026,  0.1028535 , -0.18945661],\n",
      "       [ 0.        ,  0.        ,  0.        ,  0.        ,  0.        ,\n",
      "         0.        ,  0.        ,  0.        ,  0.        ,  0.        ]],\n",
      "      dtype=float32), array([[ 0.03441664,  0.20005326, -0.00587667,  0.07107782, -0.14009905,\n",
      "         0.0388472 ,  0.03068496, -0.02543936,  0.08246961, -0.15486759],\n",
      "       [ 0.00093199, -0.04325545, -0.02723752,  0.04564832, -0.04501173,\n",
      "         0.00674646, -0.07742709, -0.14257777, -0.05217718, -0.03533932]],\n",
      "      dtype=float32), array([[-0.02039629,  0.21703896,  0.12361342,  0.05290474, -0.043355  ,\n",
      "        -0.00672164,  0.14160733,  0.02616026,  0.1028535 , -0.18945661],\n",
      "       [ 0.01174701,  0.12876403,  0.00519264, -0.13498731, -0.10949551,\n",
      "         0.03505517, -0.08977251, -0.21290728, -0.11945699,  0.0538806 ]],\n",
      "      dtype=float32), array([[-0.04999004,  0.14402652,  0.05925919,  0.10039476, -0.05627514,\n",
      "         0.02075542,  0.12574723,  0.01363783,  0.11306057, -0.21444711],\n",
      "       [ 0.        ,  0.        ,  0.        ,  0.        ,  0.        ,\n",
      "         0.        ,  0.        ,  0.        ,  0.        ,  0.        ]],\n",
      "      dtype=float32), array([[-0.00815183,  0.18370432,  0.09120469,  0.09163937, -0.04249015,\n",
      "         0.00629619,  0.14666232,  0.02548098,  0.11646786, -0.1853591 ],\n",
      "       [ 0.04267184,  0.0445735 , -0.07665938, -0.03715844, -0.10731121,\n",
      "         0.06793324, -0.07700551, -0.21462288, -0.08507234,  0.06422936]],\n",
      "      dtype=float32), array([[-0.05312613,  0.08606834, -0.00460521,  0.01588882,  0.01018128,\n",
      "         0.03518791,  0.15726551,  0.05654962, -0.00867566, -0.17509124],\n",
      "       [ 0.        ,  0.        ,  0.        ,  0.        ,  0.        ,\n",
      "         0.        ,  0.        ,  0.        ,  0.        ,  0.        ]],\n",
      "      dtype=float32)]\n"
     ]
    },
    {
     "data": {
      "image/png": "[encoded data removed]",
      "text/plain": [
       "<Figure size 432x288 with 1 Axes>"
      ]
     },
     "metadata": {
      "needs_background": "light"
     },
     "output_type": "display_data"
    },
    {
     "data": {
      "image/png": "[encoded data removed]",
      "text/plain": [
       "<Figure size 432x288 with 1 Axes>"
      ]
     },
     "metadata": {
      "needs_background": "light"
     },
     "output_type": "display_data"
    }
   ],
   "source": [
    "# Get test indices\n",
    "testind = []\n",
    "fullind = list(np.arange(tree_data.shape[0]))\n",
    "for i in fullind:\n",
    "    if i not in random_indices:\n",
    "        testind.append(i)\n",
    "\n",
    "testind = np.array(testind)\n",
    "\n",
    "# Get samples from autoencoder\n",
    "nxsample = phate_ae.encoder(X[testind].float().cuda())\n",
    "xsampout = nxsample.detach().cpu().numpy()\n",
    "\n",
    "# Visualize ground truth\n",
    "cax = scprep.plot.scatter2d(\n",
    "    tree_phate,\n",
    "    c=tree_clusters,\n",
    "    title=\"Original Data\",\n",
    "    xlabel=\"PHATE 1\",\n",
    "    ylabel=\"PHATE 2\",\n",
    ")\n",
    "\n",
    "\n",
    "# Visualize Embedding\n",
    "cax = scprep.plot.scatter2d(xsampout, c=tree_clusters[testind], title=\"Embedded Data\")\n",
    "\n",
    "\n",
    "# Compute Jacobian\n",
    "Jacob = []\n",
    "for i in testind:\n",
    "    X_sample = X[i].float().cuda()\n",
    "    J = torch.autograd.functional.jacobian(phate_ae.encoder, X_sample).squeeze()\n",
    "    Jacob.append(J.cpu().detach().numpy())\n",
    "\n",
    "# Compute FIM\n",
    "FIM = []\n",
    "for i in range(testind.shape[0]):\n",
    "    FIM.append( (Jacob[i] @ Jacob[i].T) * np.exp(xsampout[i, :]))\n",
    "    \n",
    "    \n",
    "print(Jacob)"
   ]
  },
  {
   "cell_type": "code",
   "execution_count": 43,
   "metadata": {},
   "outputs": [
    {
     "data": {
      "image/png": "[encoded data removed]",
      "text/plain": [
       "<Figure size 432x288 with 2 Axes>"
      ]
     },
     "metadata": {
      "needs_background": "light"
     },
     "output_type": "display_data"
    }
   ],
   "source": [
    "# Analysis\n",
    "\n",
    "#Compute Volume\n",
    "V = np.sqrt(np.linalg.det(FIM))\n",
    "\n",
    "#Visualize Original PHATE data with volume measurement\n",
    "# Visualize ground truth\n",
    "cax = scprep.plot.scatter2d(\n",
    "    tree_phate[testind],\n",
    "    c=V,\n",
    "    title=\"Original Data colored by volume\",\n",
    "    xlabel=\"PHATE 1\",\n",
    "    ylabel=\"PHATE 2\",\n",
    ")\n",
    "\n"
   ]
  },
  {
   "cell_type": "code",
   "execution_count": 18,
   "metadata": {},
   "outputs": [
    {
     "ename": "IndexError",
     "evalue": "too many indices for array: array is 1-dimensional, but 2 were indexed",
     "output_type": "error",
     "traceback": [
      "\u001b[0;31m---------------------------------------------------------------------------\u001b[0m",
      "\u001b[0;31mIndexError\u001b[0m                                Traceback (most recent call last)",
      "\u001b[0;32m<ipython-input-18-57a167c8d1cb>\u001b[0m in \u001b[0;36m<module>\u001b[0;34m\u001b[0m\n\u001b[1;32m      3\u001b[0m \u001b[0mplt\u001b[0m\u001b[0;34m.\u001b[0m\u001b[0mfigure\u001b[0m\u001b[0;34m(\u001b[0m\u001b[0;34m)\u001b[0m\u001b[0;34m\u001b[0m\u001b[0;34m\u001b[0m\u001b[0m\n\u001b[1;32m      4\u001b[0m \u001b[0mplt\u001b[0m\u001b[0;34m.\u001b[0m\u001b[0mtitle\u001b[0m\u001b[0;34m(\u001b[0m\u001b[0;34m\"Encoded Space\"\u001b[0m\u001b[0;34m)\u001b[0m\u001b[0;34m\u001b[0m\u001b[0;34m\u001b[0m\u001b[0m\n\u001b[0;32m----> 5\u001b[0;31m \u001b[0mplt\u001b[0m\u001b[0;34m.\u001b[0m\u001b[0mscatter\u001b[0m\u001b[0;34m(\u001b[0m\u001b[0mnxsample\u001b[0m\u001b[0;34m.\u001b[0m\u001b[0mdetach\u001b[0m\u001b[0;34m(\u001b[0m\u001b[0;34m)\u001b[0m\u001b[0;34m.\u001b[0m\u001b[0mcpu\u001b[0m\u001b[0;34m(\u001b[0m\u001b[0;34m)\u001b[0m\u001b[0;34m.\u001b[0m\u001b[0mnumpy\u001b[0m\u001b[0;34m(\u001b[0m\u001b[0;34m)\u001b[0m\u001b[0;34m[\u001b[0m\u001b[0;34m:\u001b[0m\u001b[0;34m,\u001b[0m\u001b[0;36m0\u001b[0m\u001b[0;34m]\u001b[0m\u001b[0;34m,\u001b[0m\u001b[0mnxsample\u001b[0m\u001b[0;34m.\u001b[0m\u001b[0mdetach\u001b[0m\u001b[0;34m(\u001b[0m\u001b[0;34m)\u001b[0m\u001b[0;34m.\u001b[0m\u001b[0mcpu\u001b[0m\u001b[0;34m(\u001b[0m\u001b[0;34m)\u001b[0m\u001b[0;34m.\u001b[0m\u001b[0mnumpy\u001b[0m\u001b[0;34m(\u001b[0m\u001b[0;34m)\u001b[0m\u001b[0;34m[\u001b[0m\u001b[0;34m:\u001b[0m\u001b[0;34m,\u001b[0m\u001b[0;36m1\u001b[0m\u001b[0;34m]\u001b[0m\u001b[0;34m)\u001b[0m\u001b[0;34m\u001b[0m\u001b[0;34m\u001b[0m\u001b[0m\n\u001b[0m\u001b[1;32m      6\u001b[0m \u001b[0;34m\u001b[0m\u001b[0m\n\u001b[1;32m      7\u001b[0m \u001b[0;34m\u001b[0m\u001b[0m\n",
      "\u001b[0;31mIndexError\u001b[0m: too many indices for array: array is 1-dimensional, but 2 were indexed"
     ]
    },
    {
     "data": {
      "image/png": "[encoded data removed]",
      "text/plain": [
       "<Figure size 432x288 with 1 Axes>"
      ]
     },
     "metadata": {
      "needs_background": "light"
     },
     "output_type": "display_data"
    }
   ],
   "source": [
    "# Plot output of embedding space\n",
    "nxsample = phate_ae.encoder(X_sample)\n",
    "plt.figure()\n",
    "plt.title(\"Encoded Space\")\n",
    "plt.scatter(\n",
    "    nxsample.detach().cpu().numpy()[:, 0], nxsample.detach().cpu().numpy()[:, 1]\n",
    ")\n",
    "\n",
    "\n",
    "# Encoded space\n",
    "cax = scprep.plot.scatter2d(tree_phate, c=tree_clusters)"
   ]
  },
  {
   "cell_type": "code",
   "execution_count": null,
   "metadata": {},
   "outputs": [],
   "source": [
    "# NOTE Not using the cells under this.\n",
    "# Extract Jacobians and compute FIM tensor\n",
    "\n",
    "# get new data points\n",
    "print(X_sample.shape)\n",
    "nxsample = phate_ae.encoder(X_sample)\n",
    "print(nxsample.shape)\n",
    "\n",
    "# Check shape\n",
    "print(J.shape)\n",
    "Jr = J.transpose(1, 2)\n",
    "print(Jr.shape)\n",
    "\n",
    "\n",
    "jtensor = np.empty((n, 2, 10))  # Gets n jacobian's for n data points\n",
    "for i in range(n):\n",
    "    for j in range(n):\n",
    "\n",
    "        if Jr[i, j, :, :].squeeze().cpu().detach().numpy().max() > 0.0:\n",
    "            jtensor[i, :, :] = Jr[i, j, :, :].squeeze().cpu().detach().numpy()\n",
    "\n",
    "print(\"Jacobian Tensor Shape (for each data point)\", jtensor.shape)\n",
    "# The correct way to get FIM's\n",
    "\n",
    "FIMtens = np.empty((n, 2, 2))  # FIM for each point\n",
    "for i in range(n):\n",
    "    FIMtens[i, :, :] = (\n",
    "        jtensor[i, :, :].squeeze() @ jtensor[i, :, :].squeeze().T\n",
    "    ) @ nxsample[i, :].cpu().detach().numpy().T\n",
    "\n",
    "FIMtenstot = FIMtens.mean(0).squeeze()  # FIM expectation over all data points\n",
    "print(FIMtenstot)\n",
    "print(jtensor)"
   ]
  },
  {
   "cell_type": "code",
   "execution_count": null,
   "metadata": {},
   "outputs": [],
   "source": [
    "# from math import prod\n",
    "n = 100\n",
    "random_indices = np.random.randint(tree_data.shape[0], size=n)\n",
    "X_sample = X[random_indices].float()\n",
    "fim = []\n",
    "\n",
    "J = torch.autograd.functional.jacobian(\n",
    "    phate_ae.encoder[1], phate_ae.encoder[0](X_sample)\n",
    ")\n",
    "J = J.view(n, n, -1)\n",
    "\n",
    "\n",
    "# for i in range(n):\n",
    "#   jac = J[i,:,i,:]\n",
    "#   jac_t = jac.T\n",
    "#   fim.append(torch.sum(jac*jac_t, dim=1))\n",
    "# J = J.transpose(1, 2)\n",
    "# Jt = J.transpose(2, 3)\n",
    "# Jt = Jt.transpose(2, 3)\n",
    "fischer_information = torch.sum(J * Jt, dim=1)\n",
    "fischer_information_flat = fischer_information.reshape(n, -1)\n",
    "\n",
    "# fischer_information_flat = torch.vstack(fim).reshape(n, -1)\n",
    "# J = jacobianBatch(phate_ae.encoder,X_sample)\n",
    "# Jt = J.transpose(1, 2)\n",
    "# fischer_information = torch.mul(J,Jt)\n",
    "# fischer_information_flat = fischer_information.reshape(n, -1)\n",
    "\n",
    "phate_operator_inf = phate.PHATE(knn=5, decay=20, t=150, random_state=42)\n",
    "tree_phate_inf = phate_operator_inf.fit_transform(\n",
    "    fischer_information_flat.detach().numpy()\n",
    ")"
   ]
  },
  {
   "cell_type": "code",
   "execution_count": null,
   "metadata": {},
   "outputs": [],
   "source": [
    "J.shape, Jt.shape, fischer_information.shape"
   ]
  },
  {
   "cell_type": "code",
   "execution_count": null,
   "metadata": {},
   "outputs": [],
   "source": [
    "cax = scprep.plot.scatter2d(tree_phate_inf, c=tree_clusters[random_indices])"
   ]
  },
  {
   "cell_type": "code",
   "execution_count": null,
   "metadata": {},
   "outputs": [],
   "source": [
    "def jacobianBatch(f, wrt):\n",
    "    \"\"\"\n",
    "    Compute the jacobian (derivaties of outputs w.r.t inputs)\n",
    "    Input:\n",
    "            f: pytorch model\n",
    "            wrt: batch of training data\n",
    "    Output:\n",
    "            jacobian: J of the batch of training data\n",
    "    \"\"\"\n",
    "    jacobian = []\n",
    "    f.eval()\n",
    "    for i in range(wrt.shape[0]):\n",
    "        jac = torch.autograd.functional.jacobian(f, wrt[i])\n",
    "        jacobian.append(jac)\n",
    "        #\n",
    "    return torch.stack(jacobian, 0)"
   ]
  },
  {
   "cell_type": "markdown",
   "metadata": {},
   "source": [
    "other try"
   ]
  },
  {
   "cell_type": "code",
   "execution_count": 28,
   "metadata": {},
   "outputs": [
    {
     "name": "stdout",
     "output_type": "stream",
     "text": [
      "[Linear(in_features=10, out_features=10, bias=True), ReLU(), Linear(in_features=10, out_features=100, bias=True), ReLU()]\n",
      "Loss distance: tensor(16082.9609, device='cuda:0', grad_fn=<MseLossBackward>)\n",
      "Loss distance: tensor(32.4330, device='cuda:0', grad_fn=<MseLossBackward>)\n",
      "Loss distance: tensor(11.9265, device='cuda:0', grad_fn=<MseLossBackward>)\n",
      "Loss distance: tensor(4.6755, device='cuda:0', grad_fn=<MseLossBackward>)\n",
      "Loss distance: tensor(1.7165, device='cuda:0', grad_fn=<MseLossBackward>)\n",
      "Loss distance: tensor(1.1716, device='cuda:0', grad_fn=<MseLossBackward>)\n",
      "Loss distance: tensor(0.9577, device='cuda:0', grad_fn=<MseLossBackward>)\n",
      "Loss distance: tensor(0.4384, device='cuda:0', grad_fn=<MseLossBackward>)\n",
      "Loss distance: tensor(0.2616, device='cuda:0', grad_fn=<MseLossBackward>)\n",
      "Loss distance: tensor(0.1708, device='cuda:0', grad_fn=<MseLossBackward>)\n"
     ]
    }
   ],
   "source": [
    "use_cuda = torch.cuda.is_available()\n",
    "phate_ae = Autoencoder(\n",
    "    encoder_layer=[10, 10, 100], decoder_layer=[10, 10, 10], use_cuda=use_cuda\n",
    ")\n",
    "optimizer = torch.optim.AdamW(phate_ae.parameters())\n",
    "\n",
    "n_epochs = 5000\n",
    "n = 100\n",
    "\n",
    "for epoch in range(n_epochs):\n",
    "    optimizer.zero_grad()\n",
    "    random_indices = np.random.randint(tree_data.shape[0], size=n)\n",
    "    X_sample = (\n",
    "        X[random_indices].float().cuda()\n",
    "        if use_cuda\n",
    "        else X[random_indices].float().cuda()\n",
    "    )\n",
    "    P = torch_phate(X_sample)\n",
    "    noise = (\n",
    "        (0.05 * torch.randn(X_sample.size())).cuda()\n",
    "        if use_cuda\n",
    "        else 0.05 * torch.randn(X_sample.size())\n",
    "    )\n",
    "    encode_sample = phate_ae.forward(X_sample + noise)\n",
    "    loss = nn.MSELoss()(\n",
    "        torch.cdist(encode_sample, encode_sample) ** 2, torch.cdist(P, P) ** 2\n",
    "    )\n",
    "\n",
    "    loss.backward()\n",
    "    optimizer.step()\n",
    "\n",
    "    if epoch % 500 == 0:\n",
    "        print(\"Loss distance:\", loss)"
   ]
  },
  {
   "cell_type": "code",
   "execution_count": 27,
   "metadata": {},
   "outputs": [
    {
     "name": "stdout",
     "output_type": "stream",
     "text": [
      "Calculating PHATE...\n",
      "  Running PHATE on 100 observations and 1000 variables.\n",
      "  Calculating graph and diffusion operator...\n",
      "    Calculating KNN search...\n",
      "    Calculated KNN search in 0.02 seconds.\n",
      "    Calculating affinities...\n",
      "  Calculated graph and diffusion operator in 0.03 seconds.\n",
      "  Calculating diffusion potential...\n",
      "  Calculating metric MDS...\n",
      "    Using SMACOF because SGD returned NaN\n",
      "Calculated PHATE in 0.04 seconds.\n"
     ]
    },
    {
     "name": "stderr",
     "output_type": "stream",
     "text": [
      "/home/mila/g/guillaume.huguet/.local/lib/python3.6/site-packages/graphtools/graphs.py:121: UserWarning: Building a kNNGraph on data of shape (100, 1000) is expensive. Consider setting n_pca.\n",
      "  UserWarning,\n",
      "/home/mila/g/guillaume.huguet/.local/lib/python3.6/site-packages/graphtools/graphs.py:293: RuntimeWarning: Detected zero distance between 892 pairs of samples. Consider removing duplicates to avoid errors in downstream processing.\n",
      "  RuntimeWarning,\n",
      "/home/mila/g/guillaume.huguet/.local/lib/python3.6/site-packages/graphtools/graphs.py:451: RuntimeWarning: overflow encountered in power\n",
      "  K.data = np.exp(-1 * np.power(K.data, self.decay))\n"
     ]
    }
   ],
   "source": [
    "n = 100\n",
    "random_indices = np.random.randint(tree_data.shape[0], size=n)\n",
    "X_sample = X[random_indices].float()\n",
    "fim = []\n",
    "J = torch.autograd.functional.jacobian(phate_ae.encoder, X_sample)\n",
    "\n",
    "Jt = J.transpose(1, 2)\n",
    "fischer_information = torch.sum(J * Jt, dim=1)\n",
    "fischer_information_flat = fischer_information.reshape(n, -1)\n",
    "\n",
    "phate_operator_inf = phate.PHATE(knn=5, decay=20, t=150, random_state=42)\n",
    "tree_phate_inf = phate_operator_inf.fit_transform(\n",
    "    fischer_information_flat.detach().numpy()\n",
    ")"
   ]
  },
  {
   "cell_type": "code",
   "execution_count": null,
   "metadata": {},
   "outputs": [],
   "source": [
    "cax = scprep.plot.scatter2d(tree_phate_inf, c=tree_clusters[random_indices])"
   ]
  }
 ],
 "metadata": {
  "kernelspec": {
   "display_name": "Python 3 (ipykernel)",
   "language": "python",
   "name": "python3"
  },
  "language_info": {
   "codemirror_mode": {
    "name": "ipython",
    "version": 3
   },
   "file_extension": ".py",
   "mimetype": "text/x-python",
   "name": "python",
   "nbconvert_exporter": "python",
   "pygments_lexer": "ipython3",
   "version": "3.10.4"
  },
  "vscode": {
   "interpreter": {
    "hash": "633393dbf1dd6081d6900ee74bcf3bc99168c1b158015580098548130ad20efc"
   }
  }
 },
 "nbformat": 4,
 "nbformat_minor": 2
}
