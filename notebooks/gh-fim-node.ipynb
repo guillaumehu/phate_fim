{
 "cells": [
  {
   "cell_type": "code",
   "execution_count": 1,
   "metadata": {},
   "outputs": [
    {
     "name": "stderr",
     "output_type": "stream",
     "text": [
      "/home/mila/g/guillaume.huguet/.conda/envs/phate_fim/lib/python3.9/site-packages/tqdm/auto.py:22: TqdmWarning: IProgress not found. Please update jupyter and ipywidgets. See https://ipywidgets.readthedocs.io/en/stable/user_install.html\n",
      "  from .autonotebook import tqdm as notebook_tqdm\n"
     ]
    }
   ],
   "source": [
    "import sys\n",
    "import yaml\n",
    "import phate\n",
    "import torch\n",
    "import pytorch_lightning as pl\n",
    "from pytorch_lightning import Trainer\n",
    "from pytorch_lightning.loggers import WandbLogger\n",
    "import matplotlib.pyplot as plt\n",
    "from sklearn.manifold import MDS\n",
    "import scipy\n",
    "import numpy as np\n",
    "from math import pi\n",
    "import matplotlib.pyplot as plt\n",
    "\n",
    "\n",
    "sys.path.append(\"../\")\n",
    "from src.models.lit_encoder import LitAutoencoder\n",
    "from src.data.make_dataset import train_dataloader\n",
    "from src.models.lit_node import NODE, ToyODE"
   ]
  },
  {
   "attachments": {},
   "cell_type": "markdown",
   "metadata": {},
   "source": [
    "Test on a sphere"
   ]
  },
  {
   "cell_type": "code",
   "execution_count": 2,
   "metadata": {},
   "outputs": [],
   "source": [
    "def sphere_metric(theta, phi):\n",
    "    return torch.tensor([[1, 0], [0, torch.sin(theta) ** 2]])\n",
    "\n",
    "\n",
    "def polar_to_euc(mat):\n",
    "    \"\"\"mat (np.array): N X D\n",
    "    N: number of observation in the path\n",
    "    D: dimension (theta,psi)\"\"\"\n",
    "    N, D = mat.shape\n",
    "    coor = np.empty((N, 3))\n",
    "    for i in range(N):\n",
    "        theta, psi = mat[i, :]\n",
    "        coor[i, :] = (\n",
    "            np.sin(theta) * np.cos(psi),\n",
    "            np.sin(theta) * np.sin(psi),\n",
    "            np.cos(theta),\n",
    "        )\n",
    "\n",
    "    return coor"
   ]
  },
  {
   "cell_type": "code",
   "execution_count": 59,
   "metadata": {},
   "outputs": [],
   "source": [
    "fn_ode = ToyODE(2, [20, 10, 10])\n",
    "neural_ode = NODE(fn_ode, method=\"rk4\")"
   ]
  },
  {
   "cell_type": "code",
   "execution_count": 71,
   "metadata": {},
   "outputs": [],
   "source": [
    "init = 0.0\n",
    "end = pi/2\n",
    "delta = end - init\n",
    "x0 = torch.tensor([init, 0]).view(1, 2)\n",
    "x1 = torch.tensor([end, 0]).view(1, 2)"
   ]
  },
  {
   "cell_type": "code",
   "execution_count": 61,
   "metadata": {},
   "outputs": [],
   "source": [
    "n_epochs = 1000\n",
    "n_steps = 10\n",
    "optimizer = torch.optim.AdamW(params=neural_ode.parameters(), lr=0.001)"
   ]
  },
  {
   "cell_type": "code",
   "execution_count": 62,
   "metadata": {},
   "outputs": [
    {
     "name": "stderr",
     "output_type": "stream",
     "text": [
      "/home/mila/g/guillaume.huguet/.conda/envs/phate_fim/lib/python3.9/site-packages/torch/nn/modules/loss.py:530: UserWarning: Using a target size (torch.Size([1, 2])) that is different to the input size (torch.Size([2])). This will likely lead to incorrect results due to broadcasting. Please ensure they have the same size.\n",
      "  return F.mse_loss(input, target, reduction=self.reduction)\n"
     ]
    },
    {
     "name": "stdout",
     "output_type": "stream",
     "text": [
      "Loss:  tensor([232.3900], grad_fn=<AddBackward0>)\n",
      "length:  tensor([0.5808], grad_fn=<DivBackward0>)\n",
      "Loss:  tensor([49.5336], grad_fn=<AddBackward0>)\n",
      "length:  tensor([0.5932], grad_fn=<DivBackward0>)\n",
      "Loss:  tensor([1.5773], grad_fn=<AddBackward0>)\n",
      "length:  tensor([1.5707], grad_fn=<DivBackward0>)\n",
      "Loss:  tensor([1.5768], grad_fn=<AddBackward0>)\n",
      "length:  tensor([1.5713], grad_fn=<DivBackward0>)\n",
      "Loss:  tensor([1.5763], grad_fn=<AddBackward0>)\n",
      "length:  tensor([1.5708], grad_fn=<DivBackward0>)\n",
      "Loss:  tensor([1.5757], grad_fn=<AddBackward0>)\n",
      "length:  tensor([1.5704], grad_fn=<DivBackward0>)\n",
      "Loss:  tensor([1.5751], grad_fn=<AddBackward0>)\n",
      "length:  tensor([1.5698], grad_fn=<DivBackward0>)\n",
      "Loss:  tensor([1.5744], grad_fn=<AddBackward0>)\n",
      "length:  tensor([1.5691], grad_fn=<DivBackward0>)\n",
      "Loss:  tensor([1.5735], grad_fn=<AddBackward0>)\n",
      "length:  tensor([1.5682], grad_fn=<DivBackward0>)\n",
      "Loss:  tensor([1.5726], grad_fn=<AddBackward0>)\n",
      "length:  tensor([1.5673], grad_fn=<DivBackward0>)\n"
     ]
    }
   ],
   "source": [
    "neural_ode.train()\n",
    "pre_epochs = 500\n",
    "# for epoch in range(pre_epochs):\n",
    "\n",
    "#     optimizer.zero_grad()\n",
    "\n",
    "#     path = neural_ode(x0, n_steps).squeeze(1)\n",
    "\n",
    "#     x1_pred = path[-1]\n",
    "\n",
    "#     pred_loss = torch.nn.MSELoss()(x1_pred, x1)\n",
    "#     loss = pred_loss\n",
    " \n",
    "#     if epoch % 100 == 0:\n",
    "#         print(\"Pre trained MSE: \",loss)\n",
    "\n",
    "#     loss.backward()\n",
    "#     optimizer.step()\n",
    "\n",
    "for epoch in range(n_epochs):\n",
    "    fn_ode.reset_path()\n",
    "    optimizer.zero_grad()\n",
    "\n",
    "    path = neural_ode(x0, n_steps, end_time=end).squeeze(1)\n",
    "    x1_pred = path[-1]\n",
    "\n",
    "    pred_loss = torch.nn.MSELoss()(x1_pred, x1)\n",
    "    cost = []\n",
    "    n = len(neural_ode.path)\n",
    "    for p0 in neural_ode.path:\n",
    "\n",
    "        c = torch.sqrt(p0 @ sphere_metric(p0[0,0], p0[0,1]) @ p0.T).squeeze(0) #torch.sin(p[1,0])\n",
    "        cost.append(c)\n",
    "\n",
    "    loss = delta*sum(cost)/len(cost) + 100 * pred_loss\n",
    "\n",
    " \n",
    "    if epoch % 100 == 0:\n",
    "        print(\"Loss: \", loss)\n",
    "        print(\"length: \", delta * sum(cost)/len(cost))\n",
    "\n",
    "    loss.backward()\n",
    "    optimizer.step()"
   ]
  },
  {
   "cell_type": "code",
   "execution_count": 63,
   "metadata": {},
   "outputs": [],
   "source": [
    "path = neural_ode(x0, n_steps, end_time=end).squeeze(1)\n",
    "path_euc = polar_to_euc(path.detach().numpy())"
   ]
  },
  {
   "cell_type": "code",
   "execution_count": 72,
   "metadata": {},
   "outputs": [],
   "source": [
    "x0_e = polar_to_euc(x0)\n",
    "x1_e = polar_to_euc(x1)"
   ]
  },
  {
   "cell_type": "code",
   "execution_count": 76,
   "metadata": {},
   "outputs": [
    {
     "data": {
      "image/png": "[encoded data removed]",
      "text/plain": [
       "<Figure size 640x480 with 1 Axes>"
      ]
     },
     "metadata": {},
     "output_type": "display_data"
    }
   ],
   "source": [
    "fig = plt.figure()\n",
    "ax = fig.add_subplot(projection=\"3d\")\n",
    "ax.scatter(path_euc[:, 0], path_euc[:, 1], path_euc[:, 2], c=list(range(n_steps)))\n",
    "ax.scatter(x0_e[0,0],x0_e[0,1],x0_e[0,2],c='blue')\n",
    "ax.scatter(x1_e[0,0],x1_e[0,1],x1_e[0,2],c='red')\n",
    "ax.view_init(0, 90)\n",
    "plt.show()"
   ]
  },
  {
   "cell_type": "code",
   "execution_count": 43,
   "metadata": {},
   "outputs": [
    {
     "name": "stdout",
     "output_type": "stream",
     "text": [
      "tensor(7.2139, grad_fn=<MseLossBackward0>)\n",
      "tensor(1.1003, grad_fn=<MseLossBackward0>)\n",
      "tensor(4.1482e-07, grad_fn=<MseLossBackward0>)\n",
      "tensor(1.9088e-07, grad_fn=<MseLossBackward0>)\n",
      "tensor(1.2345e-07, grad_fn=<MseLossBackward0>)\n"
     ]
    }
   ],
   "source": [
    "# Without the metric loss.\n",
    "fn_ode = ToyODE(2, [5, 5])\n",
    "neural_ode = NODE(fn_ode, method=\"rk4\")\n",
    "\n",
    "n_epochs = 1000\n",
    "n_steps = 10\n",
    "optimizer = torch.optim.AdamW(params=neural_ode.parameters(), lr=0.001)\n",
    "\n",
    "neural_ode.train()\n",
    "for epoch in range(n_epochs):\n",
    "    optimizer.zero_grad()\n",
    "\n",
    "    path = neural_ode(x0, n_steps, end_time=end).squeeze(1)\n",
    "\n",
    "    x1_pred = path[-1]\n",
    "\n",
    "    pred_loss = torch.nn.MSELoss()(x1_pred, x1)\n",
    "    loss = pred_loss\n",
    "\n",
    "    if epoch % 200 == 0:\n",
    "        print(loss)\n",
    "\n",
    "    loss.backward()\n",
    "    optimizer.step()"
   ]
  },
  {
   "cell_type": "code",
   "execution_count": 47,
   "metadata": {},
   "outputs": [
    {
     "data": {
      "image/png": "[encoded data removed]",
      "text/plain": [
       "<Figure size 640x480 with 1 Axes>"
      ]
     },
     "metadata": {},
     "output_type": "display_data"
    }
   ],
   "source": [
    "path = neural_ode(x0, n_steps, end_time=end).squeeze(1)\n",
    "path_euc = polar_to_euc(path.detach().numpy())\n",
    "\n",
    "fig = plt.figure()\n",
    "ax = fig.add_subplot(projection=\"3d\")\n",
    "ax.scatter(path_euc[:, 0], path_euc[:, 1], path_euc[:, 2], c=list(range(n_steps)))\n",
    "ax.view_init(0, 0)\n",
    "plt.show()"
   ]
  },
  {
   "cell_type": "code",
   "execution_count": null,
   "metadata": {},
   "outputs": [],
   "source": []
  }
 ],
 "metadata": {
  "kernelspec": {
   "display_name": "Python 3",
   "language": "python",
   "name": "python3"
  },
  "language_info": {
   "codemirror_mode": {
    "name": "ipython",
    "version": 3
   },
   "file_extension": ".py",
   "mimetype": "text/x-python",
   "name": "python",
   "nbconvert_exporter": "python",
   "pygments_lexer": "ipython3",
   "version": "3.9.13"
  },
  "orig_nbformat": 4,
  "vscode": {
   "interpreter": {
    "hash": "f7bc1b261a3930786ff7512c929c0e745642bbe1778e8183529f18f1cbcafab1"
   }
  }
 },
 "nbformat": 4,
 "nbformat_minor": 2
}
