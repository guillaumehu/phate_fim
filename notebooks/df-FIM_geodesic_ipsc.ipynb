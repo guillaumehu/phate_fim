{
 "cells": [
  {
   "cell_type": "code",
   "execution_count": 1,
   "id": "37bed0e5",
   "metadata": {},
   "outputs": [],
   "source": [
    "import sys\n",
    "import yaml\n",
    "import phate\n",
    "import torch\n",
    "import pytorch_lightning as pl\n",
    "from pytorch_lightning import Trainer\n",
    "from pytorch_lightning.loggers import WandbLogger\n",
    "import matplotlib.pyplot as plt\n",
    "from sklearn.manifold import MDS\n",
    "import scipy\n",
    "import numpy as np\n",
    "from math import pi\n",
    "import matplotlib.pyplot as plt\n",
    "from typing import Optional, List\n",
    "from torchdyn.core import NeuralODE\n",
    "import os\n",
    "import scipy.io as sio\n",
    "\n",
    "\n",
    "sys.path.append(\"../\")\n",
    "from src.models.lit_encoder import LitAutoencoder\n",
    "from src.models.lit_encoder import LitDistEncoder\n",
    "from src.data.make_dataset import train_dataloader\n",
    "from src.data.make_dataset import make_n_sphere_two\n",
    "from src.data.make_dataset import make_tree\n",
    "from src.data.make_dataset import make_live_seq\n",
    "from src.data.make_dataset import make_pbmc\n",
    "from src.data.make_dataset import make_ipsc\n",
    "from src.fim_noemb import FIM\n",
    "from src.fim_noemb import FIM_torch\n",
    "from src.fim_noemb import FIM_cpu\n",
    "import os\n",
    "from sklearn.decomposition import PCA\n",
    "import math\n",
    "import random\n",
    "import pickle\n",
    "\n",
    "import h5py\n",
    "import numpy as np\n",
    "import scipy.io as sio\n",
    "import pandas as pd\n",
    "import sklearn"
   ]
  },
  {
   "cell_type": "code",
   "execution_count": 2,
   "id": "bee0a73f",
   "metadata": {},
   "outputs": [],
   "source": [
    "#load data\n",
    "initdir = os.getcwd()\n",
    "os.chdir(os.path.abspath('..') + '/src/data')\n",
    "X = sio.loadmat('ipscData.mat')['data']\n",
    "os.chdir(initdir)"
   ]
  },
  {
   "cell_type": "code",
   "execution_count": 3,
   "id": "fe52d7cc",
   "metadata": {},
   "outputs": [
    {
     "name": "stdout",
     "output_type": "stream",
     "text": [
      "[Linear(in_features=33, out_features=100, bias=True), ReLU(), Linear(in_features=100, out_features=100, bias=True), ReLU(), Linear(in_features=100, out_features=50, bias=True), Softmax(dim=1)]\n",
      "[Linear(in_features=50, out_features=2, bias=True), ReLU(), Linear(in_features=2, out_features=10, bias=True), ReLU(), Linear(in_features=10, out_features=10, bias=True), ReLU()]\n"
     ]
    }
   ],
   "source": [
    "#Define model\n",
    "\n",
    "# Data Parameters\n",
    "dataset = \"ipsc\"\n",
    "n_obs = 1500\n",
    "n_dim = X.shape[1]\n",
    "batch_size = 50\n",
    "\n",
    "# Model param\n",
    "encoder_layer = [100,100,50]\n",
    "decoder_layer = [2,10,10]\n",
    "emb_dim = encoder_layer[-1]\n",
    "activation = \"ReLU\"\n",
    "lr = 0.0001\n",
    "kernel_type = \"ipsc_phate\"  # \"gaussian\" and \"phate\".\n",
    "loss_emb = False  # Embedding loss.\n",
    "loss_dist = True # distance loss in the embedding.\n",
    "loss_rec = False\n",
    "bandwitdh = 1  # bandwitdh for the gaussian kernel\n",
    "t = 1  # time for the gaussian kernel. For PHATE, we use their optimal time.\n",
    "scale = 0.00  # scale when we add noise to do the data (before the encoder).\n",
    "knn = 5 # PHATE kernel number of Nearest Neighbors.\n",
    "logp=False\n",
    "\n",
    "# Trainer param\n",
    "max_epochs = 150\n",
    "fast_dev_run = False\n",
    "accelerator = \"gpu\"\n",
    "devices = 1\n",
    "\n",
    "exp_name = \"ipsc_autoencoder_logp\"\n",
    "seed = torch.randint(0, 1000, size=(1,))\n",
    "\n",
    "device = torch.device('cpu')\n",
    "model_ipsc = LitAutoencoder(\n",
    "    input_dim=n_dim,\n",
    "    emb_dim=emb_dim,\n",
    "    encoder_layer=encoder_layer,\n",
    "    decoder_layer=decoder_layer,\n",
    "    activation=activation,\n",
    "    lr=lr,\n",
    "    kernel_type=kernel_type,\n",
    "    loss_emb=loss_emb,\n",
    "    loss_dist=loss_dist,\n",
    "    loss_rec=loss_rec,\n",
    "    bandwitdh=bandwitdh,\n",
    "    t=t,\n",
    "    scale=scale,\n",
    "    knn = knn,\n",
    "    logp=logp\n",
    ")\n",
    "\n",
    "\n"
   ]
  },
  {
   "cell_type": "code",
   "execution_count": 4,
   "id": "b60b091e",
   "metadata": {},
   "outputs": [
    {
     "data": {
      "text/plain": [
       "<All keys matched successfully>"
      ]
     },
     "execution_count": 4,
     "metadata": {},
     "output_type": "execute_result"
    }
   ],
   "source": [
    "#Load Model\n",
    "model_ipsc.load_state_dict(torch.load('saved_models/ipsc_model_1_25.pt',map_location=device))\n"
   ]
  },
  {
   "cell_type": "code",
   "execution_count": null,
   "id": "2926a58a",
   "metadata": {},
   "outputs": [],
   "source": []
  },
  {
   "cell_type": "code",
   "execution_count": 7,
   "id": "c7d601f2",
   "metadata": {},
   "outputs": [
    {
     "name": "stdout",
     "output_type": "stream",
     "text": [
      "cpu\n"
     ]
    },
    {
     "ename": "SystemExit",
     "evalue": "",
     "output_type": "error",
     "traceback": [
      "An exception has occurred, use %tb to see the full traceback.\n",
      "\u001b[0;31mSystemExit\u001b[0m\n"
     ]
    },
    {
     "name": "stderr",
     "output_type": "stream",
     "text": [
      "/gpfs/ysm/project/krishnaswamy_smita/of56/conda_envs/fashenv/lib/python3.10/site-packages/IPython/core/interactiveshell.py:3377: UserWarning: To exit: use 'exit', 'quit', or Ctrl-D.\n",
      "  warn(\"To exit: use 'exit', 'quit', or Ctrl-D.\", stacklevel=1)\n"
     ]
    }
   ],
   "source": [
    "#Load IPSC data\n",
    "\n",
    "\n",
    "n_obs=1500\n",
    "nontrain = list(np.arange(X.shape[0]))\n",
    "testind = random.sample(nontrain,n_obs)\n",
    "ipsc_data, ipsc_phate = make_ipsc(n_obs=n_obs,emb_dim=2,knn=5,indx=testind)\n",
    "print(ipsc_data.device)\n",
    "sys.exit()\n",
    "print(ipsc_data.shape)\n",
    "\n",
    "ipsc_data = ipsc_data.to('cuda')\n",
    "model_ipsc.cuda()\n",
    "model_ipsc.eval()\n",
    "pred = model_ipsc.encode(ipsc_data)\n",
    "\n",
    "print(pred.shape)\n",
    "\n",
    "#Get FIM predictions\n",
    "#Compute full FIM \n",
    "model_ipsc.cuda()\n",
    "fcn = model_ipsc.encode\n",
    "fisher = FIM_torch(ipsc_data,fcn,n_obs,n_dim,emb_dim,pred)\n",
    "fishermat = fisher.fit()\n",
    "\n"
   ]
  },
  {
   "cell_type": "code",
   "execution_count": 7,
   "id": "07ca1a30",
   "metadata": {},
   "outputs": [
    {
     "name": "stdout",
     "output_type": "stream",
     "text": [
      "torch.Size([1500, 33, 33])\n"
     ]
    }
   ],
   "source": [
    "print(fishermat.shape)"
   ]
  },
  {
   "cell_type": "code",
   "execution_count": 8,
   "id": "bf2279ed",
   "metadata": {},
   "outputs": [
    {
     "name": "stdout",
     "output_type": "stream",
     "text": [
      "torch.Size([1500, 33])\n",
      "torch.Size([1500, 50])\n"
     ]
    }
   ],
   "source": [
    "print(ipsc_data.shape)\n",
    "print(pred.shape)"
   ]
  },
  {
   "cell_type": "code",
   "execution_count": 9,
   "id": "85381e25",
   "metadata": {},
   "outputs": [
    {
     "name": "stdout",
     "output_type": "stream",
     "text": [
      "torch.Size([1500, 33, 33])\n"
     ]
    }
   ],
   "source": [
    "print(fishermat.shape)"
   ]
  },
  {
   "cell_type": "code",
   "execution_count": 10,
   "id": "2fdf6ad4",
   "metadata": {},
   "outputs": [
    {
     "name": "stdout",
     "output_type": "stream",
     "text": [
      "<class 'torch.Tensor'>\n",
      "torch.Size([1500, 33])\n"
     ]
    }
   ],
   "source": [
    "print(type(ipsc_data))\n",
    "print(ipsc_data.shape)"
   ]
  },
  {
   "cell_type": "code",
   "execution_count": 5,
   "id": "b19d837a",
   "metadata": {},
   "outputs": [
    {
     "name": "stdout",
     "output_type": "stream",
     "text": [
      "torch.Size([1, 33])\n",
      "-1\n",
      "torch.Size([1, 33, 33])\n"
     ]
    },
    {
     "name": "stderr",
     "output_type": "stream",
     "text": [
      "/tmp/ipykernel_1745/1667688917.py:22: UserWarning: To copy construct from a tensor, it is recommended to use sourceTensor.clone().detach() or sourceTensor.clone().detach().requires_grad_(True), rather than torch.tensor(sourceTensor).\n",
      "  metric = torch.tensor(fishermat).cpu()\n"
     ]
    }
   ],
   "source": [
    "# Test FIM metric for one data point\n",
    "\n",
    "\n",
    "#x = ipsc_data[:1,:].cpu().detach().numpy()\n",
    "#y = pred[:1,:]\n",
    "#fisher = FIM(x,fcn,n_obs,n_dim,emb_dim,y)\n",
    "#fishermat, J = fisher.fit()\n",
    "#fishermat = fishermat.squeeze()\n",
    "\n",
    "n_obs=1500\n",
    "nontrain = list(np.arange(X.shape[0]))\n",
    "testind = random.sample(nontrain,n_obs)\n",
    "ipsc_data, ipsc_phate = make_ipsc(n_obs=n_obs,emb_dim=2,knn=5,indx=testind)\n",
    "fcn = model_ipsc.encode\n",
    "\n",
    "#pred = model_ipsc.encode().detach().cpu().numpy()\n",
    "\n",
    "def fisher_metric(x):\n",
    "    y = model_ipsc.encode(x)\n",
    "    fisher = FIM_cpu(x,fcn,1,n_dim,emb_dim,y)\n",
    "    fishermat = fisher.fit()\n",
    "    metric = torch.tensor(fishermat).cpu()\n",
    "    return metric\n",
    "\n",
    "x = ipsc_data[10,None,:]\n",
    "print(x.shape)\n",
    "check = fisher_metric(x)\n",
    "print(check.get_device())\n",
    "print(check.shape)"
   ]
  },
  {
   "cell_type": "code",
   "execution_count": 111,
   "id": "111b1b77",
   "metadata": {},
   "outputs": [
    {
     "name": "stdout",
     "output_type": "stream",
     "text": [
      "cuda:0\n",
      "cpu\n"
     ]
    }
   ],
   "source": [
    "print(fishermat.device)\n",
    "print(check.device)"
   ]
  },
  {
   "cell_type": "code",
   "execution_count": 8,
   "id": "3f188a06",
   "metadata": {},
   "outputs": [],
   "source": [
    "\n",
    "def fisher_metric(x):\n",
    "    y = model_ipsc.encode(x)\n",
    "    fisher = FIM_cpu(x,fcn,1,n_dim,emb_dim,y)\n",
    "    fishermat = fisher.fit()\n",
    "    metric = torch.tensor(fishermat).cuda()\n",
    "    return metric.cpu()\n",
    "\n",
    "def sphere_metric(x):\n",
    "    n = x.shape[0]\n",
    "    theta, phi = x[:, 0], x[:, 1]\n",
    "\n",
    "    metric = torch.zeros(n, 2, 2)\n",
    "    metric[:, 0, 0] = 1\n",
    "    metric[:, 1, 1] = torch.sin(theta) ** 2\n",
    "    return metric\n",
    "\n",
    "def euc_metric(x):\n",
    "    n = x.shape[0]\n",
    "    metric = torch.zeros(n, 2, 2)\n",
    "    metric[:, 0, 0] = 1.0\n",
    "    metric[:, 1, 1] = 1.0\n",
    "    return metric\n",
    "\n",
    "def hyperb_metric(x):\n",
    "    n = x.shape[0]\n",
    "    mu, sigma2 = x[:,0], x[:,1]\n",
    "    metric = torch.zeros(n, 2, 2)\n",
    "    metric[:,0,0] = 1/sigma2\n",
    "    metric[:,1,1] = 2/sigma2\n",
    "    return metric\n",
    "\n",
    "\n",
    "def polar_to_euc(mat):\n",
    "    \"\"\"mat (np.array): N X D\n",
    "    N: number of observation in the path\n",
    "    D: dimension (theta,psi)\"\"\"\n",
    "    N, D = mat.shape\n",
    "    coor = np.empty((N, 3))\n",
    "    for i in range(N):\n",
    "        theta, psi = mat[i, :]\n",
    "        coor[i, :] = (\n",
    "            np.sin(theta) * np.cos(psi),\n",
    "            np.sin(theta) * np.sin(psi),\n",
    "            np.cos(theta),\n",
    "        )\n",
    "\n",
    "    return coor\n",
    "\n",
    "\n",
    "def euc_to_polar(mat):\n",
    "    \"\"\"mat (np.array) N X 3 return the corresponding polar coordinates.\"\"\"\n",
    "    N, _ = mat.shape\n",
    "    coor = np.empty((N, 2))\n",
    "    for i in range(N):\n",
    "        x, y, z = mat[i, :]\n",
    "        coor[i, :] = (np.arctan((np.sqrt(x**2 + y**2) / z)), np.arctan(y / x))\n",
    "    return coor\n",
    "\n",
    "\n",
    "def great_circle(x0, x1, omega):\n",
    "    \"\"\"Great circle passing by `x0` and `x1`.\"\"\"\n",
    "    u = x0\n",
    "    w = np.cross(x0, x1)\n",
    "    w = w / np.linalg.norm(w)\n",
    "    v = np.cross(u, w)\n",
    "\n",
    "    return u * np.cos(omega) + v * np.sin(omega)\n",
    "\n",
    "\n",
    "def path_interval(path):\n",
    "    theta_min = 0 <= path[:, 0].min()\n",
    "    theta_max = path[:, 0].max() <= pi\n",
    "    theta = theta_min and theta_max\n",
    "    psi_min = 0 <= path[:, 1].min()\n",
    "    psi_max = path[:, 1].max() <= 2 * pi\n",
    "    psi = psi_min and psi_max\n",
    "\n",
    "    return theta, psi\n",
    "\n",
    "\n",
    "from torch import nn\n",
    "\n",
    "ACTIVATION_MAP = {\n",
    "    \"relu\": nn.ReLU,\n",
    "    \"sigmoid\": nn.Sigmoid,\n",
    "    \"tanh\": nn.Tanh,\n",
    "    \"selu\": nn.SELU,\n",
    "    \"elu\": nn.ELU,\n",
    "    \"lrelu\": nn.LeakyReLU,\n",
    "    \"softplus\": nn.Softplus,\n",
    "}\n",
    "\n",
    "\n",
    "class SimpleDenseNet(nn.Module):\n",
    "    def __init__(\n",
    "        self,\n",
    "        input_size: int,\n",
    "        target_size: int,\n",
    "        activation: str,\n",
    "        batch_norm: bool = True,\n",
    "        hidden_dims: Optional[List[int]] = None,\n",
    "    ):\n",
    "        super().__init__()\n",
    "        if hidden_dims is None:\n",
    "            hidden_dims = [256, 256, 256]\n",
    "        dims = [input_size, *hidden_dims, target_size]\n",
    "        layers = []\n",
    "        for i in range(len(dims) - 2):\n",
    "            layers.append(nn.Linear(dims[i], dims[i + 1]))\n",
    "            if batch_norm:\n",
    "                layers.append(nn.BatchNorm1d(dims[i + 1]))\n",
    "            layers.append(ACTIVATION_MAP[activation]())\n",
    "        layers.append(nn.Linear(dims[-2], dims[-1]))\n",
    "        self.model = nn.Sequential(*layers)\n",
    "\n",
    "    def forward(self, x):\n",
    "        return self.model(x)\n",
    "\n",
    "\n",
    "class TimeInvariantVelocityNet(SimpleDenseNet):\n",
    "    def __init__(self, dim: int, *args, **kwargs):\n",
    "        super().__init__(input_size=dim, target_size=dim, *args, **kwargs)\n",
    "\n",
    "    def forward(self, t, x):\n",
    "        \"\"\"ignore t run model.\"\"\"\n",
    "        del t\n",
    "        return self.model(x)\n",
    "\n",
    "\n",
    "class VelocityNet(SimpleDenseNet):\n",
    "    def __init__(self, dim: int, *args, **kwargs):\n",
    "        super().__init__(input_size=dim + 1, target_size=dim, *args, **kwargs)\n",
    "\n",
    "    def forward(self, t, x):\n",
    "        \"\"\"ignore t run model.\"\"\"\n",
    "        if t.dim() < 2:\n",
    "            t = t.repeat(x.shape[0])[:, None]\n",
    "        x = torch.cat([t, x], dim=-1)\n",
    "        return self.model(x)\n",
    "\n",
    "\n",
    "class Regularizer(nn.Module):\n",
    "    def __init__(self):\n",
    "        pass\n",
    "\n",
    "\n",
    "def _batch_root_mean_squared(tensor):\n",
    "    tensor = tensor.view(tensor.shape[0], -1)\n",
    "    return torch.norm(tensor, p=2, dim=1) / tensor.shape[1] ** 0.5\n",
    "\n",
    "\n",
    "class RegularizationFunc(nn.Module):\n",
    "    def forward(self, t, x, dx, context) -> torch.Tensor:\n",
    "        \"\"\"Outputs a batch of scaler regularizations.\"\"\"\n",
    "        raise NotImplementedError\n",
    "\n",
    "\n",
    "class L1Reg(RegularizationFunc):\n",
    "    def forward(self, t, x, dx, context) -> torch.Tensor:\n",
    "        return torch.mean(torch.abs(dx), dim=1)\n",
    "\n",
    "\n",
    "class L2Reg(RegularizationFunc):\n",
    "    def forward(self, t, x, dx, context) -> torch.Tensor:\n",
    "        return _batch_root_mean_squared(dx)\n",
    "\n",
    "\n",
    "class SphereReg(RegularizationFunc):\n",
    "    def forward(self, t, x, dx, context) -> torch.Tensor:\n",
    "        return torch.einsum(\"bi,bij,bj->b\", dx, sphere_metric(x), dx)\n",
    "    \n",
    "class FIMReg(RegularizationFunc):\n",
    "    def forward(self, t, x, dx, context) -> torch.Tensor:\n",
    "        return torch.einsum(\"bi,bij,bj->b\", dx, fisher_metric(x), dx)\n",
    "    \n",
    "class HyperReg(RegularizationFunc):\n",
    "    def forward(self, t, x, dx, context) -> torch.Tensor:\n",
    "        return torch.einsum(\"bi,bij,bj->b\", dx, hyperb_metric(x), dx)\n",
    "\n",
    "class EucReg(RegularizationFunc):\n",
    "    def forward(self, t, x, dx, context) -> torch.Tensor:\n",
    "        return torch.einsum(\"bi,bij,bj->b\", dx, euc_metric(x), dx)\n",
    "\n",
    "\n",
    "class SquaredL2Reg(RegularizationFunc):\n",
    "    def forward(self, t, x, dx, context) -> torch.Tensor:\n",
    "        to_return = dx.view(dx.shape[0], -1)\n",
    "        return torch.pow(torch.norm(to_return, p=2, dim=1), 2)\n",
    "\n",
    "\n",
    "def _get_minibatch_jacobian(y, x, create_graph=True):\n",
    "    \"\"\"Computes the Jacobian of y wrt x assuming minibatch-mode.\n",
    "    Args:\n",
    "      y: (N, ...) with a total of D_y elements in ...\n",
    "      x: (N, ...) with a total of D_x elements in ...\n",
    "    Returns:\n",
    "      The minibatch Jacobian matrix of shape (N, D_y, D_x)\n",
    "    \"\"\"\n",
    "    # assert y.shape[0] == x.shape[0]\n",
    "    y = y.view(y.shape[0], -1)\n",
    "\n",
    "    # Compute Jacobian row by row.\n",
    "    jac = []\n",
    "    for j in range(y.shape[1]):\n",
    "        dy_j_dx = torch.autograd.grad(\n",
    "            y[:, j],\n",
    "            x,\n",
    "            torch.ones_like(y[:, j]),\n",
    "            retain_graph=True,\n",
    "            create_graph=create_graph,\n",
    "        )[0]\n",
    "        jac.append(torch.unsqueeze(dy_j_dx, -1))\n",
    "    jac = torch.cat(jac, -1)\n",
    "    return jac\n",
    "\n",
    "\n",
    "class JacobianFrobeniusReg(RegularizationFunc):\n",
    "    def forward(self, t, x, dx, context) -> torch.Tensor:\n",
    "        if hasattr(context, \"jac\"):\n",
    "            jac = context.jac\n",
    "        else:\n",
    "            jac = _get_minibatch_jacobian(dx, x)\n",
    "            context.jac = jac\n",
    "        jac = _get_minibatch_jacobian(dx, x)\n",
    "        context.jac = jac\n",
    "        return _batch_root_mean_squared(jac)\n",
    "\n",
    "\n",
    "class JacobianDiagFrobeniusReg(RegularizationFunc):\n",
    "    def forward(self, t, x, dx, context) -> torch.Tensor:\n",
    "        if hasattr(context, \"jac\"):\n",
    "            jac = context.jac\n",
    "        else:\n",
    "            jac = _get_minibatch_jacobian(dx, x)\n",
    "            context.jac = jac\n",
    "        diagonal = jac.view(jac.shape[0], -1)[\n",
    "            :, :: jac.shape[1]\n",
    "        ]  # assumes jac is minibatch square, ie. (N, M, M).\n",
    "        return _batch_root_mean_squared(diagonal)\n",
    "\n",
    "\n",
    "class JacobianOffDiagFrobeniusReg(RegularizationFunc):\n",
    "    def forward(self, t, x, dx, context) -> torch.Tensor:\n",
    "        if hasattr(context, \"jac\"):\n",
    "            jac = context.jac\n",
    "        else:\n",
    "            jac = _get_minibatch_jacobian(dx, x)\n",
    "            context.jac = jac\n",
    "        diagonal = jac.view(jac.shape[0], -1)[\n",
    "            :, :: jac.shape[1]\n",
    "        ]  # assumes jac is minibatch square, ie. (N, M, M).\n",
    "        ss_offdiag = torch.sum(jac.view(jac.shape[0], -1) ** 2, dim=1) - torch.sum(\n",
    "            diagonal**2, dim=1\n",
    "        )\n",
    "        ms_offdiag = ss_offdiag / (diagonal.shape[1] * (diagonal.shape[1] - 1))\n",
    "        return ms_offdiag\n",
    "\n",
    "\n",
    "def autograd_trace(x_out, x_in, **kwargs):\n",
    "    \"\"\"Standard brute-force means of obtaining trace of the Jacobian, O(d) calls to autograd.\"\"\"\n",
    "    trJ = 0.0\n",
    "    for i in range(x_in.shape[1]):\n",
    "        trJ += torch.autograd.grad(\n",
    "            x_out[:, i].sum(), x_in, allow_unused=False, create_graph=True\n",
    "        )[0][:, i]\n",
    "    return trJ\n",
    "\n",
    "\n",
    "class CNFReg(RegularizationFunc):\n",
    "    def __init__(self, trace_estimator=None, noise_dist=None):\n",
    "        super().__init__()\n",
    "        self.trace_estimator = (\n",
    "            trace_estimator if trace_estimator is not None else autograd_trace\n",
    "        )\n",
    "        self.noise_dist, self.noise = noise_dist, None\n",
    "\n",
    "    def forward(self, t, x, dx, context):\n",
    "        # TODO we could check if jac is in the context to speed up\n",
    "        return -self.trace_estimator(dx, x, noise=self.noise)\n",
    "\n",
    "\n",
    "class AugmentationModule(nn.Module):\n",
    "    \"\"\"Class orchestrating augmentations.\n",
    "    Also establishes order.\n",
    "    \"\"\"\n",
    "\n",
    "    def __init__(\n",
    "        self,\n",
    "        cnf_estimator: str = None,\n",
    "        l1_reg: float = 0.0,\n",
    "        l2_reg: float = 0.0,\n",
    "        sphere_reg: float = 0.0,\n",
    "        fim_reg: float = 0.0,\n",
    "        euc_reg: float = 0.0,\n",
    "        hyper_reg:float = 0.0,\n",
    "        squared_l2_reg: float = 0.0,\n",
    "        jacobian_frobenius_reg: float = 0.0,\n",
    "        jacobian_diag_frobenius_reg: float = 0.0,\n",
    "        jacobian_off_diag_frobenius_reg: float = 0.0,\n",
    "    ) -> None:\n",
    "        super().__init__()\n",
    "        self.cnf_estimator = cnf_estimator\n",
    "        names = []\n",
    "        coeffs = []\n",
    "        regs = []\n",
    "        if cnf_estimator == \"exact\":\n",
    "            names.append(\"log_prob\")\n",
    "            coeffs.append(1)\n",
    "            regs.append(CNFReg(None, noise_dist=None))\n",
    "        if l1_reg > 0.0:\n",
    "            names.append(\"L1\")\n",
    "            coeffs.append(l1_reg)\n",
    "            regs.append(L1Reg())\n",
    "        if l2_reg > 0.0:\n",
    "            names.append(\"L2\")\n",
    "            coeffs.append(l2_reg)\n",
    "            regs.append(L2Reg())\n",
    "        if sphere_reg > 0.0:\n",
    "            names.append(\"Sphere metric\")\n",
    "            coeffs.append(sphere_reg)\n",
    "            regs.append(SphereReg())\n",
    "        if fim_reg > 0.0:\n",
    "            names.append(\"FIM\")\n",
    "            coeffs.append(fim_reg)\n",
    "            regs.append(FIMReg())\n",
    "        if euc_reg > 0.0:\n",
    "            names.append(\"Euclidean metric\")\n",
    "            coeffs.append(euc_reg)\n",
    "            regs.append(EucReg())\n",
    "        if hyper_reg > 0.0:\n",
    "            names.append(\"Hyperbolic metric\")\n",
    "            coeffs.append(hyper_reg)\n",
    "            regs.append(HyperReg())\n",
    "        if squared_l2_reg > 0.0:\n",
    "            names.append(\"squared_L2\")\n",
    "            coeffs.append(squared_l2_reg)\n",
    "            regs.append(SquaredL2Reg())\n",
    "        if jacobian_frobenius_reg > 0.0:\n",
    "            names.append(\"jacobian_frobenius\")\n",
    "            coeffs.append(jacobian_frobenius_reg)\n",
    "            regs.append(JacobianFrobeniusReg())\n",
    "        if jacobian_diag_frobenius_reg > 0.0:\n",
    "            names.append(\"jacobian_diag_frobenius\")\n",
    "            coeffs.append(jacobian_diag_frobenius_reg)\n",
    "            regs.append(JacobianDiagFrobeniusReg())\n",
    "        if jacobian_off_diag_frobenius_reg > 0.0:\n",
    "            names.append(\"jacobian_off_diag_frobenius\")\n",
    "            coeffs.append(jacobian_off_diag_frobenius_reg)\n",
    "            regs.append(JacobianOffDiagFrobeniusReg())\n",
    "        self.names = names\n",
    "        self.coeffs = torch.tensor(coeffs)\n",
    "        self.regs = torch.nn.ModuleList(regs)\n",
    "        assert len(self.coeffs) == len(self.regs)\n",
    "        self.aug_dims = len(self.coeffs)\n",
    "        self.augmenter = Augmenter(augment_idx=1, augment_dims=self.aug_dims)\n",
    "\n",
    "    def forward(self, x):\n",
    "        \"\"\"Separates and adds together losses.\"\"\"\n",
    "        if self.cnf_estimator is None:\n",
    "            aug, x = x[:, : self.aug_dims], x[:, self.aug_dims :]\n",
    "            reg = aug * self.coeffs\n",
    "            if self.aug_dims == 0:\n",
    "                reg = torch.zeros(1).type_as(x)\n",
    "            return reg, x\n",
    "        delta_logprob, aug, x = x[:, :1], x[:, 1 : self.aug_dims], x[:, self.aug_dims :]\n",
    "        reg = aug * self.coeffs[1:].to(aug)\n",
    "        if self.aug_dims == 1:\n",
    "            reg = torch.zeros(1).type_as(x)\n",
    "        return delta_logprob, reg, x\n",
    "\n",
    "\n",
    "class Augmenter(nn.Module):\n",
    "    \"\"\"Augmentation class. Can handle several types of augmentation strategies for Neural DEs.\n",
    "    :param augment_dims: number of augmented dimensions to initialize\n",
    "    :type augment_dims: int\n",
    "    :param augment_idx: index of dimension to augment\n",
    "    :type augment_idx: int\n",
    "    :param augment_func: nn.Module applied to the input datasets of dimension `d` to determine the augmented initial condition of dimension `d + a`.\n",
    "                        `a` is defined implicitly in `augment_func` e.g. augment_func=nn.Linear(2, 5) augments a 2 dimensional input with 3 additional dimensions.\n",
    "    :type augment_func: nn.Module\n",
    "    :param order: whether to augment before datasets [augmentation, x] or after [x, augmentation] along dimension `augment_idx`. Options: ('first', 'last')\n",
    "    :type order: str\n",
    "    \"\"\"\n",
    "\n",
    "    def __init__(\n",
    "        self,\n",
    "        augment_idx: int = 1,\n",
    "        augment_dims: int = 5,\n",
    "        augment_func=None,\n",
    "        order=\"first\",\n",
    "    ):\n",
    "        super().__init__()\n",
    "        self.augment_dims, self.augment_idx, self.augment_func = (\n",
    "            augment_dims,\n",
    "            augment_idx,\n",
    "            augment_func,\n",
    "        )\n",
    "        self.order = order\n",
    "\n",
    "    def forward(self, x: torch.Tensor, ts: torch.Tensor):\n",
    "        if not self.augment_func:\n",
    "            new_dims = list(x.shape)\n",
    "            new_dims[self.augment_idx] = self.augment_dims\n",
    "\n",
    "            # if-else check for augmentation order\n",
    "            if self.order == \"first\":\n",
    "                x = torch.cat([torch.zeros(new_dims).to(x), x], self.augment_idx)\n",
    "            else:\n",
    "                x = torch.cat([x, torch.zeros(new_dims).to(x)], self.augment_idx)\n",
    "        else:\n",
    "            # if-else check for augmentation order\n",
    "            if self.order == \"first\":\n",
    "                x = torch.cat([self.augment_func(x).to(x), x], self.augment_idx)\n",
    "            else:\n",
    "                x = torch.cat([x, self.augment_func(x).to(x)], self.augment_idx)\n",
    "        return x, ts\n",
    "\n",
    "\n",
    "class AugmentedVectorField(nn.Module):\n",
    "    \"\"\"NeuralODE but augmented state.\n",
    "    Preprends Augmentations to state for easy integration over time\n",
    "    \"\"\"\n",
    "\n",
    "    def __init__(self, net, augmentation_list: nn.ModuleList):\n",
    "        super().__init__()\n",
    "        self.net = net\n",
    "        self.augmentation_list = augmentation_list\n",
    "\n",
    "    def forward(self, t, state, augmented_input=True):\n",
    "        n_aug = len(self.augmentation_list)\n",
    "\n",
    "        class SharedContext:\n",
    "            pass\n",
    "\n",
    "        with torch.set_grad_enabled(True):\n",
    "            # first dimensions reserved for augmentations\n",
    "            x = state\n",
    "            if augmented_input:\n",
    "                x = x[:, n_aug:].requires_grad_(True)\n",
    "\n",
    "            # the neural network will handle the data-dynamics here\n",
    "            dx = self.net(t, x)\n",
    "            if n_aug == 0:\n",
    "                return dx\n",
    "            # x_out = x_out.squeeze(dim=1)\n",
    "\n",
    "            augs = [\n",
    "                aug_fn(t, x, dx, SharedContext) for aug_fn in self.augmentation_list\n",
    "            ]\n",
    "            augs = torch.stack(augs, dim=1)\n",
    "        # `+ 0*state` has the only purpose of connecting state[:, 0] to autograd graph\n",
    "        return torch.cat([augs, dx], 1) + (0 * state if augmented_input else 0)\n",
    "\n",
    "\n",
    "class Sequential(nn.Sequential):\n",
    "    \"\"\"A sequential module which handles multiple inputs.\"\"\"\n",
    "\n",
    "    def forward(self, *input):\n",
    "        for module in self._modules.values():\n",
    "            input = module(*input)\n",
    "        return input\n",
    "\n",
    "\n",
    "class SphereVelocityNet(SimpleDenseNet):\n",
    "    def __init__(self, dim: int, *args, **kwargs):\n",
    "        super().__init__(input_size=dim + 1, target_size=dim, *args, **kwargs)\n",
    "\n",
    "    def forward(self, t, x):\n",
    "        #x = torch.stack(\n",
    "        #    [\n",
    "        #        torch.remainder(x[:, 0], torch.pi),\n",
    "        #        torch.remainder(x[:, 1], 2 * torch.pi),\n",
    "        #    ],\n",
    "        #    dim=1,\n",
    "        #)\n",
    "        if t.dim() < 2:\n",
    "            t = t.repeat(x.shape[0])[:, None]\n",
    "        x = torch.cat([t, x], dim=-1)\n",
    "        #print(x)\n",
    "        return self.model(x)"
   ]
  },
  {
   "cell_type": "code",
   "execution_count": 9,
   "id": "4ad63e59",
   "metadata": {},
   "outputs": [
    {
     "data": {
      "text/plain": [
       "Sequential(\n",
       "  (0): Augmenter()\n",
       "  (1): Neural ODE:\n",
       "  \t- order: 1        \n",
       "  \t- solver: RungeKutta4()\n",
       "  \t- adjoint solver: RungeKutta4()        \n",
       "  \t- tolerances: relative 0.001 absolute 0.001        \n",
       "  \t- adjoint tolerances: relative 0.0001 absolute 0.0001        \n",
       "  \t- num_parameters: 8706        \n",
       "  \t- NFE: 0.0\n",
       ")"
      ]
     },
     "execution_count": 9,
     "metadata": {},
     "output_type": "execute_result"
    }
   ],
   "source": [
    "net = SphereVelocityNet(\n",
    "    2, hidden_dims=[64, 64, 64], activation=\"selu\", batch_norm=False\n",
    ")\n",
    "augmentations = AugmentationModule(sphere_reg=1)\n",
    "aug_net = AugmentedVectorField(net, augmentations.regs)\n",
    "aug_node = Sequential(\n",
    "    augmentations.augmenter, NeuralODE(aug_net, sensitivity=\"adjoint\", solver=\"rk4\")\n",
    ")\n",
    "aug_node"
   ]
  },
  {
   "cell_type": "code",
   "execution_count": 13,
   "id": "9fd56e4a",
   "metadata": {},
   "outputs": [],
   "source": [
    "opt = torch.optim.AdamW(params=aug_node.parameters(), lr=0.001)"
   ]
  },
  {
   "cell_type": "code",
   "execution_count": 14,
   "id": "9a4e8d76",
   "metadata": {},
   "outputs": [],
   "source": [
    "init = 0.0\n",
    "end = pi \n",
    "delta = end - init\n",
    "# x is (theta, phi)\n",
    "# theta \\in [0, pi] phi \\in [0, 2pi]\n",
    "x0 = torch.tensor([pi / 4, init]).view(1, 2)\n",
    "x1 = torch.tensor([pi / 4, end]).view(1, 2)\n",
    "x0_e = polar_to_euc(x0)\n",
    "x1_e = polar_to_euc(x1)"
   ]
  },
  {
   "cell_type": "code",
   "execution_count": 15,
   "id": "7a1dad07",
   "metadata": {},
   "outputs": [
    {
     "name": "stdout",
     "output_type": "stream",
     "text": [
      "tensor([[[1.0000, 0.0000],\n",
      "         [0.0000, 0.5000]]])\n",
      "torch.Size([1, 2, 2])\n"
     ]
    }
   ],
   "source": [
    "#Testing metric shape\n",
    "\n",
    "def sphere_metric(x):\n",
    "    n = x.shape[0]\n",
    "    theta, phi = x[:, 0], x[:, 1]\n",
    "\n",
    "    metric = torch.zeros(n, 2, 2)\n",
    "    metric[:, 0, 0] = 1\n",
    "    metric[:, 1, 1] = torch.sin(theta) ** 2\n",
    "    return metric\n",
    "\n",
    "spmet = sphere_metric(x0)\n",
    "print(spmet)\n",
    "\n",
    "print(spmet.shape)"
   ]
  },
  {
   "cell_type": "code",
   "execution_count": 101,
   "id": "e8f3058a",
   "metadata": {},
   "outputs": [
    {
     "name": "stdout",
     "output_type": "stream",
     "text": [
      "<class 'torch.Tensor'>\n",
      "torch.Size([1, 33])\n",
      "cpu\n"
     ]
    }
   ],
   "source": [
    "print(type(x0))\n",
    "print(x0.shape)\n",
    "print(spmet.device)"
   ]
  },
  {
   "cell_type": "code",
   "execution_count": 33,
   "id": "9e0f21df",
   "metadata": {},
   "outputs": [
    {
     "name": "stdout",
     "output_type": "stream",
     "text": [
      "<class 'torch.Tensor'>\n"
     ]
    }
   ],
   "source": [
    "print(type(x0))"
   ]
  },
  {
   "cell_type": "markdown",
   "id": "ba7744fa",
   "metadata": {},
   "source": [
    "# FIM geodesic"
   ]
  },
  {
   "cell_type": "code",
   "execution_count": 10,
   "id": "593863ee",
   "metadata": {},
   "outputs": [],
   "source": [
    "net = SphereVelocityNet(\n",
    "    X.shape[1], hidden_dims=[64, 64, 64], activation=\"selu\", batch_norm=False\n",
    ")\n",
    "augmentations = AugmentationModule(fim_reg=1).cpu()\n",
    "aug_net = AugmentedVectorField(net, augmentations.regs).cpu()\n",
    "aug_node = Sequential(\n",
    "    augmentations.augmenter, NeuralODE(aug_net, sensitivity=\"adjoint\", solver=\"rk4\")\n",
    ")\n"
   ]
  },
  {
   "cell_type": "code",
   "execution_count": 11,
   "id": "357fe1cd",
   "metadata": {},
   "outputs": [],
   "source": [
    "opt = torch.optim.AdamW(params=aug_node.parameters(), lr=0.00001)"
   ]
  },
  {
   "cell_type": "code",
   "execution_count": 12,
   "id": "6a8cc13f",
   "metadata": {},
   "outputs": [
    {
     "name": "stdout",
     "output_type": "stream",
     "text": [
      "tensor([[ 2.2831,  5.1214,  0.2682,  0.5764, -0.3699,  2.6117,  0.0302,  2.8709,\n",
      "          0.5129,  4.4358,  1.7160,  0.1349,  6.4828,  0.9385,  5.6214,  2.4334,\n",
      "         -0.0097, -0.0631,  0.0820,  5.4348,  0.5251,  5.2519,  0.8457,  0.5018,\n",
      "          3.3559, -0.0882, -0.0601, -0.0813,  3.1730, -0.3375, -0.0691,  0.3611,\n",
      "          3.8610]])\n",
      "tensor([[-0.0770, -0.0852, -0.3710,  2.1286, -0.2378,  0.8665, -0.3986, -0.0753,\n",
      "          2.4945, -0.0948,  2.6769, -0.1559, -0.3976, -0.0784, -0.1007, -0.1516,\n",
      "         -0.0442, -0.1964, -0.2041, -0.1758,  0.7892,  0.2512,  1.0149,  2.1575,\n",
      "         -0.0371, -0.1439,  0.2301,  1.5021, -0.0618,  0.2394,  0.3896, -0.1387,\n",
      "         -0.1695]])\n",
      "torch.Size([1, 33])\n",
      "torch.Size([1, 33])\n"
     ]
    },
    {
     "name": "stderr",
     "output_type": "stream",
     "text": [
      "/tmp/ipykernel_1745/1322552847.py:3: UserWarning: To copy construct from a tensor, it is recommended to use sourceTensor.clone().detach() or sourceTensor.clone().detach().requires_grad_(True), rather than torch.tensor(sourceTensor).\n",
      "  x0 = torch.tensor(ipsc_data[:1,:]).cpu()\n",
      "/tmp/ipykernel_1745/1322552847.py:4: UserWarning: To copy construct from a tensor, it is recommended to use sourceTensor.clone().detach() or sourceTensor.clone().detach().requires_grad_(True), rather than torch.tensor(sourceTensor).\n",
      "  x1 = torch.tensor(ipsc_data[1:2,:]).cpu()\n"
     ]
    }
   ],
   "source": [
    "#Specify start and end\n",
    "\n",
    "x0 = torch.tensor(ipsc_data[:1,:]).cpu()\n",
    "x1 = torch.tensor(ipsc_data[1:2,:]).cpu()\n",
    "\n",
    "print(x0)\n",
    "print(x1)\n",
    "print(x0.shape)\n",
    "print(x1.shape)"
   ]
  },
  {
   "cell_type": "code",
   "execution_count": 15,
   "id": "b997dd27",
   "metadata": {},
   "outputs": [
    {
     "name": "stdout",
     "output_type": "stream",
     "text": [
      "434\n",
      "tensor([[ 2.8205,  3.6462,  1.4044,  0.7664, -0.3596,  2.2523, -0.4895,  3.6687,\n",
      "          2.8981,  3.2247,  0.8146,  1.3239,  4.0841,  1.4787,  5.4587,  4.3249,\n",
      "          1.4807, -0.1108,  0.2476,  3.6742,  2.9383,  6.2777,  0.0142, -0.0379,\n",
      "          2.2211,  1.7503,  0.0614,  0.8133,  2.9598,  0.6857,  0.3858,  5.5761,\n",
      "          2.9927]])\n",
      "torch.Size([1, 33])\n",
      "tensor([[ 3.2384,  4.3287,  1.6057, -0.0442,  0.1368,  2.6272,  3.3259,  3.5619,\n",
      "          2.9300,  2.5819,  0.1742,  1.7679,  6.5398,  1.8795,  0.0462,  2.5629,\n",
      "          2.8801,  0.1094,  2.1000,  3.8499,  2.4355,  6.4467, -0.0093, -0.0714,\n",
      "          3.2836, -0.1131,  0.0991, -0.1495,  4.5657,  1.7286,  1.8555,  1.1637,\n",
      "          1.0327]])\n",
      "torch.Size([1, 33])\n",
      "333\n",
      "434\n"
     ]
    },
    {
     "name": "stderr",
     "output_type": "stream",
     "text": [
      "/tmp/ipykernel_1745/635859012.py:14: UserWarning: To copy construct from a tensor, it is recommended to use sourceTensor.clone().detach() or sourceTensor.clone().detach().requires_grad_(True), rather than torch.tensor(sourceTensor).\n",
      "  x0 = torch.tensor(ipsc_data[rint,None,:]).cpu()\n",
      "/tmp/ipykernel_1745/635859012.py:15: UserWarning: To copy construct from a tensor, it is recommended to use sourceTensor.clone().detach() or sourceTensor.clone().detach().requires_grad_(True), rather than torch.tensor(sourceTensor).\n",
      "  x1 = torch.tensor(ipsc_data[mint,None,:]).cpu()\n"
     ]
    }
   ],
   "source": [
    "import random\n",
    "#Compute closest point for random point \n",
    "rint = random.randint(1,n_obs)\n",
    "\n",
    "norms = []\n",
    "for i in range(n_obs):\n",
    "    if i != rint:\n",
    "        norms.append((torch.linalg.norm(ipsc_data[rint,:] - ipsc_data[i,:]).cpu().detach().numpy()))\n",
    "        \n",
    "sind = int(n_obs/4) #select a point reasonable spaced away\n",
    "mint = np.argsort(norms)[sind]\n",
    "print(mint)\n",
    "\n",
    "x0 = torch.tensor(ipsc_data[rint,None,:]).cpu()\n",
    "x1 = torch.tensor(ipsc_data[mint,None,:]).cpu()\n",
    "\n",
    "print(x0)\n",
    "print(x0.shape)\n",
    "print(x1)\n",
    "print(x1.shape)\n",
    "print(rint)\n",
    "print(mint)"
   ]
  },
  {
   "cell_type": "code",
   "execution_count": 53,
   "id": "d596a9ea",
   "metadata": {},
   "outputs": [
    {
     "name": "stdout",
     "output_type": "stream",
     "text": [
      "tensor([[-0.0150,  1.5177,  2.6543,  5.0425,  0.9342,  0.0714, -0.1391,  2.3700,\n",
      "         -0.1599,  0.8938, -0.0333, -0.0427,  0.2821,  1.4594,  4.4058, -0.1033,\n",
      "          0.8503, -0.0140,  1.5671,  0.9714,  1.7278, -0.0273, -0.0693, -0.0884,\n",
      "          2.5337,  0.3723, -0.0326,  0.1956,  1.6704, -0.5022, -0.0462,  4.2324,\n",
      "          1.3556]])\n",
      "tensor([[-0.1280, -0.0165,  1.9965,  3.0477,  1.4021,  0.2875,  0.0944, -0.3340,\n",
      "          0.6180,  0.6560,  0.8612,  0.5466, -0.1894,  1.1841,  1.1083, -0.0547,\n",
      "          0.5100, -0.1502,  1.8446,  0.3633,  2.0969,  0.2109, -0.0496,  1.0603,\n",
      "          1.6154,  1.2995, -0.1808, -0.0590,  1.2988, -0.2103, -0.0986,  1.5479,\n",
      "          0.6463]])\n"
     ]
    }
   ],
   "source": [
    "print(x0)\n",
    "print(x1)"
   ]
  },
  {
   "cell_type": "code",
   "execution_count": 54,
   "id": "2f267d45",
   "metadata": {},
   "outputs": [
    {
     "name": "stdout",
     "output_type": "stream",
     "text": [
      "torch.Size([1, 33])\n"
     ]
    }
   ],
   "source": [
    "print(x0.shape)"
   ]
  },
  {
   "cell_type": "code",
   "execution_count": 55,
   "id": "fbaf42c0",
   "metadata": {},
   "outputs": [
    {
     "name": "stdout",
     "output_type": "stream",
     "text": [
      "-1\n",
      "<class 'torch.Tensor'>\n"
     ]
    }
   ],
   "source": [
    "print(x0.get_device())\n",
    "print(type(x0))"
   ]
  },
  {
   "cell_type": "code",
   "execution_count": 17,
   "id": "a83e7679",
   "metadata": {},
   "outputs": [
    {
     "name": "stderr",
     "output_type": "stream",
     "text": [
      "/tmp/ipykernel_1745/3820564811.py:5: UserWarning: To copy construct from a tensor, it is recommended to use sourceTensor.clone().detach() or sourceTensor.clone().detach().requires_grad_(True), rather than torch.tensor(sourceTensor).\n",
      "  metric = torch.tensor(fishermat).cuda()\n"
     ]
    },
    {
     "name": "stdout",
     "output_type": "stream",
     "text": [
      "2.895442485809326\n"
     ]
    },
    {
     "ename": "KeyboardInterrupt",
     "evalue": "",
     "output_type": "error",
     "traceback": [
      "\u001b[0;31m---------------------------------------------------------------------------\u001b[0m",
      "\u001b[0;31mKeyboardInterrupt\u001b[0m                         Traceback (most recent call last)",
      "Input \u001b[0;32mIn [17]\u001b[0m, in \u001b[0;36m<cell line: 1>\u001b[0;34m()\u001b[0m\n\u001b[1;32m      8\u001b[0m     \u001b[38;5;28;01mif\u001b[39;00m it \u001b[38;5;241m%\u001b[39m \u001b[38;5;241m100\u001b[39m \u001b[38;5;241m==\u001b[39m \u001b[38;5;241m0\u001b[39m:\n\u001b[1;32m      9\u001b[0m         \u001b[38;5;28mprint\u001b[39m(loss\u001b[38;5;241m.\u001b[39mitem())\n\u001b[0;32m---> 10\u001b[0m     \u001b[43mloss\u001b[49m\u001b[38;5;241;43m.\u001b[39;49m\u001b[43mbackward\u001b[49m\u001b[43m(\u001b[49m\u001b[43m)\u001b[49m\n\u001b[1;32m     11\u001b[0m     opt\u001b[38;5;241m.\u001b[39mstep()\n\u001b[1;32m     14\u001b[0m saveloss \u001b[38;5;241m=\u001b[39m []\n",
      "File \u001b[0;32m/gpfs/ysm/project/krishnaswamy_smita/of56/conda_envs/fashenv/lib/python3.10/site-packages/torch/_tensor.py:363\u001b[0m, in \u001b[0;36mTensor.backward\u001b[0;34m(self, gradient, retain_graph, create_graph, inputs)\u001b[0m\n\u001b[1;32m    354\u001b[0m \u001b[38;5;28;01mif\u001b[39;00m has_torch_function_unary(\u001b[38;5;28mself\u001b[39m):\n\u001b[1;32m    355\u001b[0m     \u001b[38;5;28;01mreturn\u001b[39;00m handle_torch_function(\n\u001b[1;32m    356\u001b[0m         Tensor\u001b[38;5;241m.\u001b[39mbackward,\n\u001b[1;32m    357\u001b[0m         (\u001b[38;5;28mself\u001b[39m,),\n\u001b[0;32m   (...)\u001b[0m\n\u001b[1;32m    361\u001b[0m         create_graph\u001b[38;5;241m=\u001b[39mcreate_graph,\n\u001b[1;32m    362\u001b[0m         inputs\u001b[38;5;241m=\u001b[39minputs)\n\u001b[0;32m--> 363\u001b[0m \u001b[43mtorch\u001b[49m\u001b[38;5;241;43m.\u001b[39;49m\u001b[43mautograd\u001b[49m\u001b[38;5;241;43m.\u001b[39;49m\u001b[43mbackward\u001b[49m\u001b[43m(\u001b[49m\u001b[38;5;28;43mself\u001b[39;49m\u001b[43m,\u001b[49m\u001b[43m \u001b[49m\u001b[43mgradient\u001b[49m\u001b[43m,\u001b[49m\u001b[43m \u001b[49m\u001b[43mretain_graph\u001b[49m\u001b[43m,\u001b[49m\u001b[43m \u001b[49m\u001b[43mcreate_graph\u001b[49m\u001b[43m,\u001b[49m\u001b[43m \u001b[49m\u001b[43minputs\u001b[49m\u001b[38;5;241;43m=\u001b[39;49m\u001b[43minputs\u001b[49m\u001b[43m)\u001b[49m\n",
      "File \u001b[0;32m/gpfs/ysm/project/krishnaswamy_smita/of56/conda_envs/fashenv/lib/python3.10/site-packages/torch/autograd/__init__.py:173\u001b[0m, in \u001b[0;36mbackward\u001b[0;34m(tensors, grad_tensors, retain_graph, create_graph, grad_variables, inputs)\u001b[0m\n\u001b[1;32m    168\u001b[0m     retain_graph \u001b[38;5;241m=\u001b[39m create_graph\n\u001b[1;32m    170\u001b[0m \u001b[38;5;66;03m# The reason we repeat same the comment below is that\u001b[39;00m\n\u001b[1;32m    171\u001b[0m \u001b[38;5;66;03m# some Python versions print out the first line of a multi-line function\u001b[39;00m\n\u001b[1;32m    172\u001b[0m \u001b[38;5;66;03m# calls in the traceback and some print out the last line\u001b[39;00m\n\u001b[0;32m--> 173\u001b[0m \u001b[43mVariable\u001b[49m\u001b[38;5;241;43m.\u001b[39;49m\u001b[43m_execution_engine\u001b[49m\u001b[38;5;241;43m.\u001b[39;49m\u001b[43mrun_backward\u001b[49m\u001b[43m(\u001b[49m\u001b[43m  \u001b[49m\u001b[38;5;66;43;03m# Calls into the C++ engine to run the backward pass\u001b[39;49;00m\n\u001b[1;32m    174\u001b[0m \u001b[43m    \u001b[49m\u001b[43mtensors\u001b[49m\u001b[43m,\u001b[49m\u001b[43m \u001b[49m\u001b[43mgrad_tensors_\u001b[49m\u001b[43m,\u001b[49m\u001b[43m \u001b[49m\u001b[43mretain_graph\u001b[49m\u001b[43m,\u001b[49m\u001b[43m \u001b[49m\u001b[43mcreate_graph\u001b[49m\u001b[43m,\u001b[49m\u001b[43m \u001b[49m\u001b[43minputs\u001b[49m\u001b[43m,\u001b[49m\n\u001b[1;32m    175\u001b[0m \u001b[43m    \u001b[49m\u001b[43mallow_unreachable\u001b[49m\u001b[38;5;241;43m=\u001b[39;49m\u001b[38;5;28;43;01mTrue\u001b[39;49;00m\u001b[43m,\u001b[49m\u001b[43m \u001b[49m\u001b[43maccumulate_grad\u001b[49m\u001b[38;5;241;43m=\u001b[39;49m\u001b[38;5;28;43;01mTrue\u001b[39;49;00m\u001b[43m)\u001b[49m\n",
      "File \u001b[0;32m/gpfs/ysm/project/krishnaswamy_smita/of56/conda_envs/fashenv/lib/python3.10/site-packages/torch/autograd/function.py:253\u001b[0m, in \u001b[0;36mBackwardCFunction.apply\u001b[0;34m(self, *args)\u001b[0m\n\u001b[1;32m    249\u001b[0m     \u001b[38;5;28;01mraise\u001b[39;00m \u001b[38;5;167;01mRuntimeError\u001b[39;00m(\u001b[38;5;124m\"\u001b[39m\u001b[38;5;124mImplementing both \u001b[39m\u001b[38;5;124m'\u001b[39m\u001b[38;5;124mbackward\u001b[39m\u001b[38;5;124m'\u001b[39m\u001b[38;5;124m and \u001b[39m\u001b[38;5;124m'\u001b[39m\u001b[38;5;124mvjp\u001b[39m\u001b[38;5;124m'\u001b[39m\u001b[38;5;124m for a custom \u001b[39m\u001b[38;5;124m\"\u001b[39m\n\u001b[1;32m    250\u001b[0m                        \u001b[38;5;124m\"\u001b[39m\u001b[38;5;124mFunction is not allowed. You should only implement one \u001b[39m\u001b[38;5;124m\"\u001b[39m\n\u001b[1;32m    251\u001b[0m                        \u001b[38;5;124m\"\u001b[39m\u001b[38;5;124mof them.\u001b[39m\u001b[38;5;124m\"\u001b[39m)\n\u001b[1;32m    252\u001b[0m user_fn \u001b[38;5;241m=\u001b[39m vjp_fn \u001b[38;5;28;01mif\u001b[39;00m vjp_fn \u001b[38;5;129;01mis\u001b[39;00m \u001b[38;5;129;01mnot\u001b[39;00m Function\u001b[38;5;241m.\u001b[39mvjp \u001b[38;5;28;01melse\u001b[39;00m backward_fn\n\u001b[0;32m--> 253\u001b[0m \u001b[38;5;28;01mreturn\u001b[39;00m \u001b[43muser_fn\u001b[49m\u001b[43m(\u001b[49m\u001b[38;5;28;43mself\u001b[39;49m\u001b[43m,\u001b[49m\u001b[43m \u001b[49m\u001b[38;5;241;43m*\u001b[39;49m\u001b[43margs\u001b[49m\u001b[43m)\u001b[49m\n",
      "File \u001b[0;32m/gpfs/ysm/project/krishnaswamy_smita/of56/conda_envs/fashenv/lib/python3.10/site-packages/torchdyn/numerics/sensitivity.py:82\u001b[0m, in \u001b[0;36m_gather_odefunc_adjoint.<locals>._ODEProblemFunc.backward\u001b[0;34m(ctx, *grad_output)\u001b[0m\n\u001b[1;32m     80\u001b[0m dLdt[\u001b[38;5;241m-\u001b[39m\u001b[38;5;241m1\u001b[39m] \u001b[38;5;241m=\u001b[39m λtT\n\u001b[1;32m     81\u001b[0m \u001b[38;5;28;01mfor\u001b[39;00m i \u001b[38;5;129;01min\u001b[39;00m \u001b[38;5;28mrange\u001b[39m(\u001b[38;5;28mlen\u001b[39m(t_sol) \u001b[38;5;241m-\u001b[39m \u001b[38;5;241m1\u001b[39m, \u001b[38;5;241m0\u001b[39m, \u001b[38;5;241m-\u001b[39m\u001b[38;5;241m1\u001b[39m):\n\u001b[0;32m---> 82\u001b[0m     t_adj_sol, A \u001b[38;5;241m=\u001b[39m \u001b[43modeint\u001b[49m\u001b[43m(\u001b[49m\u001b[43madjoint_dynamics\u001b[49m\u001b[43m,\u001b[49m\u001b[43m \u001b[49m\u001b[43mA\u001b[49m\u001b[43m,\u001b[49m\u001b[43m \u001b[49m\u001b[43mt_sol\u001b[49m\u001b[43m[\u001b[49m\u001b[43mi\u001b[49m\u001b[43m \u001b[49m\u001b[38;5;241;43m-\u001b[39;49m\u001b[43m \u001b[49m\u001b[38;5;241;43m1\u001b[39;49m\u001b[43m:\u001b[49m\u001b[43mi\u001b[49m\u001b[43m \u001b[49m\u001b[38;5;241;43m+\u001b[39;49m\u001b[43m \u001b[49m\u001b[38;5;241;43m1\u001b[39;49m\u001b[43m]\u001b[49m\u001b[38;5;241;43m.\u001b[39;49m\u001b[43mflip\u001b[49m\u001b[43m(\u001b[49m\u001b[38;5;241;43m0\u001b[39;49m\u001b[43m)\u001b[49m\u001b[43m,\u001b[49m\u001b[43m \u001b[49m\n\u001b[1;32m     83\u001b[0m \u001b[43m                          \u001b[49m\u001b[43msolver_adjoint\u001b[49m\u001b[43m,\u001b[49m\u001b[43m \u001b[49m\u001b[43matol\u001b[49m\u001b[38;5;241;43m=\u001b[39;49m\u001b[43matol_adjoint\u001b[49m\u001b[43m,\u001b[49m\u001b[43m \u001b[49m\u001b[43mrtol\u001b[49m\u001b[38;5;241;43m=\u001b[39;49m\u001b[43mrtol_adjoint\u001b[49m\u001b[43m,\u001b[49m\n\u001b[1;32m     84\u001b[0m \u001b[43m                          \u001b[49m\u001b[43mseminorm\u001b[49m\u001b[38;5;241;43m=\u001b[39;49m\u001b[43m(\u001b[49m\u001b[38;5;28;43;01mTrue\u001b[39;49;00m\u001b[43m,\u001b[49m\u001b[43m \u001b[49m\u001b[43mxT_nel\u001b[49m\u001b[38;5;241;43m+\u001b[39;49m\u001b[43mλT_nel\u001b[49m\u001b[43m)\u001b[49m\u001b[43m)\u001b[49m\n\u001b[1;32m     85\u001b[0m     \u001b[38;5;66;03m# prepare adjoint state for next interval\u001b[39;00m\n\u001b[1;32m     86\u001b[0m     \u001b[38;5;66;03m#TODO: reuse vf_eval for dLdt calculations\u001b[39;00m\n\u001b[1;32m     87\u001b[0m     xt \u001b[38;5;241m=\u001b[39m A[\u001b[38;5;241m-\u001b[39m\u001b[38;5;241m1\u001b[39m, :xT_nel]\u001b[38;5;241m.\u001b[39mreshape(xT_shape)\n",
      "File \u001b[0;32m/gpfs/ysm/project/krishnaswamy_smita/of56/conda_envs/fashenv/lib/python3.10/site-packages/torchdyn/numerics/odeint.py:85\u001b[0m, in \u001b[0;36modeint\u001b[0;34m(f, x, t_span, solver, atol, rtol, t_stops, verbose, interpolator, return_all_eval, save_at, args, seminorm)\u001b[0m\n\u001b[1;32m     83\u001b[0m \t\u001b[38;5;28;01mif\u001b[39;00m atol \u001b[38;5;241m!=\u001b[39m odeint\u001b[38;5;241m.\u001b[39m\u001b[38;5;18m__defaults__\u001b[39m[\u001b[38;5;241m0\u001b[39m] \u001b[38;5;129;01mor\u001b[39;00m rtol \u001b[38;5;241m!=\u001b[39m odeint\u001b[38;5;241m.\u001b[39m\u001b[38;5;18m__defaults__\u001b[39m[\u001b[38;5;241m1\u001b[39m]:\n\u001b[1;32m     84\u001b[0m \t\twarn(\u001b[38;5;124m\"\u001b[39m\u001b[38;5;124mSetting tolerances has no effect on fixed-step methods\u001b[39m\u001b[38;5;124m\"\u001b[39m)\n\u001b[0;32m---> 85\u001b[0m \t\u001b[38;5;28;01mreturn\u001b[39;00m \u001b[43m_fixed_odeint\u001b[49m\u001b[43m(\u001b[49m\u001b[43mf_\u001b[49m\u001b[43m,\u001b[49m\u001b[43m \u001b[49m\u001b[43mx\u001b[49m\u001b[43m,\u001b[49m\u001b[43m \u001b[49m\u001b[43mt_span\u001b[49m\u001b[43m,\u001b[49m\u001b[43m \u001b[49m\u001b[43msolver\u001b[49m\u001b[43m,\u001b[49m\u001b[43m \u001b[49m\u001b[43msave_at\u001b[49m\u001b[38;5;241;43m=\u001b[39;49m\u001b[43msave_at\u001b[49m\u001b[43m,\u001b[49m\u001b[43m \u001b[49m\u001b[43margs\u001b[49m\u001b[38;5;241;43m=\u001b[39;49m\u001b[43margs\u001b[49m\u001b[43m)\u001b[49m\n\u001b[1;32m     86\u001b[0m \u001b[38;5;28;01melif\u001b[39;00m stepping_class \u001b[38;5;241m==\u001b[39m \u001b[38;5;124m'\u001b[39m\u001b[38;5;124madaptive\u001b[39m\u001b[38;5;124m'\u001b[39m:\n\u001b[1;32m     87\u001b[0m \tt \u001b[38;5;241m=\u001b[39m t_span[\u001b[38;5;241m0\u001b[39m]\n",
      "File \u001b[0;32m/gpfs/ysm/project/krishnaswamy_smita/of56/conda_envs/fashenv/lib/python3.10/site-packages/torchdyn/numerics/odeint.py:425\u001b[0m, in \u001b[0;36m_fixed_odeint\u001b[0;34m(f, x, t_span, solver, save_at, args)\u001b[0m\n\u001b[1;32m    423\u001b[0m steps \u001b[38;5;241m=\u001b[39m \u001b[38;5;241m1\u001b[39m\n\u001b[1;32m    424\u001b[0m \u001b[38;5;28;01mwhile\u001b[39;00m steps \u001b[38;5;241m<\u001b[39m\u001b[38;5;241m=\u001b[39m \u001b[38;5;28mlen\u001b[39m(t_span) \u001b[38;5;241m-\u001b[39m \u001b[38;5;241m1\u001b[39m:\n\u001b[0;32m--> 425\u001b[0m \t_, x, _ \u001b[38;5;241m=\u001b[39m \u001b[43msolver\u001b[49m\u001b[38;5;241;43m.\u001b[39;49m\u001b[43mstep\u001b[49m\u001b[43m(\u001b[49m\u001b[43mf\u001b[49m\u001b[43m,\u001b[49m\u001b[43m \u001b[49m\u001b[43mx\u001b[49m\u001b[43m,\u001b[49m\u001b[43m \u001b[49m\u001b[43mt\u001b[49m\u001b[43m,\u001b[49m\u001b[43m \u001b[49m\u001b[43mdt\u001b[49m\u001b[43m,\u001b[49m\u001b[43m \u001b[49m\u001b[43mk1\u001b[49m\u001b[38;5;241;43m=\u001b[39;49m\u001b[38;5;28;43;01mNone\u001b[39;49;00m\u001b[43m,\u001b[49m\u001b[43m \u001b[49m\u001b[43margs\u001b[49m\u001b[38;5;241;43m=\u001b[39;49m\u001b[43margs\u001b[49m\u001b[43m)\u001b[49m\n\u001b[1;32m    426\u001b[0m \tt \u001b[38;5;241m=\u001b[39m t \u001b[38;5;241m+\u001b[39m dt\n\u001b[1;32m    428\u001b[0m \t\u001b[38;5;28;01mif\u001b[39;00m torch\u001b[38;5;241m.\u001b[39misclose(t, save_at)\u001b[38;5;241m.\u001b[39msum():\n",
      "File \u001b[0;32m/gpfs/ysm/project/krishnaswamy_smita/of56/conda_envs/fashenv/lib/python3.10/site-packages/torchdyn/numerics/solvers/ode.py:102\u001b[0m, in \u001b[0;36mRungeKutta4.step\u001b[0;34m(self, f, x, t, dt, k1, args)\u001b[0m\n\u001b[1;32m    100\u001b[0m k2 \u001b[38;5;241m=\u001b[39m f(t \u001b[38;5;241m+\u001b[39m c[\u001b[38;5;241m0\u001b[39m] \u001b[38;5;241m*\u001b[39m dt, x \u001b[38;5;241m+\u001b[39m dt \u001b[38;5;241m*\u001b[39m (a[\u001b[38;5;241m0\u001b[39m] \u001b[38;5;241m*\u001b[39m k1))\n\u001b[1;32m    101\u001b[0m k3 \u001b[38;5;241m=\u001b[39m f(t \u001b[38;5;241m+\u001b[39m c[\u001b[38;5;241m1\u001b[39m] \u001b[38;5;241m*\u001b[39m dt, x \u001b[38;5;241m+\u001b[39m dt \u001b[38;5;241m*\u001b[39m (a[\u001b[38;5;241m1\u001b[39m][\u001b[38;5;241m0\u001b[39m] \u001b[38;5;241m*\u001b[39m k1 \u001b[38;5;241m+\u001b[39m a[\u001b[38;5;241m1\u001b[39m][\u001b[38;5;241m1\u001b[39m] \u001b[38;5;241m*\u001b[39m k2))\n\u001b[0;32m--> 102\u001b[0m k4 \u001b[38;5;241m=\u001b[39m \u001b[43mf\u001b[49m\u001b[43m(\u001b[49m\u001b[43mt\u001b[49m\u001b[43m \u001b[49m\u001b[38;5;241;43m+\u001b[39;49m\u001b[43m \u001b[49m\u001b[43mc\u001b[49m\u001b[43m[\u001b[49m\u001b[38;5;241;43m2\u001b[39;49m\u001b[43m]\u001b[49m\u001b[43m \u001b[49m\u001b[38;5;241;43m*\u001b[39;49m\u001b[43m \u001b[49m\u001b[43mdt\u001b[49m\u001b[43m,\u001b[49m\u001b[43m \u001b[49m\u001b[43mx\u001b[49m\u001b[43m \u001b[49m\u001b[38;5;241;43m+\u001b[39;49m\u001b[43m \u001b[49m\u001b[43mdt\u001b[49m\u001b[43m \u001b[49m\u001b[38;5;241;43m*\u001b[39;49m\u001b[43m \u001b[49m\u001b[43m(\u001b[49m\u001b[43ma\u001b[49m\u001b[43m[\u001b[49m\u001b[38;5;241;43m2\u001b[39;49m\u001b[43m]\u001b[49m\u001b[43m[\u001b[49m\u001b[38;5;241;43m0\u001b[39;49m\u001b[43m]\u001b[49m\u001b[43m \u001b[49m\u001b[38;5;241;43m*\u001b[39;49m\u001b[43m \u001b[49m\u001b[43mk1\u001b[49m\u001b[43m \u001b[49m\u001b[38;5;241;43m+\u001b[39;49m\u001b[43m \u001b[49m\u001b[43ma\u001b[49m\u001b[43m[\u001b[49m\u001b[38;5;241;43m2\u001b[39;49m\u001b[43m]\u001b[49m\u001b[43m[\u001b[49m\u001b[38;5;241;43m1\u001b[39;49m\u001b[43m]\u001b[49m\u001b[43m \u001b[49m\u001b[38;5;241;43m*\u001b[39;49m\u001b[43m \u001b[49m\u001b[43mk2\u001b[49m\u001b[43m \u001b[49m\u001b[38;5;241;43m+\u001b[39;49m\u001b[43m \u001b[49m\u001b[43ma\u001b[49m\u001b[43m[\u001b[49m\u001b[38;5;241;43m2\u001b[39;49m\u001b[43m]\u001b[49m\u001b[43m[\u001b[49m\u001b[38;5;241;43m2\u001b[39;49m\u001b[43m]\u001b[49m\u001b[43m \u001b[49m\u001b[38;5;241;43m*\u001b[39;49m\u001b[43m \u001b[49m\u001b[43mk3\u001b[49m\u001b[43m)\u001b[49m\u001b[43m)\u001b[49m\n\u001b[1;32m    103\u001b[0m x_sol \u001b[38;5;241m=\u001b[39m x \u001b[38;5;241m+\u001b[39m dt \u001b[38;5;241m*\u001b[39m (bsol[\u001b[38;5;241m0\u001b[39m] \u001b[38;5;241m*\u001b[39m k1 \u001b[38;5;241m+\u001b[39m bsol[\u001b[38;5;241m1\u001b[39m] \u001b[38;5;241m*\u001b[39m k2 \u001b[38;5;241m+\u001b[39m bsol[\u001b[38;5;241m2\u001b[39m] \u001b[38;5;241m*\u001b[39m k3 \u001b[38;5;241m+\u001b[39m bsol[\u001b[38;5;241m3\u001b[39m] \u001b[38;5;241m*\u001b[39m k4)\n\u001b[1;32m    104\u001b[0m \u001b[38;5;28;01mreturn\u001b[39;00m \u001b[38;5;28;01mNone\u001b[39;00m, x_sol, \u001b[38;5;28;01mNone\u001b[39;00m\n",
      "File \u001b[0;32m/gpfs/ysm/project/krishnaswamy_smita/of56/conda_envs/fashenv/lib/python3.10/site-packages/torchdyn/numerics/odeint.py:57\u001b[0m, in \u001b[0;36modeint.<locals>.<lambda>\u001b[0;34m(t, x)\u001b[0m\n\u001b[1;32m     55\u001b[0m \u001b[38;5;28;01mif\u001b[39;00m t_span[\u001b[38;5;241m1\u001b[39m] \u001b[38;5;241m<\u001b[39m t_span[\u001b[38;5;241m0\u001b[39m]: \u001b[38;5;66;03m# time is reversed\u001b[39;00m\n\u001b[1;32m     56\u001b[0m \t\u001b[38;5;28;01mif\u001b[39;00m verbose: warn(\u001b[38;5;124m\"\u001b[39m\u001b[38;5;124mYou are integrating on a reversed time domain, adjusting the vector field automatically\u001b[39m\u001b[38;5;124m\"\u001b[39m)\n\u001b[0;32m---> 57\u001b[0m \tf_ \u001b[38;5;241m=\u001b[39m \u001b[38;5;28;01mlambda\u001b[39;00m t, x: \u001b[38;5;241m-\u001b[39m\u001b[43mf\u001b[49m\u001b[43m(\u001b[49m\u001b[38;5;241;43m-\u001b[39;49m\u001b[43mt\u001b[49m\u001b[43m,\u001b[49m\u001b[43m \u001b[49m\u001b[43mx\u001b[49m\u001b[43m)\u001b[49m\n\u001b[1;32m     58\u001b[0m \tt_span \u001b[38;5;241m=\u001b[39m \u001b[38;5;241m-\u001b[39mt_span\n\u001b[1;32m     59\u001b[0m \u001b[38;5;28;01melse\u001b[39;00m: f_ \u001b[38;5;241m=\u001b[39m f\n",
      "File \u001b[0;32m/gpfs/ysm/project/krishnaswamy_smita/of56/conda_envs/fashenv/lib/python3.10/site-packages/torchdyn/numerics/sensitivity.py:63\u001b[0m, in \u001b[0;36m_gather_odefunc_adjoint.<locals>._ODEProblemFunc.backward.<locals>.adjoint_dynamics\u001b[0;34m(t, A)\u001b[0m\n\u001b[1;32m     61\u001b[0m \u001b[38;5;28;01mwith\u001b[39;00m torch\u001b[38;5;241m.\u001b[39mset_grad_enabled(\u001b[38;5;28;01mTrue\u001b[39;00m):\n\u001b[1;32m     62\u001b[0m     x, t \u001b[38;5;241m=\u001b[39m x\u001b[38;5;241m.\u001b[39mrequires_grad_(\u001b[38;5;28;01mTrue\u001b[39;00m), t\u001b[38;5;241m.\u001b[39mrequires_grad_(\u001b[38;5;28;01mTrue\u001b[39;00m)\n\u001b[0;32m---> 63\u001b[0m     dx \u001b[38;5;241m=\u001b[39m \u001b[43mvf\u001b[49m\u001b[43m(\u001b[49m\u001b[43mt\u001b[49m\u001b[43m,\u001b[49m\u001b[43m \u001b[49m\u001b[43mx\u001b[49m\u001b[43m)\u001b[49m\n\u001b[1;32m     64\u001b[0m     dλ, dt, \u001b[38;5;241m*\u001b[39mdμ \u001b[38;5;241m=\u001b[39m \u001b[38;5;28mtuple\u001b[39m(grad(dx, (x, t) \u001b[38;5;241m+\u001b[39m \u001b[38;5;28mtuple\u001b[39m(vf\u001b[38;5;241m.\u001b[39mparameters()), \u001b[38;5;241m-\u001b[39mλ,\n\u001b[1;32m     65\u001b[0m                     allow_unused\u001b[38;5;241m=\u001b[39m\u001b[38;5;28;01mTrue\u001b[39;00m, retain_graph\u001b[38;5;241m=\u001b[39m\u001b[38;5;28;01mFalse\u001b[39;00m))\n\u001b[1;32m     67\u001b[0m     \u001b[38;5;28;01mif\u001b[39;00m integral_loss:\n",
      "File \u001b[0;32m/gpfs/ysm/project/krishnaswamy_smita/of56/conda_envs/fashenv/lib/python3.10/site-packages/torch/nn/modules/module.py:1110\u001b[0m, in \u001b[0;36mModule._call_impl\u001b[0;34m(self, *input, **kwargs)\u001b[0m\n\u001b[1;32m   1106\u001b[0m \u001b[38;5;66;03m# If we don't have any hooks, we want to skip the rest of the logic in\u001b[39;00m\n\u001b[1;32m   1107\u001b[0m \u001b[38;5;66;03m# this function, and just call forward.\u001b[39;00m\n\u001b[1;32m   1108\u001b[0m \u001b[38;5;28;01mif\u001b[39;00m \u001b[38;5;129;01mnot\u001b[39;00m (\u001b[38;5;28mself\u001b[39m\u001b[38;5;241m.\u001b[39m_backward_hooks \u001b[38;5;129;01mor\u001b[39;00m \u001b[38;5;28mself\u001b[39m\u001b[38;5;241m.\u001b[39m_forward_hooks \u001b[38;5;129;01mor\u001b[39;00m \u001b[38;5;28mself\u001b[39m\u001b[38;5;241m.\u001b[39m_forward_pre_hooks \u001b[38;5;129;01mor\u001b[39;00m _global_backward_hooks\n\u001b[1;32m   1109\u001b[0m         \u001b[38;5;129;01mor\u001b[39;00m _global_forward_hooks \u001b[38;5;129;01mor\u001b[39;00m _global_forward_pre_hooks):\n\u001b[0;32m-> 1110\u001b[0m     \u001b[38;5;28;01mreturn\u001b[39;00m \u001b[43mforward_call\u001b[49m\u001b[43m(\u001b[49m\u001b[38;5;241;43m*\u001b[39;49m\u001b[38;5;28;43minput\u001b[39;49m\u001b[43m,\u001b[49m\u001b[43m \u001b[49m\u001b[38;5;241;43m*\u001b[39;49m\u001b[38;5;241;43m*\u001b[39;49m\u001b[43mkwargs\u001b[49m\u001b[43m)\u001b[49m\n\u001b[1;32m   1111\u001b[0m \u001b[38;5;66;03m# Do not call functions when jit is used\u001b[39;00m\n\u001b[1;32m   1112\u001b[0m full_backward_hooks, non_full_backward_hooks \u001b[38;5;241m=\u001b[39m [], []\n",
      "File \u001b[0;32m/gpfs/ysm/project/krishnaswamy_smita/of56/conda_envs/fashenv/lib/python3.10/site-packages/torchdyn/core/defunc.py:77\u001b[0m, in \u001b[0;36mDEFunc.forward\u001b[0;34m(self, t, x)\u001b[0m\n\u001b[1;32m     74\u001b[0m \u001b[38;5;66;03m# regular forward\u001b[39;00m\n\u001b[1;32m     75\u001b[0m \u001b[38;5;28;01melse\u001b[39;00m:\n\u001b[1;32m     76\u001b[0m     \u001b[38;5;28;01mif\u001b[39;00m \u001b[38;5;28mself\u001b[39m\u001b[38;5;241m.\u001b[39morder \u001b[38;5;241m>\u001b[39m \u001b[38;5;241m1\u001b[39m: x \u001b[38;5;241m=\u001b[39m \u001b[38;5;28mself\u001b[39m\u001b[38;5;241m.\u001b[39mhigher_order_forward(t, x)\n\u001b[0;32m---> 77\u001b[0m     \u001b[38;5;28;01melse\u001b[39;00m: x \u001b[38;5;241m=\u001b[39m \u001b[38;5;28;43mself\u001b[39;49m\u001b[38;5;241;43m.\u001b[39;49m\u001b[43mvf\u001b[49m\u001b[43m(\u001b[49m\u001b[43mt\u001b[49m\u001b[43m,\u001b[49m\u001b[43m \u001b[49m\u001b[43mx\u001b[49m\u001b[43m)\u001b[49m\n\u001b[1;32m     78\u001b[0m     \u001b[38;5;28;01mreturn\u001b[39;00m x\n",
      "File \u001b[0;32m/gpfs/ysm/project/krishnaswamy_smita/of56/conda_envs/fashenv/lib/python3.10/site-packages/torch/nn/modules/module.py:1110\u001b[0m, in \u001b[0;36mModule._call_impl\u001b[0;34m(self, *input, **kwargs)\u001b[0m\n\u001b[1;32m   1106\u001b[0m \u001b[38;5;66;03m# If we don't have any hooks, we want to skip the rest of the logic in\u001b[39;00m\n\u001b[1;32m   1107\u001b[0m \u001b[38;5;66;03m# this function, and just call forward.\u001b[39;00m\n\u001b[1;32m   1108\u001b[0m \u001b[38;5;28;01mif\u001b[39;00m \u001b[38;5;129;01mnot\u001b[39;00m (\u001b[38;5;28mself\u001b[39m\u001b[38;5;241m.\u001b[39m_backward_hooks \u001b[38;5;129;01mor\u001b[39;00m \u001b[38;5;28mself\u001b[39m\u001b[38;5;241m.\u001b[39m_forward_hooks \u001b[38;5;129;01mor\u001b[39;00m \u001b[38;5;28mself\u001b[39m\u001b[38;5;241m.\u001b[39m_forward_pre_hooks \u001b[38;5;129;01mor\u001b[39;00m _global_backward_hooks\n\u001b[1;32m   1109\u001b[0m         \u001b[38;5;129;01mor\u001b[39;00m _global_forward_hooks \u001b[38;5;129;01mor\u001b[39;00m _global_forward_pre_hooks):\n\u001b[0;32m-> 1110\u001b[0m     \u001b[38;5;28;01mreturn\u001b[39;00m \u001b[43mforward_call\u001b[49m\u001b[43m(\u001b[49m\u001b[38;5;241;43m*\u001b[39;49m\u001b[38;5;28;43minput\u001b[39;49m\u001b[43m,\u001b[49m\u001b[43m \u001b[49m\u001b[38;5;241;43m*\u001b[39;49m\u001b[38;5;241;43m*\u001b[39;49m\u001b[43mkwargs\u001b[49m\u001b[43m)\u001b[49m\n\u001b[1;32m   1111\u001b[0m \u001b[38;5;66;03m# Do not call functions when jit is used\u001b[39;00m\n\u001b[1;32m   1112\u001b[0m full_backward_hooks, non_full_backward_hooks \u001b[38;5;241m=\u001b[39m [], []\n",
      "Input \u001b[0;32mIn [8]\u001b[0m, in \u001b[0;36mAugmentedVectorField.forward\u001b[0;34m(self, t, state, augmented_input)\u001b[0m\n\u001b[1;32m    444\u001b[0m         \u001b[38;5;28;01mreturn\u001b[39;00m dx\n\u001b[1;32m    445\u001b[0m     \u001b[38;5;66;03m# x_out = x_out.squeeze(dim=1)\u001b[39;00m\n\u001b[0;32m--> 447\u001b[0m     augs \u001b[38;5;241m=\u001b[39m [\n\u001b[1;32m    448\u001b[0m         aug_fn(t, x, dx, SharedContext) \u001b[38;5;28;01mfor\u001b[39;00m aug_fn \u001b[38;5;129;01min\u001b[39;00m \u001b[38;5;28mself\u001b[39m\u001b[38;5;241m.\u001b[39maugmentation_list\n\u001b[1;32m    449\u001b[0m     ]\n\u001b[1;32m    450\u001b[0m     augs \u001b[38;5;241m=\u001b[39m torch\u001b[38;5;241m.\u001b[39mstack(augs, dim\u001b[38;5;241m=\u001b[39m\u001b[38;5;241m1\u001b[39m)\n\u001b[1;32m    451\u001b[0m \u001b[38;5;66;03m# `+ 0*state` has the only purpose of connecting state[:, 0] to autograd graph\u001b[39;00m\n",
      "Input \u001b[0;32mIn [8]\u001b[0m, in \u001b[0;36m<listcomp>\u001b[0;34m(.0)\u001b[0m\n\u001b[1;32m    444\u001b[0m         \u001b[38;5;28;01mreturn\u001b[39;00m dx\n\u001b[1;32m    445\u001b[0m     \u001b[38;5;66;03m# x_out = x_out.squeeze(dim=1)\u001b[39;00m\n\u001b[1;32m    447\u001b[0m     augs \u001b[38;5;241m=\u001b[39m [\n\u001b[0;32m--> 448\u001b[0m         \u001b[43maug_fn\u001b[49m\u001b[43m(\u001b[49m\u001b[43mt\u001b[49m\u001b[43m,\u001b[49m\u001b[43m \u001b[49m\u001b[43mx\u001b[49m\u001b[43m,\u001b[49m\u001b[43m \u001b[49m\u001b[43mdx\u001b[49m\u001b[43m,\u001b[49m\u001b[43m \u001b[49m\u001b[43mSharedContext\u001b[49m\u001b[43m)\u001b[49m \u001b[38;5;28;01mfor\u001b[39;00m aug_fn \u001b[38;5;129;01min\u001b[39;00m \u001b[38;5;28mself\u001b[39m\u001b[38;5;241m.\u001b[39maugmentation_list\n\u001b[1;32m    449\u001b[0m     ]\n\u001b[1;32m    450\u001b[0m     augs \u001b[38;5;241m=\u001b[39m torch\u001b[38;5;241m.\u001b[39mstack(augs, dim\u001b[38;5;241m=\u001b[39m\u001b[38;5;241m1\u001b[39m)\n\u001b[1;32m    451\u001b[0m \u001b[38;5;66;03m# `+ 0*state` has the only purpose of connecting state[:, 0] to autograd graph\u001b[39;00m\n",
      "File \u001b[0;32m/gpfs/ysm/project/krishnaswamy_smita/of56/conda_envs/fashenv/lib/python3.10/site-packages/torch/nn/modules/module.py:1110\u001b[0m, in \u001b[0;36mModule._call_impl\u001b[0;34m(self, *input, **kwargs)\u001b[0m\n\u001b[1;32m   1106\u001b[0m \u001b[38;5;66;03m# If we don't have any hooks, we want to skip the rest of the logic in\u001b[39;00m\n\u001b[1;32m   1107\u001b[0m \u001b[38;5;66;03m# this function, and just call forward.\u001b[39;00m\n\u001b[1;32m   1108\u001b[0m \u001b[38;5;28;01mif\u001b[39;00m \u001b[38;5;129;01mnot\u001b[39;00m (\u001b[38;5;28mself\u001b[39m\u001b[38;5;241m.\u001b[39m_backward_hooks \u001b[38;5;129;01mor\u001b[39;00m \u001b[38;5;28mself\u001b[39m\u001b[38;5;241m.\u001b[39m_forward_hooks \u001b[38;5;129;01mor\u001b[39;00m \u001b[38;5;28mself\u001b[39m\u001b[38;5;241m.\u001b[39m_forward_pre_hooks \u001b[38;5;129;01mor\u001b[39;00m _global_backward_hooks\n\u001b[1;32m   1109\u001b[0m         \u001b[38;5;129;01mor\u001b[39;00m _global_forward_hooks \u001b[38;5;129;01mor\u001b[39;00m _global_forward_pre_hooks):\n\u001b[0;32m-> 1110\u001b[0m     \u001b[38;5;28;01mreturn\u001b[39;00m \u001b[43mforward_call\u001b[49m\u001b[43m(\u001b[49m\u001b[38;5;241;43m*\u001b[39;49m\u001b[38;5;28;43minput\u001b[39;49m\u001b[43m,\u001b[49m\u001b[43m \u001b[49m\u001b[38;5;241;43m*\u001b[39;49m\u001b[38;5;241;43m*\u001b[39;49m\u001b[43mkwargs\u001b[49m\u001b[43m)\u001b[49m\n\u001b[1;32m   1111\u001b[0m \u001b[38;5;66;03m# Do not call functions when jit is used\u001b[39;00m\n\u001b[1;32m   1112\u001b[0m full_backward_hooks, non_full_backward_hooks \u001b[38;5;241m=\u001b[39m [], []\n",
      "Input \u001b[0;32mIn [8]\u001b[0m, in \u001b[0;36mFIMReg.forward\u001b[0;34m(self, t, x, dx, context)\u001b[0m\n\u001b[1;32m    173\u001b[0m \u001b[38;5;28;01mdef\u001b[39;00m \u001b[38;5;21mforward\u001b[39m(\u001b[38;5;28mself\u001b[39m, t, x, dx, context) \u001b[38;5;241m-\u001b[39m\u001b[38;5;241m>\u001b[39m torch\u001b[38;5;241m.\u001b[39mTensor:\n\u001b[0;32m--> 174\u001b[0m     \u001b[38;5;28;01mreturn\u001b[39;00m torch\u001b[38;5;241m.\u001b[39meinsum(\u001b[38;5;124m\"\u001b[39m\u001b[38;5;124mbi,bij,bj->b\u001b[39m\u001b[38;5;124m\"\u001b[39m, dx, \u001b[43mfisher_metric\u001b[49m\u001b[43m(\u001b[49m\u001b[43mx\u001b[49m\u001b[43m)\u001b[49m, dx)\n",
      "Input \u001b[0;32mIn [8]\u001b[0m, in \u001b[0;36mfisher_metric\u001b[0;34m(x)\u001b[0m\n\u001b[1;32m      2\u001b[0m y \u001b[38;5;241m=\u001b[39m model_ipsc\u001b[38;5;241m.\u001b[39mencode(x)\n\u001b[1;32m      3\u001b[0m fisher \u001b[38;5;241m=\u001b[39m FIM_cpu(x,fcn,\u001b[38;5;241m1\u001b[39m,n_dim,emb_dim,y)\n\u001b[0;32m----> 4\u001b[0m fishermat \u001b[38;5;241m=\u001b[39m \u001b[43mfisher\u001b[49m\u001b[38;5;241;43m.\u001b[39;49m\u001b[43mfit\u001b[49m\u001b[43m(\u001b[49m\u001b[43m)\u001b[49m\n\u001b[1;32m      5\u001b[0m metric \u001b[38;5;241m=\u001b[39m torch\u001b[38;5;241m.\u001b[39mtensor(fishermat)\u001b[38;5;241m.\u001b[39mcuda()\n\u001b[1;32m      6\u001b[0m \u001b[38;5;28;01mreturn\u001b[39;00m metric\u001b[38;5;241m.\u001b[39mcpu()\n",
      "File \u001b[0;32m/gpfs/ysm/home/of56/FIM_farnam/notebooks/../src/fim_noemb.py:192\u001b[0m, in \u001b[0;36mFIM_cpu.fit\u001b[0;34m(self)\u001b[0m\n\u001b[1;32m    190\u001b[0m     \u001b[38;5;28;01mfor\u001b[39;00m i \u001b[38;5;129;01min\u001b[39;00m \u001b[38;5;28mrange\u001b[39m(\u001b[38;5;28mself\u001b[39m\u001b[38;5;241m.\u001b[39min_dims):\n\u001b[1;32m    191\u001b[0m         \u001b[38;5;28;01mfor\u001b[39;00m j \u001b[38;5;129;01min\u001b[39;00m \u001b[38;5;28mrange\u001b[39m(\u001b[38;5;28mself\u001b[39m\u001b[38;5;241m.\u001b[39min_dims):\n\u001b[0;32m--> 192\u001b[0m             prod[i,j] \u001b[38;5;241m=\u001b[39m \u001b[43mtorch\u001b[49m\u001b[38;5;241;43m.\u001b[39;49m\u001b[43msum\u001b[49m\u001b[43m(\u001b[49m\u001b[43mJacob\u001b[49m\u001b[43m[\u001b[49m\u001b[43mk\u001b[49m\u001b[43m,\u001b[49m\u001b[43m:\u001b[49m\u001b[43m,\u001b[49m\u001b[43mi\u001b[49m\u001b[43m]\u001b[49m\u001b[43m \u001b[49m\u001b[38;5;241;43m*\u001b[39;49m\u001b[43m \u001b[49m\u001b[43mJacob\u001b[49m\u001b[43m[\u001b[49m\u001b[43mk\u001b[49m\u001b[43m,\u001b[49m\u001b[43m:\u001b[49m\u001b[43m,\u001b[49m\u001b[43mj\u001b[49m\u001b[43m]\u001b[49m\u001b[43m \u001b[49m\u001b[38;5;241;43m*\u001b[39;49m\u001b[43mtorch\u001b[49m\u001b[38;5;241;43m.\u001b[39;49m\u001b[43mexp\u001b[49m\u001b[43m(\u001b[49m\u001b[38;5;28;43mself\u001b[39;49m\u001b[38;5;241;43m.\u001b[39;49m\u001b[43mX_out\u001b[49m\u001b[43m[\u001b[49m\u001b[43mk\u001b[49m\u001b[43m,\u001b[49m\u001b[43m:\u001b[49m\u001b[43m]\u001b[49m\u001b[38;5;241;43m.\u001b[39;49m\u001b[43mfloat\u001b[49m\u001b[43m(\u001b[49m\u001b[43m)\u001b[49m\u001b[38;5;241;43m.\u001b[39;49m\u001b[43mcpu\u001b[49m\u001b[43m(\u001b[49m\u001b[43m)\u001b[49m\u001b[43m)\u001b[49m\u001b[43m)\u001b[49m\n\u001b[1;32m    194\u001b[0m     FIMetric[k,:,:] \u001b[38;5;241m=\u001b[39m prod\n\u001b[1;32m    196\u001b[0m \u001b[38;5;28;01mreturn\u001b[39;00m FIMetric\n",
      "\u001b[0;31mKeyboardInterrupt\u001b[0m: "
     ]
    }
   ],
   "source": [
    "\n",
    "for it in range(100):\n",
    "    opt.zero_grad()\n",
    "    _, out = aug_node(x0, torch.linspace(0, 1, 2))\n",
    "    pred = out[-1]  # batch, (1+dim)\n",
    "    length, predx = pred[:, 0], pred[:, 1:]\n",
    "\n",
    "    loss = 20 * torch.nn.MSELoss()(predx, x0) + torch.mean(length)\n",
    "    if it % 100 == 0:\n",
    "        print(loss.item())\n",
    "    loss.backward()\n",
    "    opt.step()\n",
    " \n",
    "    \n",
    "saveloss = []\n",
    "for it in range(300):\n",
    "    opt.zero_grad()\n",
    "    _, out = aug_node(x0, torch.linspace(0, 1, 31))\n",
    "    pred = out[-1]  # batch, (1+dim)\n",
    "    length, predx = pred[:, 0], pred[:, 1:]\n",
    "    len_loss = torch.mean(length)\n",
    "    mse = torch.nn.MSELoss()(predx, x1)\n",
    "    loss = len_loss + 10*mse\n",
    "    #loss = 10*mse\n",
    "    if it % 30 == 0:\n",
    "        print(loss.item(), len_loss.item(), mse.item())\n",
    "    saveloss.append(loss.item())\n",
    "    loss.backward()\n",
    "    opt.step()\n",
    "\n",
    "np.save(\"saved_data/FIMloss.npy\",np.array(saveloss))\n",
    "torch.save(net, \"FIM_metric_geodesic.pt\")\n"
   ]
  },
  {
   "cell_type": "code",
   "execution_count": 58,
   "id": "8ff16ab5",
   "metadata": {},
   "outputs": [],
   "source": [
    "def computeJSD(X):\n",
    "    \n",
    "    #NOTE: Input for this function is matrix where the rows are log-transformed probabilites\n",
    "\n",
    "    jsd = torch.zeros((X.shape[0],X.shape[0]))\n",
    "    for i in range(X.shape[0]):\n",
    "\n",
    "        p = X[i,:]\n",
    "        q = X\n",
    "        m = (0.5 * (p.exp() + q.exp()))\n",
    "        \n",
    "\n",
    "        kone = 0.5 *( (p.exp() * (p - m.log() ) ).sum(dim=1))\n",
    "        ktwo = 0.5 *( (q.exp() * (q - m.log() ) ).sum(dim=1))\n",
    "        k = kone + ktwo\n",
    "\n",
    "        jsd[i,:] = k\n",
    "     \n",
    "    jsd.fill_diagonal_(0) #setting diagonal to 0 to avoid nan's\n",
    "            \n",
    "    return jsd.to('cuda')"
   ]
  },
  {
   "cell_type": "code",
   "execution_count": 63,
   "id": "784b1d21",
   "metadata": {},
   "outputs": [],
   "source": [
    "\n",
    "#_, out = aug_node(x0, torch.linspace(0, 1, 11))\n",
    "\n",
    "#Load data\n",
    "n_obs=1500\n",
    "traind = random.sample(range(0,X.shape[0]),n_obs)\n",
    "ipsc_data, ipsc_emb = make_ipsc(n_obs=n_obs,emb_dim=2,knn=5,indx=traind)\n",
    "\n",
    "#Ground truth embedding with subset of IPSC data\n",
    "phate_op = phate.PHATE(random_state=42, verbose=False, knn=10,t=270).fit(ipsc_data.detach().cpu().numpy())\n",
    "diff_pot =torch.tensor(phate_op.diff_potential).float()\n",
    "diff_op = torch.tensor(phate_op.diff_op).float()\n",
    "\n",
    "gtdist = torch.sqrt( torch.abs(computeJSD(diff_pot)) )\n",
    "#gtdist = torch.sqrt( torch.abs(computeJSD(diff_op + 1e-7)) )\n",
    "mds_operator = MDS(dissimilarity='precomputed')\n",
    "phateJSDemb_IPSC = mds_operator.fit_transform(gtdist.detach().cpu().numpy())\n"
   ]
  },
  {
   "cell_type": "code",
   "execution_count": 64,
   "id": "b7696ef3",
   "metadata": {},
   "outputs": [
    {
     "data": {
      "text/plain": [
       "Text(0, 0.5, 'PHATE axis 2')"
      ]
     },
     "execution_count": 64,
     "metadata": {},
     "output_type": "execute_result"
    },
    {
     "data": {
      "image/png": "[encoded data removed]",
      "text/plain": [
       "<Figure size 432x288 with 1 Axes>"
      ]
     },
     "metadata": {
      "needs_background": "light"
     },
     "output_type": "display_data"
    }
   ],
   "source": [
    "plt.figure()\n",
    "plt.title(\"Ground truth embedding\",fontsize=16)\n",
    "plt.scatter(phateJSDemb_IPSC[:,0],phateJSDemb_IPSC[:,1])\n",
    "plt.xlabel(\"PHATE axis 1\",fontsize=16)\n",
    "plt.ylabel(\"PHATE axis 2\",fontsize=16)"
   ]
  },
  {
   "cell_type": "code",
   "execution_count": null,
   "id": "e4e54aae",
   "metadata": {},
   "outputs": [],
   "source": [
    "#Output geodesic\n",
    "\n",
    "x0 = torch.tensor(ipsc_data[rint,None,:]).cpu()\n",
    "x1 = torch.tensor(ipsc_data[mint,None,:]).cpu()\n",
    "\n",
    "print(x0.shape)\n",
    "print(x1.shape)"
   ]
  },
  {
   "cell_type": "code",
   "execution_count": 59,
   "id": "6cc833ef",
   "metadata": {},
   "outputs": [
    {
     "name": "stderr",
     "output_type": "stream",
     "text": [
      "/tmp/ipykernel_242994/3820564811.py:5: UserWarning: To copy construct from a tensor, it is recommended to use sourceTensor.clone().detach() or sourceTensor.clone().detach().requires_grad_(True), rather than torch.tensor(sourceTensor).\n",
      "  metric = torch.tensor(fishermat).cuda()\n"
     ]
    }
   ],
   "source": [
    "_, out = aug_node(x0, torch.linspace(0, 1, 31))\n",
    "geodesic= out.squeeze()[:,:-1]"
   ]
  },
  {
   "cell_type": "code",
   "execution_count": 66,
   "id": "4a7aca28",
   "metadata": {},
   "outputs": [
    {
     "name": "stdout",
     "output_type": "stream",
     "text": [
      "torch.Size([31, 33])\n",
      "torch.Size([1, 33])\n",
      "torch.Size([1, 33])\n",
      "(33, 33)\n",
      "(33, 3)\n"
     ]
    },
    {
     "data": {
      "text/plain": [
       "<matplotlib.collections.PathCollection at 0x2b32e18bb7f0>"
      ]
     },
     "execution_count": 66,
     "metadata": {},
     "output_type": "execute_result"
    },
    {
     "data": {
      "image/png": "[encoded data removed]",
      "text/plain": [
       "<Figure size 432x288 with 1 Axes>"
      ]
     },
     "metadata": {
      "needs_background": "light"
     },
     "output_type": "display_data"
    }
   ],
   "source": [
    "print(geodesic.shape)\n",
    "print(x0.shape)\n",
    "print(x1.shape)\n",
    "\n",
    "totalpath = np.concatenate((x0.cpu().detach().numpy(),geodesic.cpu().detach().numpy(),x1.cpu().detach().numpy()),axis=0)\n",
    "\n",
    "print(totalpath.shape)\n",
    "\n",
    "#Perform PCA and visualize\n",
    "\n",
    "pca = PCA(n_components=3)\n",
    "pca.fit(totalpath)\n",
    "pcapred = totalpath @ pca.components_.T\n",
    "print(pcapred.shape)\n",
    "\n",
    "plt.figure()\n",
    "plt.title(\"Geodesic learned (in red)\")\n",
    "plt.xlabel(\"PCA axis 1\")\n",
    "plt.ylabel(\"PCA axis 2\")\n",
    "#plt.scatter(pcapred[0,0],pcapred[0,1],c='black')\n",
    "plt.scatter(pcapred[:,0],pcapred[:,1],c='red')\n",
    "#plt.scatter(pcapred[-1,0],pcapred[-1,1],c='black')\n"
   ]
  },
  {
   "cell_type": "code",
   "execution_count": 70,
   "id": "c87a6019",
   "metadata": {},
   "outputs": [],
   "source": [
    "\n",
    "\n",
    "#Ground truth embedding with subset of IPSC data\n",
    "phate_op = phate.PHATE(random_state=42, verbose=False, knn=10,t=270).fit(pcapred)\n",
    "diff_pot =torch.tensor(phate_op.diff_potential).float()\n",
    "diff_op = torch.tensor(phate_op.diff_op).float()\n",
    "\n",
    "gtdist = torch.sqrt( torch.abs(computeJSD(diff_pot)) )\n",
    "#gtdist = torch.sqrt( torch.abs(computeJSD(diff_op + 1e-7)) )\n",
    "mds_operator = MDS(dissimilarity='precomputed')\n",
    "phateJSDemb_IPSC = mds_operator.fit_transform(gtdist.detach().cpu().numpy())\n"
   ]
  },
  {
   "cell_type": "code",
   "execution_count": 73,
   "id": "80326b35",
   "metadata": {},
   "outputs": [
    {
     "data": {
      "text/plain": [
       "<matplotlib.collections.PathCollection at 0x2b3359935030>"
      ]
     },
     "execution_count": 73,
     "metadata": {},
     "output_type": "execute_result"
    },
    {
     "data": {
      "image/png": "[encoded data removed]",
      "text/plain": [
       "<Figure size 432x288 with 1 Axes>"
      ]
     },
     "metadata": {
      "needs_background": "light"
     },
     "output_type": "display_data"
    },
    {
     "data": {
      "image/png": "[encoded data removed]",
      "text/plain": [
       "<Figure size 432x288 with 1 Axes>"
      ]
     },
     "metadata": {
      "needs_background": "light"
     },
     "output_type": "display_data"
    }
   ],
   "source": [
    "fig = plt.figure()\n",
    "ax = fig.add_subplot(projection='3d')\n",
    "ax.scatter(phateJSDemb_IPSC[:,0],phateJSDemb_IPSC[:,1],phateJSDemb_IPSC[:,1])\n",
    "\n",
    "plt.figure()\n",
    "plt.scatter(phateJSDemb_IPSC[:,0],phateJSDemb_IPSC[:,1])"
   ]
  }
 ],
 "metadata": {
  "kernelspec": {
   "display_name": "Python 3 (ipykernel)",
   "language": "python",
   "name": "python3"
  },
  "language_info": {
   "codemirror_mode": {
    "name": "ipython",
    "version": 3
   },
   "file_extension": ".py",
   "mimetype": "text/x-python",
   "name": "python",
   "nbconvert_exporter": "python",
   "pygments_lexer": "ipython3",
   "version": "3.10.4"
  }
 },
 "nbformat": 4,
 "nbformat_minor": 5
}
