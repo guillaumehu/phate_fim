{
 "cells": [
  {
   "cell_type": "markdown",
   "metadata": {},
   "source": [
    "Template to train the Autoencoder / Encoder"
   ]
  },
  {
   "cell_type": "code",
   "execution_count": 1,
   "metadata": {},
   "outputs": [
    {
     "name": "stderr",
     "output_type": "stream",
     "text": [
      "/home/mila/g/guillaume.huguet/.conda/envs/phate_fim/lib/python3.9/site-packages/tqdm/auto.py:22: TqdmWarning: IProgress not found. Please update jupyter and ipywidgets. See https://ipywidgets.readthedocs.io/en/stable/user_install.html\n",
      "  from .autonotebook import tqdm as notebook_tqdm\n"
     ]
    }
   ],
   "source": [
    "import sys\n",
    "import yaml\n",
    "import torch\n",
    "import pytorch_lightning as pl\n",
    "from pytorch_lightning import Trainer\n",
    "from pytorch_lightning.loggers import WandbLogger\n",
    "\n",
    "sys.path.append(\"../\")\n",
    "from src.models.lit_encoder import LitAutoencoder\n",
    "from src.data.make_dataset import train_dataloader"
   ]
  },
  {
   "cell_type": "code",
   "execution_count": 2,
   "metadata": {},
   "outputs": [],
   "source": [
    "# Data Parameters\n",
    "dataset = \"sphere\"\n",
    "n_obs = 1000\n",
    "n_dim = 10\n",
    "batch_size = 100\n",
    "\n",
    "# Model param\n",
    "input_dim = n_dim\n",
    "encoder_layer = [10, 10, 5]\n",
    "emb_dim = encoder_layer[-1]\n",
    "activation = \"ReLU\"\n",
    "lr = 0.001\n",
    "kernel_type = \"phate\"  # \"gaussian\" and \"phate\".\n",
    "loss_emb = True  # Embedding loss.\n",
    "bandwitdh = 1  # bandwitdh for the gaussian kernel\n",
    "t = 1  # time for the gaussian kernel. For PHATE, we use their optimal time.\n",
    "scale = 0.005  # scale when we add noise to do the data (before the encoder).\n",
    "\n",
    "# Trainer param\n",
    "max_epochs = 300\n",
    "fast_dev_run = False\n",
    "accelerator = \"gpu\"\n",
    "devices = 1\n",
    "\n",
    "exp_name = \"phate_emb\"\n",
    "seed = torch.randint(0, 1000, size=(1,))"
   ]
  },
  {
   "cell_type": "code",
   "execution_count": 3,
   "metadata": {},
   "outputs": [],
   "source": [
    "# Uncomment to save the params.\n",
    "\n",
    "# params = {\"dataset\":dataset, \"n_obs\":n_obs, \"n_dim\":n_dim, \"batch_size\":batch_size, \"input_dim\":input_dim, \"encoder_layer\":encoder_layer, \"activation\":activation, \"lr\":lr,\n",
    "#            \"kernel_type\":kernel_type, \"loss_emb\":loss_emb, \"max_epochs\":max_epochs, \"fast_dev_run\":fast_dev_run, \"accelerator\":accelerator, \"devices\":devices, \"exp_name\":exp_name, \"seed\":seed, \"bandwitdh\":bandwitdh, \"t\":t, \"scale\":scale}\n",
    "\n",
    "# with open(\"runs/param_\"+exp_name+\".yaml\",\"w\") as file:\n",
    "#     yaml.dump(params,file)"
   ]
  },
  {
   "cell_type": "code",
   "execution_count": 4,
   "metadata": {},
   "outputs": [
    {
     "name": "stderr",
     "output_type": "stream",
     "text": [
      "Failed to detect the name of this notebook, you can set it manually with the WANDB_NOTEBOOK_NAME environment variable to enable code saving.\n",
      "\u001b[34m\u001b[1mwandb\u001b[0m: Currently logged in as: \u001b[33mguillaumehu\u001b[0m. Use \u001b[1m`wandb login --relogin`\u001b[0m to force relogin\n"
     ]
    },
    {
     "data": {
      "text/html": [
       "Tracking run with wandb version 0.13.4"
      ],
      "text/plain": [
       "<IPython.core.display.HTML object>"
      ]
     },
     "metadata": {},
     "output_type": "display_data"
    },
    {
     "data": {
      "text/html": [
       "Run data is saved locally in <code>/home/mila/g/guillaume.huguet/Projects/phate_fim/notebooks/wandb/run-20221025_101849-2p1y7azo</code>"
      ],
      "text/plain": [
       "<IPython.core.display.HTML object>"
      ]
     },
     "metadata": {},
     "output_type": "display_data"
    },
    {
     "data": {
      "text/html": [
       "Syncing run <strong><a href=\"https://wandb.ai/guillaumehu/fim_phate/runs/2p1y7azo\" target=\"_blank\">phate_emb</a></strong> to <a href=\"https://wandb.ai/guillaumehu/fim_phate\" target=\"_blank\">Weights & Biases</a> (<a href=\"https://wandb.me/run\" target=\"_blank\">docs</a>)<br/>"
      ],
      "text/plain": [
       "<IPython.core.display.HTML object>"
      ]
     },
     "metadata": {},
     "output_type": "display_data"
    }
   ],
   "source": [
    "# If you want to save and view in Wandb\n",
    "wandb = True\n",
    "logger = WandbLogger(project=\"fim_phate\", name=exp_name) if wandb else False"
   ]
  },
  {
   "cell_type": "code",
   "execution_count": 5,
   "metadata": {},
   "outputs": [
    {
     "name": "stderr",
     "output_type": "stream",
     "text": [
      "Global seed set to 235\n",
      "GPU available: True (cuda), used: True\n",
      "TPU available: False, using: 0 TPU cores\n",
      "IPU available: False, using: 0 IPUs\n",
      "HPU available: False, using: 0 HPUs\n",
      "LOCAL_RANK: 0 - CUDA_VISIBLE_DEVICES: [0]\n",
      "\n",
      "  | Name    | Type       | Params\n",
      "---------------------------------------\n",
      "0 | encoder | Sequential | 275   \n",
      "---------------------------------------\n",
      "275       Trainable params\n",
      "0         Non-trainable params\n",
      "275       Total params\n",
      "0.001     Total estimated model params size (MB)\n",
      "/home/mila/g/guillaume.huguet/.conda/envs/phate_fim/lib/python3.9/site-packages/pytorch_lightning/trainer/connectors/data_connector.py:219: PossibleUserWarning: The dataloader, train_dataloader, does not have many workers which may be a bottleneck. Consider increasing the value of the `num_workers` argument` (try 64 which is the number of cpus on this machine) in the `DataLoader` init to improve performance.\n",
      "  rank_zero_warn(\n",
      "/home/mila/g/guillaume.huguet/.conda/envs/phate_fim/lib/python3.9/site-packages/pytorch_lightning/trainer/trainer.py:1894: PossibleUserWarning: The number of training batches (10) is smaller than the logging interval Trainer(log_every_n_steps=50). Set a lower value for log_every_n_steps if you want to see logs for the training epoch.\n",
      "  rank_zero_warn(\n"
     ]
    },
    {
     "name": "stdout",
     "output_type": "stream",
     "text": [
      "Epoch 299: 100%|██████████| 10/10 [00:00<00:00, 42.56it/s, loss=2.15, v_num=7azo]"
     ]
    },
    {
     "name": "stderr",
     "output_type": "stream",
     "text": [
      "`Trainer.fit` stopped: `max_epochs=300` reached.\n"
     ]
    },
    {
     "name": "stdout",
     "output_type": "stream",
     "text": [
      "Epoch 299: 100%|██████████| 10/10 [00:00<00:00, 41.79it/s, loss=2.15, v_num=7azo]\n"
     ]
    }
   ],
   "source": [
    "# SEED\n",
    "pl.utilities.seed.seed_everything(seed=seed)\n",
    "\n",
    "# data loader for the training set.\n",
    "train_loader = train_dataloader(dataset, n_obs, n_dim, emb_dim, batch_size)\n",
    "\n",
    "# Defining the pytorch lightning model.\n",
    "model = LitAutoencoder(\n",
    "    input_dim=input_dim,\n",
    "    encoder_layer=encoder_layer,\n",
    "    activation=activation,\n",
    "    lr=lr,\n",
    "    kernel_type=kernel_type,\n",
    "    loss_emb=loss_emb,\n",
    "    bandwitdh=bandwitdh,\n",
    "    t=t,\n",
    "    scale=scale,\n",
    ")\n",
    "\n",
    "# Defining the trainer\n",
    "# NOTE, we can add more things like gradient clipping, early stopping, Callbacks etc..\n",
    "# NOTE logger is set to `FALSE`, change to `True` to keep tracks of the metrics.\n",
    "# NOTE  `enable_checkpointing ` is set to `False`, set to `True` to keep checkpoints of the model.\n",
    "trainer = Trainer(\n",
    "    max_epochs=max_epochs,\n",
    "    fast_dev_run=fast_dev_run,\n",
    "    accelerator=accelerator,\n",
    "    devices=devices,\n",
    "    logger=logger,\n",
    "    enable_checkpointing=False,\n",
    ")\n",
    "\n",
    "# Train the model\n",
    "trainer.fit(model, train_dataloaders=train_loader)"
   ]
  },
  {
   "cell_type": "code",
   "execution_count": 6,
   "metadata": {},
   "outputs": [],
   "source": [
    "from src.data.make_dataset import make_n_sphere\n",
    "\n",
    "X, Y = make_n_sphere(dim=n_dim)"
   ]
  },
  {
   "cell_type": "code",
   "execution_count": 7,
   "metadata": {},
   "outputs": [
    {
     "data": {
      "text/plain": [
       "<matplotlib.collections.PathCollection at 0x7feb203b6640>"
      ]
     },
     "execution_count": 7,
     "metadata": {},
     "output_type": "execute_result"
    },
    {
     "data": {
      "image/png": "[encoded data removed]",
      "text/plain": [
       "<Figure size 640x480 with 1 Axes>"
      ]
     },
     "metadata": {},
     "output_type": "display_data"
    }
   ],
   "source": [
    "pred = model.forward(X)\n",
    "import matplotlib.pyplot as plt\n",
    "\n",
    "pred = pred.detach().cpu().numpy()\n",
    "plt.scatter(pred[:, 0], pred[:, 1])"
   ]
  },
  {
   "cell_type": "code",
   "execution_count": null,
   "metadata": {},
   "outputs": [],
   "source": []
  }
 ],
 "metadata": {
  "kernelspec": {
   "display_name": "Python 3.9.13 64-bit ('phate_fim')",
   "language": "python",
   "name": "python3"
  },
  "language_info": {
   "codemirror_mode": {
    "name": "ipython",
    "version": 3
   },
   "file_extension": ".py",
   "mimetype": "text/x-python",
   "name": "python",
   "nbconvert_exporter": "python",
   "pygments_lexer": "ipython3",
   "version": "3.9.13"
  },
  "orig_nbformat": 4,
  "vscode": {
   "interpreter": {
    "hash": "f7bc1b261a3930786ff7512c929c0e745642bbe1778e8183529f18f1cbcafab1"
   }
  }
 },
 "nbformat": 4,
 "nbformat_minor": 2
}
