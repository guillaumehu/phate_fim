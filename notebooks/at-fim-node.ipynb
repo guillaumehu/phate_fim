{
 "cells": [
  {
   "cell_type": "code",
   "execution_count": 140,
   "id": "45053767-c678-43be-9af3-84aaf34311b3",
   "metadata": {},
   "outputs": [
    {
     "name": "stdout",
     "output_type": "stream",
     "text": [
      "The lab_black extension is already loaded. To reload it, use:\n",
      "  %reload_ext lab_black\n"
     ]
    }
   ],
   "source": [
    "%load_ext lab_black\n",
    "import sys\n",
    "import yaml\n",
    "import phate\n",
    "import torch\n",
    "import pytorch_lightning as pl\n",
    "from pytorch_lightning import Trainer\n",
    "from pytorch_lightning.loggers import WandbLogger\n",
    "import matplotlib.pyplot as plt\n",
    "from sklearn.manifold import MDS\n",
    "import scipy\n",
    "import numpy as np\n",
    "from math import pi\n",
    "import matplotlib.pyplot as plt\n",
    "from typing import Optional, List\n",
    "from torchdyn.core import NeuralODE\n",
    "\n",
    "\n",
    "def sphere_metric(x):\n",
    "    n = x.shape[0]\n",
    "    theta, phi = x[:, 0], x[:, 1]\n",
    "\n",
    "    metric = torch.zeros(n, 2, 2)\n",
    "    metric[:, 0, 0] = 1\n",
    "    metric[:, 1, 1] = torch.sin(theta) ** 2\n",
    "    return metric\n",
    "\n",
    "\n",
    "def polar_to_euc(mat):\n",
    "    \"\"\"mat (np.array): N X D\n",
    "    N: number of observation in the path\n",
    "    D: dimension (theta,psi)\"\"\"\n",
    "    N, D = mat.shape\n",
    "    coor = np.empty((N, 3))\n",
    "    for i in range(N):\n",
    "        theta, psi = mat[i, :]\n",
    "        coor[i, :] = (\n",
    "            np.sin(theta) * np.cos(psi),\n",
    "            np.sin(theta) * np.sin(psi),\n",
    "            np.cos(theta),\n",
    "        )\n",
    "\n",
    "    return coor\n",
    "\n",
    "\n",
    "def euc_to_polar(mat):\n",
    "    \"\"\"mat (np.array) N X 3 return the corresponding polar coordinates.\"\"\"\n",
    "    N, _ = mat.shape\n",
    "    coor = np.empty((N, 2))\n",
    "    for i in range(N):\n",
    "        x, y, z = mat[i, :]\n",
    "        coor[i, :] = (np.arctan((np.sqrt(x**2 + y**2) / z)), np.arctan(y / x))\n",
    "    return coor\n",
    "\n",
    "\n",
    "def great_circle(x0, x1, omega):\n",
    "    \"\"\"Great circle passing by `x0` and `x1`.\"\"\"\n",
    "    u = x0\n",
    "    w = np.cross(x0, x1)\n",
    "    w = w / np.linalg.norm(w)\n",
    "    v = np.cross(u, w)\n",
    "\n",
    "    return u * np.cos(omega) + v * np.sin(omega)\n",
    "\n",
    "\n",
    "def path_interval(path):\n",
    "    theta_min = 0 <= path[:, 0].min()\n",
    "    theta_max = path[:, 0].max() <= pi\n",
    "    theta = theta_min and theta_max\n",
    "    psi_min = 0 <= path[:, 1].min()\n",
    "    psi_max = path[:, 1].max() <= 2 * pi\n",
    "    psi = psi_min and psi_max\n",
    "\n",
    "    return theta, psi\n",
    "\n",
    "\n",
    "from torch import nn\n",
    "\n",
    "ACTIVATION_MAP = {\n",
    "    \"relu\": nn.ReLU,\n",
    "    \"sigmoid\": nn.Sigmoid,\n",
    "    \"tanh\": nn.Tanh,\n",
    "    \"selu\": nn.SELU,\n",
    "    \"elu\": nn.ELU,\n",
    "    \"lrelu\": nn.LeakyReLU,\n",
    "    \"softplus\": nn.Softplus,\n",
    "}\n",
    "\n",
    "\n",
    "class SimpleDenseNet(nn.Module):\n",
    "    def __init__(\n",
    "        self,\n",
    "        input_size: int,\n",
    "        target_size: int,\n",
    "        activation: str,\n",
    "        batch_norm: bool = True,\n",
    "        hidden_dims: Optional[List[int]] = None,\n",
    "    ):\n",
    "        super().__init__()\n",
    "        if hidden_dims is None:\n",
    "            hidden_dims = [256, 256, 256]\n",
    "        dims = [input_size, *hidden_dims, target_size]\n",
    "        layers = []\n",
    "        for i in range(len(dims) - 2):\n",
    "            layers.append(nn.Linear(dims[i], dims[i + 1]))\n",
    "            if batch_norm:\n",
    "                layers.append(nn.BatchNorm1d(dims[i + 1]))\n",
    "            layers.append(ACTIVATION_MAP[activation]())\n",
    "        layers.append(nn.Linear(dims[-2], dims[-1]))\n",
    "        self.model = nn.Sequential(*layers)\n",
    "\n",
    "    def forward(self, x):\n",
    "        return self.model(x)\n",
    "\n",
    "\n",
    "class TimeInvariantVelocityNet(SimpleDenseNet):\n",
    "    def __init__(self, dim: int, *args, **kwargs):\n",
    "        super().__init__(input_size=dim, target_size=dim, *args, **kwargs)\n",
    "\n",
    "    def forward(self, t, x):\n",
    "        \"\"\"ignore t run model.\"\"\"\n",
    "        del t\n",
    "        return self.model(x)\n",
    "\n",
    "\n",
    "class VelocityNet(SimpleDenseNet):\n",
    "    def __init__(self, dim: int, *args, **kwargs):\n",
    "        super().__init__(input_size=dim + 1, target_size=dim, *args, **kwargs)\n",
    "\n",
    "    def forward(self, t, x):\n",
    "        \"\"\"ignore t run model.\"\"\"\n",
    "        if t.dim() < 2:\n",
    "            t = t.repeat(x.shape[0])[:, None]\n",
    "        x = torch.cat([t, x], dim=-1)\n",
    "        return self.model(x)\n",
    "\n",
    "\n",
    "class Regularizer(nn.Module):\n",
    "    def __init__(self):\n",
    "        pass\n",
    "\n",
    "\n",
    "def _batch_root_mean_squared(tensor):\n",
    "    tensor = tensor.view(tensor.shape[0], -1)\n",
    "    return torch.norm(tensor, p=2, dim=1) / tensor.shape[1] ** 0.5\n",
    "\n",
    "\n",
    "class RegularizationFunc(nn.Module):\n",
    "    def forward(self, t, x, dx, context) -> torch.Tensor:\n",
    "        \"\"\"Outputs a batch of scaler regularizations.\"\"\"\n",
    "        raise NotImplementedError\n",
    "\n",
    "\n",
    "class L1Reg(RegularizationFunc):\n",
    "    def forward(self, t, x, dx, context) -> torch.Tensor:\n",
    "        return torch.mean(torch.abs(dx), dim=1)\n",
    "\n",
    "\n",
    "class L2Reg(RegularizationFunc):\n",
    "    def forward(self, t, x, dx, context) -> torch.Tensor:\n",
    "        return _batch_root_mean_squared(dx)\n",
    "\n",
    "\n",
    "class SphereReg(RegularizationFunc):\n",
    "    def forward(self, t, x, dx, context) -> torch.Tensor:\n",
    "        return torch.einsum(\"bi,bij,bj->b\", dx, sphere_metric(x), dx)\n",
    "\n",
    "\n",
    "class SquaredL2Reg(RegularizationFunc):\n",
    "    def forward(self, t, x, dx, context) -> torch.Tensor:\n",
    "        to_return = dx.view(dx.shape[0], -1)\n",
    "        return torch.pow(torch.norm(to_return, p=2, dim=1), 2)\n",
    "\n",
    "\n",
    "def _get_minibatch_jacobian(y, x, create_graph=True):\n",
    "    \"\"\"Computes the Jacobian of y wrt x assuming minibatch-mode.\n",
    "    Args:\n",
    "      y: (N, ...) with a total of D_y elements in ...\n",
    "      x: (N, ...) with a total of D_x elements in ...\n",
    "    Returns:\n",
    "      The minibatch Jacobian matrix of shape (N, D_y, D_x)\n",
    "    \"\"\"\n",
    "    # assert y.shape[0] == x.shape[0]\n",
    "    y = y.view(y.shape[0], -1)\n",
    "\n",
    "    # Compute Jacobian row by row.\n",
    "    jac = []\n",
    "    for j in range(y.shape[1]):\n",
    "        dy_j_dx = torch.autograd.grad(\n",
    "            y[:, j],\n",
    "            x,\n",
    "            torch.ones_like(y[:, j]),\n",
    "            retain_graph=True,\n",
    "            create_graph=create_graph,\n",
    "        )[0]\n",
    "        jac.append(torch.unsqueeze(dy_j_dx, -1))\n",
    "    jac = torch.cat(jac, -1)\n",
    "    return jac\n",
    "\n",
    "\n",
    "class JacobianFrobeniusReg(RegularizationFunc):\n",
    "    def forward(self, t, x, dx, context) -> torch.Tensor:\n",
    "        if hasattr(context, \"jac\"):\n",
    "            jac = context.jac\n",
    "        else:\n",
    "            jac = _get_minibatch_jacobian(dx, x)\n",
    "            context.jac = jac\n",
    "        jac = _get_minibatch_jacobian(dx, x)\n",
    "        context.jac = jac\n",
    "        return _batch_root_mean_squared(jac)\n",
    "\n",
    "\n",
    "class JacobianDiagFrobeniusReg(RegularizationFunc):\n",
    "    def forward(self, t, x, dx, context) -> torch.Tensor:\n",
    "        if hasattr(context, \"jac\"):\n",
    "            jac = context.jac\n",
    "        else:\n",
    "            jac = _get_minibatch_jacobian(dx, x)\n",
    "            context.jac = jac\n",
    "        diagonal = jac.view(jac.shape[0], -1)[\n",
    "            :, :: jac.shape[1]\n",
    "        ]  # assumes jac is minibatch square, ie. (N, M, M).\n",
    "        return _batch_root_mean_squared(diagonal)\n",
    "\n",
    "\n",
    "class JacobianOffDiagFrobeniusReg(RegularizationFunc):\n",
    "    def forward(self, t, x, dx, context) -> torch.Tensor:\n",
    "        if hasattr(context, \"jac\"):\n",
    "            jac = context.jac\n",
    "        else:\n",
    "            jac = _get_minibatch_jacobian(dx, x)\n",
    "            context.jac = jac\n",
    "        diagonal = jac.view(jac.shape[0], -1)[\n",
    "            :, :: jac.shape[1]\n",
    "        ]  # assumes jac is minibatch square, ie. (N, M, M).\n",
    "        ss_offdiag = torch.sum(jac.view(jac.shape[0], -1) ** 2, dim=1) - torch.sum(\n",
    "            diagonal**2, dim=1\n",
    "        )\n",
    "        ms_offdiag = ss_offdiag / (diagonal.shape[1] * (diagonal.shape[1] - 1))\n",
    "        return ms_offdiag\n",
    "\n",
    "\n",
    "def autograd_trace(x_out, x_in, **kwargs):\n",
    "    \"\"\"Standard brute-force means of obtaining trace of the Jacobian, O(d) calls to autograd.\"\"\"\n",
    "    trJ = 0.0\n",
    "    for i in range(x_in.shape[1]):\n",
    "        trJ += torch.autograd.grad(\n",
    "            x_out[:, i].sum(), x_in, allow_unused=False, create_graph=True\n",
    "        )[0][:, i]\n",
    "    return trJ\n",
    "\n",
    "\n",
    "class CNFReg(RegularizationFunc):\n",
    "    def __init__(self, trace_estimator=None, noise_dist=None):\n",
    "        super().__init__()\n",
    "        self.trace_estimator = (\n",
    "            trace_estimator if trace_estimator is not None else autograd_trace\n",
    "        )\n",
    "        self.noise_dist, self.noise = noise_dist, None\n",
    "\n",
    "    def forward(self, t, x, dx, context):\n",
    "        # TODO we could check if jac is in the context to speed up\n",
    "        return -self.trace_estimator(dx, x, noise=self.noise)\n",
    "\n",
    "\n",
    "class AugmentationModule(nn.Module):\n",
    "    \"\"\"Class orchestrating augmentations.\n",
    "    Also establishes order.\n",
    "    \"\"\"\n",
    "\n",
    "    def __init__(\n",
    "        self,\n",
    "        cnf_estimator: str = None,\n",
    "        l1_reg: float = 0.0,\n",
    "        l2_reg: float = 0.0,\n",
    "        sphere_reg: float = 0.0,\n",
    "        squared_l2_reg: float = 0.0,\n",
    "        jacobian_frobenius_reg: float = 0.0,\n",
    "        jacobian_diag_frobenius_reg: float = 0.0,\n",
    "        jacobian_off_diag_frobenius_reg: float = 0.0,\n",
    "    ) -> None:\n",
    "        super().__init__()\n",
    "        self.cnf_estimator = cnf_estimator\n",
    "        names = []\n",
    "        coeffs = []\n",
    "        regs = []\n",
    "        if cnf_estimator == \"exact\":\n",
    "            names.append(\"log_prob\")\n",
    "            coeffs.append(1)\n",
    "            regs.append(CNFReg(None, noise_dist=None))\n",
    "        if l1_reg > 0.0:\n",
    "            names.append(\"L1\")\n",
    "            coeffs.append(l1_reg)\n",
    "            regs.append(L1Reg())\n",
    "        if l2_reg > 0.0:\n",
    "            names.append(\"L2\")\n",
    "            coeffs.append(l2_reg)\n",
    "            regs.append(L2Reg())\n",
    "        if sphere_reg > 0.0:\n",
    "            names.append(\"Sphere metric\")\n",
    "            coeffs.append(sphere_reg)\n",
    "            regs.append(SphereReg())\n",
    "        if squared_l2_reg > 0.0:\n",
    "            names.append(\"squared_L2\")\n",
    "            coeffs.append(squared_l2_reg)\n",
    "            regs.append(SquaredL2Reg())\n",
    "        if jacobian_frobenius_reg > 0.0:\n",
    "            names.append(\"jacobian_frobenius\")\n",
    "            coeffs.append(jacobian_frobenius_reg)\n",
    "            regs.append(JacobianFrobeniusReg())\n",
    "        if jacobian_diag_frobenius_reg > 0.0:\n",
    "            names.append(\"jacobian_diag_frobenius\")\n",
    "            coeffs.append(jacobian_diag_frobenius_reg)\n",
    "            regs.append(JacobianDiagFrobeniusReg())\n",
    "        if jacobian_off_diag_frobenius_reg > 0.0:\n",
    "            names.append(\"jacobian_off_diag_frobenius\")\n",
    "            coeffs.append(jacobian_off_diag_frobenius_reg)\n",
    "            regs.append(JacobianOffDiagFrobeniusReg())\n",
    "        self.names = names\n",
    "        self.coeffs = torch.tensor(coeffs)\n",
    "        self.regs = torch.nn.ModuleList(regs)\n",
    "        assert len(self.coeffs) == len(self.regs)\n",
    "        self.aug_dims = len(self.coeffs)\n",
    "        self.augmenter = Augmenter(augment_idx=1, augment_dims=self.aug_dims)\n",
    "\n",
    "    def forward(self, x):\n",
    "        \"\"\"Separates and adds together losses.\"\"\"\n",
    "        if self.cnf_estimator is None:\n",
    "            aug, x = x[:, : self.aug_dims], x[:, self.aug_dims :]\n",
    "            reg = aug * self.coeffs\n",
    "            if self.aug_dims == 0:\n",
    "                reg = torch.zeros(1).type_as(x)\n",
    "            return reg, x\n",
    "        delta_logprob, aug, x = x[:, :1], x[:, 1 : self.aug_dims], x[:, self.aug_dims :]\n",
    "        reg = aug * self.coeffs[1:].to(aug)\n",
    "        if self.aug_dims == 1:\n",
    "            reg = torch.zeros(1).type_as(x)\n",
    "        return delta_logprob, reg, x\n",
    "\n",
    "\n",
    "class Augmenter(nn.Module):\n",
    "    \"\"\"Augmentation class. Can handle several types of augmentation strategies for Neural DEs.\n",
    "    :param augment_dims: number of augmented dimensions to initialize\n",
    "    :type augment_dims: int\n",
    "    :param augment_idx: index of dimension to augment\n",
    "    :type augment_idx: int\n",
    "    :param augment_func: nn.Module applied to the input datasets of dimension `d` to determine the augmented initial condition of dimension `d + a`.\n",
    "                        `a` is defined implicitly in `augment_func` e.g. augment_func=nn.Linear(2, 5) augments a 2 dimensional input with 3 additional dimensions.\n",
    "    :type augment_func: nn.Module\n",
    "    :param order: whether to augment before datasets [augmentation, x] or after [x, augmentation] along dimension `augment_idx`. Options: ('first', 'last')\n",
    "    :type order: str\n",
    "    \"\"\"\n",
    "\n",
    "    def __init__(\n",
    "        self,\n",
    "        augment_idx: int = 1,\n",
    "        augment_dims: int = 5,\n",
    "        augment_func=None,\n",
    "        order=\"first\",\n",
    "    ):\n",
    "        super().__init__()\n",
    "        self.augment_dims, self.augment_idx, self.augment_func = (\n",
    "            augment_dims,\n",
    "            augment_idx,\n",
    "            augment_func,\n",
    "        )\n",
    "        self.order = order\n",
    "\n",
    "    def forward(self, x: torch.Tensor, ts: torch.Tensor):\n",
    "        if not self.augment_func:\n",
    "            new_dims = list(x.shape)\n",
    "            new_dims[self.augment_idx] = self.augment_dims\n",
    "\n",
    "            # if-else check for augmentation order\n",
    "            if self.order == \"first\":\n",
    "                x = torch.cat([torch.zeros(new_dims).to(x), x], self.augment_idx)\n",
    "            else:\n",
    "                x = torch.cat([x, torch.zeros(new_dims).to(x)], self.augment_idx)\n",
    "        else:\n",
    "            # if-else check for augmentation order\n",
    "            if self.order == \"first\":\n",
    "                x = torch.cat([self.augment_func(x).to(x), x], self.augment_idx)\n",
    "            else:\n",
    "                x = torch.cat([x, self.augment_func(x).to(x)], self.augment_idx)\n",
    "        return x, ts\n",
    "\n",
    "\n",
    "class AugmentedVectorField(nn.Module):\n",
    "    \"\"\"NeuralODE but augmented state.\n",
    "    Preprends Augmentations to state for easy integration over time\n",
    "    \"\"\"\n",
    "\n",
    "    def __init__(self, net, augmentation_list: nn.ModuleList):\n",
    "        super().__init__()\n",
    "        self.net = net\n",
    "        self.augmentation_list = augmentation_list\n",
    "\n",
    "    def forward(self, t, state, augmented_input=True):\n",
    "        n_aug = len(self.augmentation_list)\n",
    "\n",
    "        class SharedContext:\n",
    "            pass\n",
    "\n",
    "        with torch.set_grad_enabled(True):\n",
    "            # first dimensions reserved for augmentations\n",
    "            x = state\n",
    "            if augmented_input:\n",
    "                x = x[:, n_aug:].requires_grad_(True)\n",
    "\n",
    "            # the neural network will handle the data-dynamics here\n",
    "            dx = self.net(t, x)\n",
    "            if n_aug == 0:\n",
    "                return dx\n",
    "            # x_out = x_out.squeeze(dim=1)\n",
    "\n",
    "            augs = [\n",
    "                aug_fn(t, x, dx, SharedContext) for aug_fn in self.augmentation_list\n",
    "            ]\n",
    "            augs = torch.stack(augs, dim=1)\n",
    "        # `+ 0*state` has the only purpose of connecting state[:, 0] to autograd graph\n",
    "        return torch.cat([augs, dx], 1) + (0 * state if augmented_input else 0)\n",
    "\n",
    "\n",
    "class Sequential(nn.Sequential):\n",
    "    \"\"\"A sequential module which handles multiple inputs.\"\"\"\n",
    "\n",
    "    def forward(self, *input):\n",
    "        for module in self._modules.values():\n",
    "            input = module(*input)\n",
    "        return input\n",
    "\n",
    "\n",
    "class SphereVelocityNet(SimpleDenseNet):\n",
    "    def __init__(self, dim: int, *args, **kwargs):\n",
    "        super().__init__(input_size=dim + 1, target_size=dim, *args, **kwargs)\n",
    "\n",
    "    def forward(self, t, x):\n",
    "        x = torch.stack(\n",
    "            [\n",
    "                torch.remainder(x[:, 0], torch.pi),\n",
    "                torch.remainder(x[:, 1], 2 * torch.pi),\n",
    "            ],\n",
    "            dim=1,\n",
    "        )\n",
    "        if t.dim() < 2:\n",
    "            t = t.repeat(x.shape[0])[:, None]\n",
    "        x = torch.cat([t, x], dim=-1)\n",
    "        return self.model(x)"
   ]
  },
  {
   "cell_type": "code",
   "execution_count": 141,
   "id": "06ebf4d5-7a40-4e8d-ad7d-eb57f3f3009a",
   "metadata": {},
   "outputs": [],
   "source": [
    "net = SphereVelocityNet(\n",
    "    2, hidden_dims=[64, 64, 64], activation=\"selu\", batch_norm=False\n",
    ")"
   ]
  },
  {
   "cell_type": "code",
   "execution_count": 142,
   "id": "36fe5a6b-6199-420a-981a-2a7c92212a33",
   "metadata": {},
   "outputs": [],
   "source": [
    "augmentations = AugmentationModule(sphere_reg=1)"
   ]
  },
  {
   "cell_type": "code",
   "execution_count": 143,
   "id": "e466c94b-f377-45d7-b736-869ab496f242",
   "metadata": {},
   "outputs": [
    {
     "data": {
      "text/plain": [
       "AugmentationModule(\n",
       "  (regs): ModuleList(\n",
       "    (0): SphereReg()\n",
       "  )\n",
       "  (augmenter): Augmenter()\n",
       ")"
      ]
     },
     "execution_count": 143,
     "metadata": {},
     "output_type": "execute_result"
    }
   ],
   "source": [
    "augmentations"
   ]
  },
  {
   "cell_type": "code",
   "execution_count": 144,
   "id": "7b3777bd-dc48-4d2e-8a28-bd5553427a4b",
   "metadata": {},
   "outputs": [
    {
     "data": {
      "text/plain": [
       "AugmentedVectorField(\n",
       "  (net): SphereVelocityNet(\n",
       "    (model): Sequential(\n",
       "      (0): Linear(in_features=3, out_features=64, bias=True)\n",
       "      (1): SELU()\n",
       "      (2): Linear(in_features=64, out_features=64, bias=True)\n",
       "      (3): SELU()\n",
       "      (4): Linear(in_features=64, out_features=64, bias=True)\n",
       "      (5): SELU()\n",
       "      (6): Linear(in_features=64, out_features=2, bias=True)\n",
       "    )\n",
       "  )\n",
       "  (augmentation_list): ModuleList(\n",
       "    (0): SphereReg()\n",
       "  )\n",
       ")"
      ]
     },
     "execution_count": 144,
     "metadata": {},
     "output_type": "execute_result"
    }
   ],
   "source": [
    "aug_net = AugmentedVectorField(net, augmentations.regs)\n",
    "aug_net"
   ]
  },
  {
   "cell_type": "code",
   "execution_count": 193,
   "id": "8ea91112-e206-49e6-a58e-c90c5cc8adb0",
   "metadata": {},
   "outputs": [
    {
     "data": {
      "text/plain": [
       "Sequential(\n",
       "  (0): Augmenter()\n",
       "  (1): Neural ODE:\n",
       "  \t- order: 1        \n",
       "  \t- solver: RungeKutta4()\n",
       "  \t- adjoint solver: RungeKutta4()        \n",
       "  \t- tolerances: relative 0.001 absolute 0.001        \n",
       "  \t- adjoint tolerances: relative 0.0001 absolute 0.0001        \n",
       "  \t- num_parameters: 8706        \n",
       "  \t- NFE: 0.0\n",
       ")"
      ]
     },
     "execution_count": 193,
     "metadata": {},
     "output_type": "execute_result"
    }
   ],
   "source": [
    "aug_node = Sequential(\n",
    "    augmentations.augmenter, NeuralODE(aug_net, sensitivity=\"adjoint\", solver=\"rk4\")\n",
    ")\n",
    "aug_node"
   ]
  },
  {
   "cell_type": "code",
   "execution_count": 207,
   "id": "6ded31b7-8210-4c42-a24c-808b3980c934",
   "metadata": {},
   "outputs": [],
   "source": [
    "init = 0.0\n",
    "end = pi / 2\n",
    "delta = end - init\n",
    "# x is (theta, phi)\n",
    "# theta \\in [0, pi] phi \\in [0, 2pi]\n",
    "x0 = torch.tensor([pi / 4, init]).view(1, 2)\n",
    "x1 = torch.tensor([pi / 4, end]).view(1, 2)\n",
    "x0_e = polar_to_euc(x0)\n",
    "x1_e = polar_to_euc(x1)"
   ]
  },
  {
   "cell_type": "code",
   "execution_count": 208,
   "id": "3db161b2-71b2-4362-94e5-56123a7fbe1c",
   "metadata": {},
   "outputs": [],
   "source": [
    "opt = torch.optim.AdamW(params=aug_node.parameters(), lr=0.001)"
   ]
  },
  {
   "cell_type": "code",
   "execution_count": 209,
   "id": "2143ecdb-57b7-40df-82cb-a42c46c21f62",
   "metadata": {},
   "outputs": [
    {
     "name": "stdout",
     "output_type": "stream",
     "text": [
      "12.76259994506836\n"
     ]
    },
    {
     "name": "stderr",
     "output_type": "stream",
     "text": [
      "/home/mila/a/alexander.tong/.conda/envs/trajectory-inference/lib/python3.10/site-packages/torchdyn/numerics/odeint.py:84: UserWarning: Setting tolerances has no effect on fixed-step methods\n",
      "  warn(\"Setting tolerances has no effect on fixed-step methods\")\n"
     ]
    },
    {
     "name": "stdout",
     "output_type": "stream",
     "text": [
      "12.854013442993164 0.31760579347610474 1.2536407709121704\n",
      "1.0130503177642822 0.8795534372329712 0.013349685817956924\n",
      "0.9899228811264038 0.8912687301635742 0.009865418076515198\n",
      "0.9864424467086792 0.8950098752975464 0.00914325937628746\n",
      "0.985438883304596 0.8954482078552246 0.008999066427350044\n",
      "0.9846641421318054 0.8949803709983826 0.008968374691903591\n",
      "0.9840288162231445 0.8944153785705566 0.00896134041249752\n",
      "0.983544111251831 0.8939177393913269 0.008962638676166534\n",
      "0.9831949472427368 0.8935394883155823 0.008965548127889633\n",
      "0.9829511642456055 0.8932572603225708 0.008969390764832497\n"
     ]
    }
   ],
   "source": [
    "for it in range(100):\n",
    "    opt.zero_grad()\n",
    "    _, out = aug_node(x0, torch.linspace(0, 1, 2))\n",
    "    pred = out[-1]  # batch, (1+dim)\n",
    "    length, predx = pred[:, 0], pred[:, 1:]\n",
    "\n",
    "    loss = 10 * torch.nn.MSELoss()(predx, x0) + torch.mean(length)\n",
    "    if it % 100 == 0:\n",
    "        print(loss.item())\n",
    "    loss.backward()\n",
    "    opt.step()\n",
    "for it in range(1000):\n",
    "    opt.zero_grad()\n",
    "    _, out = aug_node(x0, torch.linspace(0, 1, 51))\n",
    "    pred = out[-1]  # batch, (1+dim)\n",
    "    length, predx = pred[:, 0], pred[:, 1:]\n",
    "    len_loss = torch.mean(length)\n",
    "    mse = torch.nn.MSELoss()(predx, x1)\n",
    "    loss = len_loss + 10 * mse\n",
    "    if it % 100 == 0:\n",
    "        print(loss.item(), len_loss.item(), mse.item())\n",
    "    loss.backward()\n",
    "    opt.step()"
   ]
  },
  {
   "cell_type": "code",
   "execution_count": 206,
   "id": "a33d04f6-a7c6-4477-b74c-c893664a83e0",
   "metadata": {
    "jupyter": {
     "source_hidden": true
    },
    "tags": []
   },
   "outputs": [],
   "source": [
    "torch.save(net, \"netv1.pt\")"
   ]
  },
  {
   "cell_type": "code",
   "execution_count": 210,
   "id": "38cd6da0-f657-40df-8548-97839c2cc0d8",
   "metadata": {},
   "outputs": [],
   "source": [
    "_, out = aug_node(x0, torch.linspace(0, 1, 51))"
   ]
  },
  {
   "cell_type": "code",
   "execution_count": 211,
   "id": "0782f418-a4c2-408d-9e87-be47917f2efb",
   "metadata": {},
   "outputs": [],
   "source": [
    "path = out.detach().numpy()[:, 0, 1:]"
   ]
  },
  {
   "cell_type": "code",
   "execution_count": 212,
   "id": "03e1c0ad-3864-40b5-ada5-80120f94caf0",
   "metadata": {},
   "outputs": [],
   "source": [
    "path_euc = polar_to_euc(out.detach().numpy()[:, 0, 1:])\n",
    "geodesic = great_circle(x0_e, x1_e, np.linspace(init, -end, 100).reshape(100, 1))"
   ]
  },
  {
   "cell_type": "code",
   "execution_count": 213,
   "id": "8520c147-54dd-4c25-b9ae-53cd5e737ffb",
   "metadata": {},
   "outputs": [
    {
     "data": {
      "image/png": "[encoded data removed]",
      "text/plain": [
       "<Figure size 640x480 with 1 Axes>"
      ]
     },
     "metadata": {},
     "output_type": "display_data"
    }
   ],
   "source": [
    "fig = plt.figure()\n",
    "ax = fig.add_subplot(projection=\"3d\")\n",
    "ax.scatter(path_euc[:, 0], path_euc[:, 1], path_euc[:, 2], c=list(range(51)))\n",
    "ax.scatter(x0_e[0, 0], x0_e[0, 1], x0_e[0, 2], c=\"blue\")\n",
    "ax.scatter(x1_e[0, 0], x1_e[0, 1], x1_e[0, 2], c=\"red\")\n",
    "u, v = np.mgrid[0 : 2 * np.pi : 30j, 0 : np.pi : 20j]\n",
    "x = np.cos(u) * np.sin(v)\n",
    "y = np.sin(u) * np.sin(v)\n",
    "z = np.cos(v)\n",
    "ax.plot_surface(x, y, z, cmap=plt.cm.YlGnBu_r, alpha=0.3)\n",
    "ax.plot(geodesic[:, 0], geodesic[:, 1], geodesic[:, 2], c=\"black\")\n",
    "plt.show()"
   ]
  },
  {
   "cell_type": "code",
   "execution_count": 214,
   "id": "d05496ad-3a59-4415-8f84-18316e48550d",
   "metadata": {},
   "outputs": [
    {
     "data": {
      "text/plain": [
       "(tensor([[0.7854, 0.0000]]), tensor([[0.7854, 1.5708]]))"
      ]
     },
     "execution_count": 214,
     "metadata": {},
     "output_type": "execute_result"
    }
   ],
   "source": [
    "x0, x1"
   ]
  },
  {
   "cell_type": "code",
   "execution_count": 219,
   "id": "ab6edf02-354b-4b26-8f0f-ff52a468f14f",
   "metadata": {},
   "outputs": [
    {
     "data": {
      "text/plain": [
       "array([[0.7853982 , 0.        ],\n",
       "       [0.77158993, 0.02042525],\n",
       "       [0.7582404 , 0.04158374],\n",
       "       [0.74533904, 0.06348556],\n",
       "       [0.73285615, 0.08610367],\n",
       "       [0.72077537, 0.10947065],\n",
       "       [0.70905167, 0.13363253],\n",
       "       [0.6976569 , 0.15858757],\n",
       "       [0.68648267, 0.18437631],\n",
       "       [0.67554265, 0.21099566],\n",
       "       [0.6649534 , 0.23836139],\n",
       "       [0.65473914, 0.26644343],\n",
       "       [0.6449032 , 0.29525068],\n",
       "       [0.635464  , 0.32481632],\n",
       "       [0.62652713, 0.3551127 ],\n",
       "       [0.6181464 , 0.38613325],\n",
       "       [0.61036056, 0.41787735],\n",
       "       [0.60325575, 0.4503319 ],\n",
       "       [0.596906  , 0.48339382],\n",
       "       [0.59132576, 0.5169917 ],\n",
       "       [0.586456  , 0.5510479 ],\n",
       "       [0.582285  , 0.58551276],\n",
       "       [0.5787945 , 0.6206083 ],\n",
       "       [0.5760296 , 0.6561865 ],\n",
       "       [0.57408655, 0.691962  ],\n",
       "       [0.5729075 , 0.72770286],\n",
       "       [0.572248  , 0.7632043 ],\n",
       "       [0.5721293 , 0.79836917],\n",
       "       [0.5725141 , 0.83308345],\n",
       "       [0.57337904, 0.8672462 ],\n",
       "       [0.5746975 , 0.9008703 ],\n",
       "       [0.5764809 , 0.9340114 ],\n",
       "       [0.5787179 , 0.9666407 ],\n",
       "       [0.5814041 , 0.9987823 ],\n",
       "       [0.5845341 , 1.0304475 ],\n",
       "       [0.58809394, 1.0616221 ],\n",
       "       [0.5920598 , 1.0923234 ],\n",
       "       [0.596424  , 1.1225632 ],\n",
       "       [0.60117865, 1.1523298 ],\n",
       "       [0.6063203 , 1.1816236 ],\n",
       "       [0.61186516, 1.2104748 ],\n",
       "       [0.6178289 , 1.2389064 ],\n",
       "       [0.6242116 , 1.2669303 ],\n",
       "       [0.6310098 , 1.2945563 ],\n",
       "       [0.6382227 , 1.3217914 ],\n",
       "       [0.6458484 , 1.3486434 ],\n",
       "       [0.6538516 , 1.3751212 ],\n",
       "       [0.66219574, 1.4012344 ],\n",
       "       [0.67087257, 1.4269978 ],\n",
       "       [0.6798753 , 1.4524293 ],\n",
       "       [0.68920106, 1.477577  ]], dtype=float32)"
      ]
     },
     "execution_count": 219,
     "metadata": {},
     "output_type": "execute_result"
    }
   ],
   "source": [
    "path"
   ]
  },
  {
   "cell_type": "code",
   "execution_count": 220,
   "id": "a75be2c0-9ae3-400b-ae6e-f6c815e9918a",
   "metadata": {},
   "outputs": [
    {
     "data": {
      "text/plain": [
       "tensor([[0.7854, 0.0000],\n",
       "        [0.7854, 1.5708]])"
      ]
     },
     "execution_count": 220,
     "metadata": {},
     "output_type": "execute_result"
    }
   ],
   "source": [
    "torch.cat([x0, x1])"
   ]
  },
  {
   "cell_type": "code",
   "execution_count": 221,
   "id": "edb93d6c-6fab-4a57-857c-cffd0fcfc9bf",
   "metadata": {},
   "outputs": [
    {
     "data": {
      "text/plain": [
       "<AxesSubplot: >"
      ]
     },
     "execution_count": 221,
     "metadata": {},
     "output_type": "execute_result"
    },
    {
     "data": {
      "image/png": "[encoded data removed]",
      "text/plain": [
       "<Figure size 640x480 with 1 Axes>"
      ]
     },
     "metadata": {},
     "output_type": "display_data"
    }
   ],
   "source": [
    "import scprep\n",
    "\n",
    "fig, ax = plt.subplots(1, 1)\n",
    "scprep.plot.scatter2d(path, ax=ax)\n",
    "scprep.plot.scatter2d(torch.cat([x0, x1]).numpy(), ax=ax)"
   ]
  },
  {
   "cell_type": "code",
   "execution_count": 205,
   "id": "28f02efc-6166-4d51-ab8e-8ea56a9221ba",
   "metadata": {},
   "outputs": [
    {
     "data": {
      "text/plain": [
       "<AxesSubplot: >"
      ]
     },
     "execution_count": 205,
     "metadata": {},
     "output_type": "execute_result"
    },
    {
     "data": {
      "image/png": "[encoded data removed]",
      "text/plain": [
       "<Figure size 640x480 with 1 Axes>"
      ]
     },
     "metadata": {},
     "output_type": "display_data"
    }
   ],
   "source": [
    "import scprep\n",
    "\n",
    "fig, ax = plt.subplots(1, 1)\n",
    "scprep.plot.scatter2d(path, ax=ax)\n",
    "scprep.plot.scatter2d(torch.cat([x0, x1]).numpy(), ax=ax)"
   ]
  },
  {
   "cell_type": "code",
   "execution_count": null,
   "id": "6d98af88-1be3-4333-bf46-74c4e39b1170",
   "metadata": {},
   "outputs": [],
   "source": []
  }
 ],
 "metadata": {
  "kernelspec": {
   "display_name": "Python 3 (ipykernel)",
   "language": "python",
   "name": "python3"
  },
  "language_info": {
   "codemirror_mode": {
    "name": "ipython",
    "version": 3
   },
   "file_extension": ".py",
   "mimetype": "text/x-python",
   "name": "python",
   "nbconvert_exporter": "python",
   "pygments_lexer": "ipython3",
   "version": "3.10.8"
  }
 },
 "nbformat": 4,
 "nbformat_minor": 5
}
